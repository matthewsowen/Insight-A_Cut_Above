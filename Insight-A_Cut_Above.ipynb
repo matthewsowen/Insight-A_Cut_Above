{
 "cells": [
  {
   "cell_type": "code",
   "execution_count": 897,
   "metadata": {},
   "outputs": [],
   "source": [
    "import pandas as pd\n",
    "import numpy as np\n",
    "import requests\n",
    "from bs4 import BeautifulSoup\n",
    "import sklearn\n",
    "import seaborn as sns\n",
    "import matplotlib as mp\n",
    "import matplotlib.pyplot as plt\n",
    "import time\n",
    "import re\n",
    "from statistics import mean"
   ]
  },
  {
   "cell_type": "code",
   "execution_count": null,
   "metadata": {},
   "outputs": [],
   "source": []
  },
  {
   "cell_type": "code",
   "execution_count": 1,
   "metadata": {},
   "outputs": [],
   "source": [
    "#State ID codes stored to help loop through website\n",
    "state_codes = ('AL','AK','AZ','AR','CA','CO','CT','DE','DC','FL','GA','HI','ID','IL','IN','IA','KS','KY','LA',\n",
    "              'ME','MD','MA','MI','MN','MS','MO','MT','NE','NV','NH','NJ','NM','NY','NC','ND','OH','OK','OR','PA',\n",
    "              'RI','SC','SD','TN','TX','UT','VT','VA','WA','WV','WI','WY')"
   ]
  },
  {
   "cell_type": "code",
   "execution_count": null,
   "metadata": {},
   "outputs": [],
   "source": []
  },
  {
   "cell_type": "code",
   "execution_count": 4,
   "metadata": {},
   "outputs": [],
   "source": [
    "#Information about the results of each surgeon is found on a unique webpage\n",
    "#The URLs for these webpages are present in tables organized by state\n",
    "#This code will iterate through the each state's results pages and extract surgeon name, URL, and surgeon's NPI number\n",
    "\n",
    "\n",
    "#Construct a dataframe to store scraped information\n",
    "Scrape = pd.DataFrame(columns = ['Surgeon', 'NPI', 'URL'])\n",
    "\n",
    "\n",
    "#Loop will move through the results from each state and scrape information\n",
    "for state in state_codes:\n",
    "\n",
    "    #Variables for the while loop\n",
    "    are_entries = True\n",
    "    count = 1\n",
    "\n",
    "    #While loop will iterate through each page of results for each state and stops when a page has no entries\n",
    "    while are_entries == True:\n",
    "\n",
    "        time.sleep(1)  #Institutes a short delay to not overwhelm website with requests\n",
    "\n",
    "        #BeautifulSoup parses webpage HTML and isolates the table\n",
    "        Sg = requests.get('https://www.checkbook.org/surgeonratings/Major-Bowel-Surgery/{}?Page={}'.format(state, str(count))).text\n",
    "        Sg_soup = BeautifulSoup(Sg, 'lxml')\n",
    "        Sg_table = Sg_soup.find('table')\n",
    "\n",
    "\n",
    "        Doc = Sg_table.find_all('a')     #Gathers the entries in the webpage table\n",
    "\n",
    "        count += 1     #Advances the count variable so next loop progresses to next page\n",
    "\n",
    "        #Stop the while loop if the table in the webpage has no entries\n",
    "        if len(Doc) == 0:\n",
    "\n",
    "            are_entries = False\n",
    "            pass\n",
    "\n",
    "        #If the page has entries then enter for loop to extract info\n",
    "        else:\n",
    "\n",
    "            #loops through each entry from the website table\n",
    "            for i in range(len(Doc)):\n",
    "\n",
    "                #Regular expression searches to find locations of relevant info in each entry\n",
    "                re1 = re.search('\\\">.*<', str(Doc[i]))\n",
    "                re2 = re.search('/\"', str(Doc[i]))\n",
    "                re3 = re.search('(?<=\\=)\\S+\\\"', str(Doc[i]))\n",
    "\n",
    "\n",
    "                #temporary dataframe to hold extracted info for each doctor\n",
    "                df = pd.DataFrame([[str(Doc[i])[re1.span()[0]+2 : re1.span()[1]-2],\n",
    "                                    str(Doc[i])[re2.span()[0]-10 : re2.span()[0]],\n",
    "                                   'www.checkbook.org' + str(Doc[i])[re3.span()[0]+1 : re3.span()[1]-1]]],   #Domain portion of URL must be added\n",
    "                                 columns = ['Surgeon', 'NPI', 'URL']) \n",
    "\n",
    "                #append each temporary dataframe to end of Scrape to build it row by row\n",
    "                Scrape = Scrape.append(df, ignore_index = True)\n"
   ]
  },
  {
   "cell_type": "code",
   "execution_count": 915,
   "metadata": {},
   "outputs": [],
   "source": [
    "#Code to scrape and extract surgeon name, URL, and surgeon's NPI number for Lung Surgeons\n",
    "\n",
    "\n",
    "#Construct a dataframe to store scraped information\n",
    "Scrape2 = pd.DataFrame(columns = ['Surgeon', 'NPI', 'URL'])\n",
    "\n",
    "\n",
    "#Loop will move through the results from each state and scrape information\n",
    "for state in state_codes:\n",
    "    #Variables for the while loop\n",
    "    are_entries = True\n",
    "    count = 1\n",
    "\n",
    "    #While loop will iterate through each page of results for each state and stops when a page has no entries\n",
    "    while are_entries == True:\n",
    "\n",
    "        time.sleep(0.4)  #Institutes a short delay to not overwhelm website with requests\n",
    "\n",
    "        #BeautifulSoup parses webpage HTML and isolates the table\n",
    "        Sg = requests.get('https://www.checkbook.org/surgeonratings/Lung-Surgery/{}?Page={}'.format(state, str(count))).text\n",
    "        Sg_soup = BeautifulSoup(Sg, 'lxml')\n",
    "        Sg_table = Sg_soup.find('table')\n",
    "\n",
    "\n",
    "        Doc = Sg_table.find_all('a')     #Gathers the entries in the webpage table\n",
    "\n",
    "        count += 1     #Advances the count variable so next loop progresses to next page\n",
    "\n",
    "        #Stop the while loop if the table in the webpage has no entries\n",
    "        if len(Doc) == 0:\n",
    "\n",
    "            are_entries = False\n",
    "            pass\n",
    "\n",
    "        #If the page has entries then enter for loop to extract info\n",
    "        else:\n",
    "\n",
    "            #loops through each entry from the website table\n",
    "            for i in range(len(Doc)):\n",
    "\n",
    "                #Regular expression searches to find locations of relevant info in each entry\n",
    "                re1 = re.search('\\\">.*<', str(Doc[i]))\n",
    "                re2 = re.search('/\"', str(Doc[i]))\n",
    "                re3 = re.search('(?<=\\=)\\S+\\\"', str(Doc[i]))\n",
    "\n",
    "\n",
    "                #temporary dataframe to hold extracted info for each doctor\n",
    "                df = pd.DataFrame([[str(Doc[i])[re1.span()[0]+2 : re1.span()[1]-2],\n",
    "                                    str(Doc[i])[re2.span()[0]-10 : re2.span()[0]],\n",
    "                                   'www.checkbook.org' + str(Doc[i])[re3.span()[0]+1 : re3.span()[1]-1]]],   #Domain portion of URL must be added\n",
    "                                 columns = ['Surgeon', 'NPI', 'URL']) \n",
    "\n",
    "                #append each temporary dataframe to end of Scrape to build it row by row\n",
    "                Scrape2 = Scrape2.append(df, ignore_index = True)\n"
   ]
  },
  {
   "cell_type": "code",
   "execution_count": 916,
   "metadata": {},
   "outputs": [
    {
     "data": {
      "text/plain": [
       "(1345, 3)"
      ]
     },
     "execution_count": 916,
     "metadata": {},
     "output_type": "execute_result"
    }
   ],
   "source": [
    "Scrape2.shape"
   ]
  },
  {
   "cell_type": "code",
   "execution_count": 919,
   "metadata": {},
   "outputs": [],
   "source": [
    "Scrape2.to_csv('/Users/matthewowen/Desktop/Insight/Lung_Surgeon_URLs.csv')"
   ]
  },
  {
   "cell_type": "code",
   "execution_count": 918,
   "metadata": {},
   "outputs": [
    {
     "data": {
      "text/html": [
       "<div>\n",
       "<style scoped>\n",
       "    .dataframe tbody tr th:only-of-type {\n",
       "        vertical-align: middle;\n",
       "    }\n",
       "\n",
       "    .dataframe tbody tr th {\n",
       "        vertical-align: top;\n",
       "    }\n",
       "\n",
       "    .dataframe thead th {\n",
       "        text-align: right;\n",
       "    }\n",
       "</style>\n",
       "<table border=\"1\" class=\"dataframe\">\n",
       "  <thead>\n",
       "    <tr style=\"text-align: right;\">\n",
       "      <th></th>\n",
       "      <th>Surgeon</th>\n",
       "      <th>NPI</th>\n",
       "      <th>URL</th>\n",
       "    </tr>\n",
       "  </thead>\n",
       "  <tbody>\n",
       "    <tr>\n",
       "      <td>1325</td>\n",
       "      <td>Dr. John A. Johnkoski</td>\n",
       "      <td>1992737035</td>\n",
       "      <td>www.checkbook.org/surgeonratings/Lung-Surgery/...</td>\n",
       "    </tr>\n",
       "    <tr>\n",
       "      <td>1326</td>\n",
       "      <td>Dr. David W. Johnstone</td>\n",
       "      <td>1366470627</td>\n",
       "      <td>www.checkbook.org/surgeonratings/Lung-Surgery/...</td>\n",
       "    </tr>\n",
       "    <tr>\n",
       "      <td>1327</td>\n",
       "      <td>Dr. Santosh N. Krishnan</td>\n",
       "      <td>1629020391</td>\n",
       "      <td>www.checkbook.org/surgeonratings/Lung-Surgery/...</td>\n",
       "    </tr>\n",
       "    <tr>\n",
       "      <td>1328</td>\n",
       "      <td>Dr. Chong Chin Lee</td>\n",
       "      <td>1497855647</td>\n",
       "      <td>www.checkbook.org/surgeonratings/Lung-Surgery/...</td>\n",
       "    </tr>\n",
       "    <tr>\n",
       "      <td>1329</td>\n",
       "      <td>Dr. Vincent Gregory Lee</td>\n",
       "      <td>1548421886</td>\n",
       "      <td>www.checkbook.org/surgeonratings/Lung-Surgery/...</td>\n",
       "    </tr>\n",
       "    <tr>\n",
       "      <td>1330</td>\n",
       "      <td>Dr. Hope S. Maki</td>\n",
       "      <td>1326148768</td>\n",
       "      <td>www.checkbook.org/surgeonratings/Lung-Surgery/...</td>\n",
       "    </tr>\n",
       "    <tr>\n",
       "      <td>1331</td>\n",
       "      <td>Dr. James D. Maloney</td>\n",
       "      <td>1386695047</td>\n",
       "      <td>www.checkbook.org/surgeonratings/Lung-Surgery/...</td>\n",
       "    </tr>\n",
       "    <tr>\n",
       "      <td>1332</td>\n",
       "      <td>Dr. Peter H. Marks</td>\n",
       "      <td>1558327320</td>\n",
       "      <td>www.checkbook.org/surgeonratings/Lung-Surgery/...</td>\n",
       "    </tr>\n",
       "    <tr>\n",
       "      <td>1333</td>\n",
       "      <td>Dr. Daniel P. O'Hair</td>\n",
       "      <td>1851370852</td>\n",
       "      <td>www.checkbook.org/surgeonratings/Lung-Surgery/...</td>\n",
       "    </tr>\n",
       "    <tr>\n",
       "      <td>1334</td>\n",
       "      <td>Dr. Daryl P. Pearlstein</td>\n",
       "      <td>1831118140</td>\n",
       "      <td>www.checkbook.org/surgeonratings/Lung-Surgery/...</td>\n",
       "    </tr>\n",
       "    <tr>\n",
       "      <td>1335</td>\n",
       "      <td>Dr. Charles F. Reuben</td>\n",
       "      <td>1720025638</td>\n",
       "      <td>www.checkbook.org/surgeonratings/Lung-Surgery/...</td>\n",
       "    </tr>\n",
       "    <tr>\n",
       "      <td>1336</td>\n",
       "      <td>Dr. Fernando A. Riveron</td>\n",
       "      <td>1568493427</td>\n",
       "      <td>www.checkbook.org/surgeonratings/Lung-Surgery/...</td>\n",
       "    </tr>\n",
       "    <tr>\n",
       "      <td>1337</td>\n",
       "      <td>Dr. Alexander Roitstein</td>\n",
       "      <td>1255358685</td>\n",
       "      <td>www.checkbook.org/surgeonratings/Lung-Surgery/...</td>\n",
       "    </tr>\n",
       "    <tr>\n",
       "      <td>1338</td>\n",
       "      <td>Dr. John Forrest Seccombe</td>\n",
       "      <td>1922026780</td>\n",
       "      <td>www.checkbook.org/surgeonratings/Lung-Surgery/...</td>\n",
       "    </tr>\n",
       "    <tr>\n",
       "      <td>1339</td>\n",
       "      <td>Dr. Paul E. Seifert</td>\n",
       "      <td>1609839406</td>\n",
       "      <td>www.checkbook.org/surgeonratings/Lung-Surgery/...</td>\n",
       "    </tr>\n",
       "    <tr>\n",
       "      <td>1340</td>\n",
       "      <td>Dr. John M. Snider</td>\n",
       "      <td>1235180167</td>\n",
       "      <td>www.checkbook.org/surgeonratings/Lung-Surgery/...</td>\n",
       "    </tr>\n",
       "    <tr>\n",
       "      <td>1341</td>\n",
       "      <td>Dr. William B. Tisol</td>\n",
       "      <td>1932150695</td>\n",
       "      <td>www.checkbook.org/surgeonratings/Lung-Surgery/...</td>\n",
       "    </tr>\n",
       "    <tr>\n",
       "      <td>1342</td>\n",
       "      <td>Dr. John L. Waciuma</td>\n",
       "      <td>1194797407</td>\n",
       "      <td>www.checkbook.org/surgeonratings/Lung-Surgery/...</td>\n",
       "    </tr>\n",
       "    <tr>\n",
       "      <td>1343</td>\n",
       "      <td>Dr. Robert J. Wiechmann</td>\n",
       "      <td>1659333953</td>\n",
       "      <td>www.checkbook.org/surgeonratings/Lung-Surgery/...</td>\n",
       "    </tr>\n",
       "    <tr>\n",
       "      <td>1344</td>\n",
       "      <td>Dr. Kenneth M. Wolnak</td>\n",
       "      <td>1982744678</td>\n",
       "      <td>www.checkbook.org/surgeonratings/Lung-Surgery/...</td>\n",
       "    </tr>\n",
       "  </tbody>\n",
       "</table>\n",
       "</div>"
      ],
      "text/plain": [
       "                        Surgeon         NPI  \\\n",
       "1325      Dr. John A. Johnkoski  1992737035   \n",
       "1326     Dr. David W. Johnstone  1366470627   \n",
       "1327    Dr. Santosh N. Krishnan  1629020391   \n",
       "1328         Dr. Chong Chin Lee  1497855647   \n",
       "1329    Dr. Vincent Gregory Lee  1548421886   \n",
       "1330           Dr. Hope S. Maki  1326148768   \n",
       "1331       Dr. James D. Maloney  1386695047   \n",
       "1332         Dr. Peter H. Marks  1558327320   \n",
       "1333       Dr. Daniel P. O'Hair  1851370852   \n",
       "1334    Dr. Daryl P. Pearlstein  1831118140   \n",
       "1335      Dr. Charles F. Reuben  1720025638   \n",
       "1336    Dr. Fernando A. Riveron  1568493427   \n",
       "1337    Dr. Alexander Roitstein  1255358685   \n",
       "1338  Dr. John Forrest Seccombe  1922026780   \n",
       "1339        Dr. Paul E. Seifert  1609839406   \n",
       "1340         Dr. John M. Snider  1235180167   \n",
       "1341       Dr. William B. Tisol  1932150695   \n",
       "1342        Dr. John L. Waciuma  1194797407   \n",
       "1343    Dr. Robert J. Wiechmann  1659333953   \n",
       "1344      Dr. Kenneth M. Wolnak  1982744678   \n",
       "\n",
       "                                                    URL  \n",
       "1325  www.checkbook.org/surgeonratings/Lung-Surgery/...  \n",
       "1326  www.checkbook.org/surgeonratings/Lung-Surgery/...  \n",
       "1327  www.checkbook.org/surgeonratings/Lung-Surgery/...  \n",
       "1328  www.checkbook.org/surgeonratings/Lung-Surgery/...  \n",
       "1329  www.checkbook.org/surgeonratings/Lung-Surgery/...  \n",
       "1330  www.checkbook.org/surgeonratings/Lung-Surgery/...  \n",
       "1331  www.checkbook.org/surgeonratings/Lung-Surgery/...  \n",
       "1332  www.checkbook.org/surgeonratings/Lung-Surgery/...  \n",
       "1333  www.checkbook.org/surgeonratings/Lung-Surgery/...  \n",
       "1334  www.checkbook.org/surgeonratings/Lung-Surgery/...  \n",
       "1335  www.checkbook.org/surgeonratings/Lung-Surgery/...  \n",
       "1336  www.checkbook.org/surgeonratings/Lung-Surgery/...  \n",
       "1337  www.checkbook.org/surgeonratings/Lung-Surgery/...  \n",
       "1338  www.checkbook.org/surgeonratings/Lung-Surgery/...  \n",
       "1339  www.checkbook.org/surgeonratings/Lung-Surgery/...  \n",
       "1340  www.checkbook.org/surgeonratings/Lung-Surgery/...  \n",
       "1341  www.checkbook.org/surgeonratings/Lung-Surgery/...  \n",
       "1342  www.checkbook.org/surgeonratings/Lung-Surgery/...  \n",
       "1343  www.checkbook.org/surgeonratings/Lung-Surgery/...  \n",
       "1344  www.checkbook.org/surgeonratings/Lung-Surgery/...  "
      ]
     },
     "execution_count": 918,
     "metadata": {},
     "output_type": "execute_result"
    }
   ],
   "source": [
    "Scrape2.tail(20)"
   ]
  },
  {
   "cell_type": "code",
   "execution_count": 925,
   "metadata": {},
   "outputs": [],
   "source": [
    "L_Surgeon_res = pd.DataFrame(columns = ['Surgeons', 'NPI', 'URL', 'Gender', 'Surgery Volume', 'Med School', 'Med Year',\n",
    "                           'Residency', 'Certifications', 'Hospitals', '# Death Cases', 'Death Rate', \n",
    "                           '# Problem Cases', 'Problem Rate'])\n",
    "\n",
    "L_problem_list = ['']"
   ]
  },
  {
   "cell_type": "code",
   "execution_count": null,
   "metadata": {},
   "outputs": [],
   "source": []
  },
  {
   "cell_type": "code",
   "execution_count": 926,
   "metadata": {},
   "outputs": [
    {
     "name": "stdout",
     "output_type": "stream",
     "text": [
      "Problem with Dr. Peter N/a Pluscht\n",
      "Problem with Dr. Robert Jay Standerfer\n",
      "Problem with Dr. David J. Cziperle\n",
      "Problem with Dr. Robert J. Robbins\n",
      "Problem with Dr. Mahesh K. Ramchandani\n"
     ]
    }
   ],
   "source": [
    "#Code for taking Surgeon URLs and scraping their individual information from checkbook.org\n",
    "\n",
    "\n",
    "count = 0\n",
    "\n",
    "\n",
    "for URL in Scrape2['URL']:\n",
    "\n",
    "    \n",
    "    try:\n",
    "        #Navigate to website and parse HTML\n",
    "        rq = requests.get('http://' + URL).text\n",
    "        time.sleep(0.25)\n",
    "        rq_soup = BeautifulSoup(rq, 'lxml')\n",
    "        rq_table = rq_soup.find('table')\n",
    "\n",
    "\n",
    "\n",
    "        #isolates part of html with doctor names and number of cases\n",
    "        title = list(rq_soup.findAll('div', {'class' : 'yTitle'}))\n",
    "\n",
    "        d_cases = re.search('span>\\((\\w+)\\W', str(title[0]))\n",
    "        b_cases = re.search('span>\\((\\w+)\\W', str(title[1]))\n",
    "\n",
    "        if 'cases' in str(title[0]):\n",
    "            death_cases = int(d_cases[1])\n",
    "        else:\n",
    "            death_cases = -99\n",
    "\n",
    "        if 'cases' in str(title[1]):\n",
    "            bad_cases = int(b_cases[1])\n",
    "        else:\n",
    "            bad_cases = -99\n",
    "\n",
    "\n",
    "\n",
    "        #isolates part of html with the percentages of deaths and bad outcomes\n",
    "        pcts = list(rq_soup.findAll('div', {'class' : 'mediumVal'}))\n",
    "        pctl = len(pcts)\n",
    "\n",
    "        if pctl == 1:\n",
    "            death_pct = -99\n",
    "        else:\n",
    "            dpct_loc = re.search('\">[0-9.]+%</div', str(pcts[0]))\n",
    "            death_pct = float(str(pcts[0])[dpct_loc.span()[0]+2 : dpct_loc.span()[1]-6])\n",
    "\n",
    "\n",
    "        bpct_loc = re.search('\">[0-9.]+%</div', str(pcts[pctl-1]))\n",
    "        bad_pct = float(str(pcts[pctl-1])[bpct_loc.span()[0]+2 : bpct_loc.span()[1]-6])\n",
    "\n",
    "        \n",
    "        #regular expression finds location of hospital names\n",
    "        hosps= re.findall('</span>\\w+(?:\\W+[a-zA-Z0-9()]+){1,13}?</li>' , str(rq_table))\n",
    "        hosp_list = ''\n",
    "\n",
    "        for i in range(len(hosps)):\n",
    "\n",
    "            hosp_list = hosp_list + hosps[i][7:-5] + ';'\n",
    "\n",
    "\n",
    "        #\n",
    "        table_entries = list(rq_soup.findAll('td', {'class' : 'alignCenter'}))\n",
    "\n",
    "        #identifies the gender of the physician\n",
    "        if 'Male' in str(table_entries[1]):\n",
    "            gender = 'Male'\n",
    "        else:\n",
    "            gender = 'Female'\n",
    "\n",
    "        #isolates string for what relative volume of surgery they perform\n",
    "        volume = str(table_entries[5])[25:-6]\n",
    "\n",
    "        if len(volume) == 0:\n",
    "            volume = 'N/A'      #empty entry gets recorded as N/A\n",
    "\n",
    "        #isolates string for their medical school, if indicated\n",
    "        med_school = str(table_entries[6])[25:-16]\n",
    "\n",
    "        if len(str(table_entries[6])[25:-16]) == 0:\n",
    "            med_school = 'N/A'      #empty entry gets recorded as N/A\n",
    "\n",
    "        #isolates string for med school graduation year, if indicated\n",
    "        med_year = str(table_entries[6])[-10:-6]\n",
    "\n",
    "        if len(str(table_entries[6])[25:-16]) == 0:\n",
    "            med_year = 'N/A'       #empty entry gets recorded as N/A\n",
    "\n",
    "        #isolates string for internship and/or residency program\n",
    "        res = str(table_entries[7])\n",
    "\n",
    "        if len(res) < 35:\n",
    "            residency = 'N/A'      #empty entry gets recorded as N/A\n",
    "\n",
    "        else:\n",
    "            resid = re.findall('px;\">\\w+(?:\\W+[a-zA-Z]+){1,10}?</div>' , res)\n",
    "\n",
    "            residency = resid[0][5:-6]\n",
    "\n",
    "\n",
    "        #breaks table into a list of elements with the <ul> tag\n",
    "        ul = rq_table.findAll('ul')\n",
    "\n",
    "        #last element of above list contains board certifications\n",
    "        #the string is split where </li> tags are to separate different certifications\n",
    "        li_split = (str(ul[-1])).split('</li>')\n",
    "\n",
    "        #if statement signifies if no certificate info is present\n",
    "        if 'certificate' not in str(li_split):\n",
    "            cert_list = 'None'\n",
    "\n",
    "        else:\n",
    "\n",
    "            #starts string with first certification\n",
    "            cert_list = li_split[0][38:len(li_split[0])]\n",
    "\n",
    "            #loop adds any other certifications separated by semicolons\n",
    "            for i in range(len(li_split)-2):\n",
    "\n",
    "                cert_list = cert_list + ';' + li_split[i+1][5:len(li_split[i+1])]\n",
    "\n",
    "        #converts ampersands to 'and' thus getting rid of problematic semicolon\n",
    "        cert_list = cert_list.replace('&amp;', 'and')\n",
    "        residency = residency.replace('&amp;', 'and')\n",
    "        hosp_list = hosp_list.replace('&amp;', 'and')\n",
    "        med_school = med_school.replace('&amp;', 'and')\n",
    "\n",
    "\n",
    "        #Builds a temporary dataframe that can be appended to the main one during each iteration of the loop\n",
    "        df = pd.DataFrame([[Scrape2.iloc[count, 0], Scrape2.iloc[count, 1], Scrape2.iloc[count, 2],\n",
    "                           gender, volume, med_school, med_year, residency, cert_list, hosp_list,\n",
    "                           death_cases, death_pct, bad_cases, bad_pct]],\n",
    "                          columns = ['Surgeons', 'NPI', 'URL', 'Gender', 'Surgery Volume', 'Med School', 'Med Year',\n",
    "                               'Residency', 'Certifications', 'Hospitals', '# Death Cases', 'Death Rate', \n",
    "                               '# Problem Cases', 'Problem Rate'])\n",
    "\n",
    "\n",
    "        L_Surgeon_res = L_Surgeon_res.append(df, ignore_index = True)\n",
    "\n",
    "\n",
    "    except:\n",
    "        print('Problem with ' + Scrape2['Surgeon'][count])\n",
    "        L_problem_list.append(Scrape2['Surgeon'][count])\n",
    "        \n",
    "    count +=1"
   ]
  },
  {
   "cell_type": "code",
   "execution_count": 928,
   "metadata": {},
   "outputs": [
    {
     "data": {
      "text/plain": [
       "(1340, 14)"
      ]
     },
     "execution_count": 928,
     "metadata": {},
     "output_type": "execute_result"
    }
   ],
   "source": [
    "L_Surgeon_res.shape"
   ]
  },
  {
   "cell_type": "code",
   "execution_count": 929,
   "metadata": {},
   "outputs": [],
   "source": [
    "L_Surgeon_res.to_csv('/Users/matthewowen/Desktop/Insight/L_Surgeon_Training_Set.csv')"
   ]
  },
  {
   "cell_type": "code",
   "execution_count": 350,
   "metadata": {},
   "outputs": [
    {
     "data": {
      "text/plain": [
       "False"
      ]
     },
     "execution_count": 350,
     "metadata": {},
     "output_type": "execute_result"
    }
   ],
   "source": [
    "'Hospital' in Surgeon_res['Hospitals']"
   ]
  },
  {
   "cell_type": "code",
   "execution_count": null,
   "metadata": {},
   "outputs": [],
   "source": []
  },
  {
   "cell_type": "code",
   "execution_count": 260,
   "metadata": {},
   "outputs": [
    {
     "data": {
      "text/html": [
       "<div>\n",
       "<style scoped>\n",
       "    .dataframe tbody tr th:only-of-type {\n",
       "        vertical-align: middle;\n",
       "    }\n",
       "\n",
       "    .dataframe tbody tr th {\n",
       "        vertical-align: top;\n",
       "    }\n",
       "\n",
       "    .dataframe thead th {\n",
       "        text-align: right;\n",
       "    }\n",
       "</style>\n",
       "<table border=\"1\" class=\"dataframe\">\n",
       "  <thead>\n",
       "    <tr style=\"text-align: right;\">\n",
       "      <th></th>\n",
       "      <th>Surgeons</th>\n",
       "      <th>NPI</th>\n",
       "      <th>URL</th>\n",
       "      <th>Gender</th>\n",
       "      <th>Surgery Volume</th>\n",
       "      <th>Med School</th>\n",
       "      <th>Med Year</th>\n",
       "      <th>Residency</th>\n",
       "      <th>Certifications</th>\n",
       "      <th>Hospitals</th>\n",
       "      <th># Death Cases</th>\n",
       "      <th>Death Rate</th>\n",
       "      <th># Problem Cases</th>\n",
       "      <th>Problem Rate</th>\n",
       "    </tr>\n",
       "  </thead>\n",
       "  <tbody>\n",
       "    <tr>\n",
       "      <td>count</td>\n",
       "      <td>8839</td>\n",
       "      <td>8839</td>\n",
       "      <td>8839</td>\n",
       "      <td>8839</td>\n",
       "      <td>8839</td>\n",
       "      <td>8839</td>\n",
       "      <td>8839</td>\n",
       "      <td>8839</td>\n",
       "      <td>8839</td>\n",
       "      <td>8839</td>\n",
       "      <td>8839.0</td>\n",
       "      <td>8839.0</td>\n",
       "      <td>8839.0</td>\n",
       "      <td>8839.000000</td>\n",
       "    </tr>\n",
       "    <tr>\n",
       "      <td>unique</td>\n",
       "      <td>8836</td>\n",
       "      <td>8839</td>\n",
       "      <td>8839</td>\n",
       "      <td>2</td>\n",
       "      <td>4</td>\n",
       "      <td>241</td>\n",
       "      <td>61</td>\n",
       "      <td>1299</td>\n",
       "      <td>66</td>\n",
       "      <td>4284</td>\n",
       "      <td>213.0</td>\n",
       "      <td>293.0</td>\n",
       "      <td>204.0</td>\n",
       "      <td>NaN</td>\n",
       "    </tr>\n",
       "    <tr>\n",
       "      <td>top</td>\n",
       "      <td>Dr. Lucian Newman</td>\n",
       "      <td>1891750618</td>\n",
       "      <td>www.checkbook.org/surgeonratings/Major-Bowel-S...</td>\n",
       "      <td>Male</td>\n",
       "      <td>Higher volume</td>\n",
       "      <td>N/A</td>\n",
       "      <td>N/A</td>\n",
       "      <td>N/A</td>\n",
       "      <td>Surgery</td>\n",
       "      <td></td>\n",
       "      <td>-99.0</td>\n",
       "      <td>-99.0</td>\n",
       "      <td>16.0</td>\n",
       "      <td>NaN</td>\n",
       "    </tr>\n",
       "    <tr>\n",
       "      <td>freq</td>\n",
       "      <td>2</td>\n",
       "      <td>1</td>\n",
       "      <td>1</td>\n",
       "      <td>7971</td>\n",
       "      <td>3226</td>\n",
       "      <td>1359</td>\n",
       "      <td>1359</td>\n",
       "      <td>6261</td>\n",
       "      <td>6097</td>\n",
       "      <td>25</td>\n",
       "      <td>5705.0</td>\n",
       "      <td>5705.0</td>\n",
       "      <td>315.0</td>\n",
       "      <td>NaN</td>\n",
       "    </tr>\n",
       "    <tr>\n",
       "      <td>mean</td>\n",
       "      <td>NaN</td>\n",
       "      <td>NaN</td>\n",
       "      <td>NaN</td>\n",
       "      <td>NaN</td>\n",
       "      <td>NaN</td>\n",
       "      <td>NaN</td>\n",
       "      <td>NaN</td>\n",
       "      <td>NaN</td>\n",
       "      <td>NaN</td>\n",
       "      <td>NaN</td>\n",
       "      <td>NaN</td>\n",
       "      <td>NaN</td>\n",
       "      <td>NaN</td>\n",
       "      <td>35.861760</td>\n",
       "    </tr>\n",
       "    <tr>\n",
       "      <td>std</td>\n",
       "      <td>NaN</td>\n",
       "      <td>NaN</td>\n",
       "      <td>NaN</td>\n",
       "      <td>NaN</td>\n",
       "      <td>NaN</td>\n",
       "      <td>NaN</td>\n",
       "      <td>NaN</td>\n",
       "      <td>NaN</td>\n",
       "      <td>NaN</td>\n",
       "      <td>NaN</td>\n",
       "      <td>NaN</td>\n",
       "      <td>NaN</td>\n",
       "      <td>NaN</td>\n",
       "      <td>10.464027</td>\n",
       "    </tr>\n",
       "    <tr>\n",
       "      <td>min</td>\n",
       "      <td>NaN</td>\n",
       "      <td>NaN</td>\n",
       "      <td>NaN</td>\n",
       "      <td>NaN</td>\n",
       "      <td>NaN</td>\n",
       "      <td>NaN</td>\n",
       "      <td>NaN</td>\n",
       "      <td>NaN</td>\n",
       "      <td>NaN</td>\n",
       "      <td>NaN</td>\n",
       "      <td>NaN</td>\n",
       "      <td>NaN</td>\n",
       "      <td>NaN</td>\n",
       "      <td>0.000000</td>\n",
       "    </tr>\n",
       "    <tr>\n",
       "      <td>25%</td>\n",
       "      <td>NaN</td>\n",
       "      <td>NaN</td>\n",
       "      <td>NaN</td>\n",
       "      <td>NaN</td>\n",
       "      <td>NaN</td>\n",
       "      <td>NaN</td>\n",
       "      <td>NaN</td>\n",
       "      <td>NaN</td>\n",
       "      <td>NaN</td>\n",
       "      <td>NaN</td>\n",
       "      <td>NaN</td>\n",
       "      <td>NaN</td>\n",
       "      <td>NaN</td>\n",
       "      <td>28.900000</td>\n",
       "    </tr>\n",
       "    <tr>\n",
       "      <td>50%</td>\n",
       "      <td>NaN</td>\n",
       "      <td>NaN</td>\n",
       "      <td>NaN</td>\n",
       "      <td>NaN</td>\n",
       "      <td>NaN</td>\n",
       "      <td>NaN</td>\n",
       "      <td>NaN</td>\n",
       "      <td>NaN</td>\n",
       "      <td>NaN</td>\n",
       "      <td>NaN</td>\n",
       "      <td>NaN</td>\n",
       "      <td>NaN</td>\n",
       "      <td>NaN</td>\n",
       "      <td>35.600000</td>\n",
       "    </tr>\n",
       "    <tr>\n",
       "      <td>75%</td>\n",
       "      <td>NaN</td>\n",
       "      <td>NaN</td>\n",
       "      <td>NaN</td>\n",
       "      <td>NaN</td>\n",
       "      <td>NaN</td>\n",
       "      <td>NaN</td>\n",
       "      <td>NaN</td>\n",
       "      <td>NaN</td>\n",
       "      <td>NaN</td>\n",
       "      <td>NaN</td>\n",
       "      <td>NaN</td>\n",
       "      <td>NaN</td>\n",
       "      <td>NaN</td>\n",
       "      <td>42.200000</td>\n",
       "    </tr>\n",
       "    <tr>\n",
       "      <td>max</td>\n",
       "      <td>NaN</td>\n",
       "      <td>NaN</td>\n",
       "      <td>NaN</td>\n",
       "      <td>NaN</td>\n",
       "      <td>NaN</td>\n",
       "      <td>NaN</td>\n",
       "      <td>NaN</td>\n",
       "      <td>NaN</td>\n",
       "      <td>NaN</td>\n",
       "      <td>NaN</td>\n",
       "      <td>NaN</td>\n",
       "      <td>NaN</td>\n",
       "      <td>NaN</td>\n",
       "      <td>88.500000</td>\n",
       "    </tr>\n",
       "  </tbody>\n",
       "</table>\n",
       "</div>"
      ],
      "text/plain": [
       "                 Surgeons         NPI  \\\n",
       "count                8839        8839   \n",
       "unique               8836        8839   \n",
       "top     Dr. Lucian Newman  1891750618   \n",
       "freq                    2           1   \n",
       "mean                  NaN         NaN   \n",
       "std                   NaN         NaN   \n",
       "min                   NaN         NaN   \n",
       "25%                   NaN         NaN   \n",
       "50%                   NaN         NaN   \n",
       "75%                   NaN         NaN   \n",
       "max                   NaN         NaN   \n",
       "\n",
       "                                                      URL Gender  \\\n",
       "count                                                8839   8839   \n",
       "unique                                               8839      2   \n",
       "top     www.checkbook.org/surgeonratings/Major-Bowel-S...   Male   \n",
       "freq                                                    1   7971   \n",
       "mean                                                  NaN    NaN   \n",
       "std                                                   NaN    NaN   \n",
       "min                                                   NaN    NaN   \n",
       "25%                                                   NaN    NaN   \n",
       "50%                                                   NaN    NaN   \n",
       "75%                                                   NaN    NaN   \n",
       "max                                                   NaN    NaN   \n",
       "\n",
       "       Surgery Volume Med School Med Year Residency Certifications Hospitals  \\\n",
       "count            8839       8839     8839      8839           8839      8839   \n",
       "unique              4        241       61      1299             66      4284   \n",
       "top     Higher volume        N/A      N/A       N/A        Surgery             \n",
       "freq             3226       1359     1359      6261           6097        25   \n",
       "mean              NaN        NaN      NaN       NaN            NaN       NaN   \n",
       "std               NaN        NaN      NaN       NaN            NaN       NaN   \n",
       "min               NaN        NaN      NaN       NaN            NaN       NaN   \n",
       "25%               NaN        NaN      NaN       NaN            NaN       NaN   \n",
       "50%               NaN        NaN      NaN       NaN            NaN       NaN   \n",
       "75%               NaN        NaN      NaN       NaN            NaN       NaN   \n",
       "max               NaN        NaN      NaN       NaN            NaN       NaN   \n",
       "\n",
       "        # Death Cases  Death Rate  # Problem Cases  Problem Rate  \n",
       "count          8839.0      8839.0           8839.0   8839.000000  \n",
       "unique          213.0       293.0            204.0           NaN  \n",
       "top             -99.0       -99.0             16.0           NaN  \n",
       "freq           5705.0      5705.0            315.0           NaN  \n",
       "mean              NaN         NaN              NaN     35.861760  \n",
       "std               NaN         NaN              NaN     10.464027  \n",
       "min               NaN         NaN              NaN      0.000000  \n",
       "25%               NaN         NaN              NaN     28.900000  \n",
       "50%               NaN         NaN              NaN     35.600000  \n",
       "75%               NaN         NaN              NaN     42.200000  \n",
       "max               NaN         NaN              NaN     88.500000  "
      ]
     },
     "execution_count": 260,
     "metadata": {},
     "output_type": "execute_result"
    }
   ],
   "source": [
    "Surgeon_res.describe(include = 'all')"
   ]
  },
  {
   "cell_type": "code",
   "execution_count": 905,
   "metadata": {},
   "outputs": [
    {
     "data": {
      "image/png": "[encoded data removed]",
      "text/plain": [
       "<Figure size 432x288 with 1 Axes>"
      ]
     },
     "metadata": {
      "needs_background": "light"
     },
     "output_type": "display_data"
    }
   ],
   "source": [
    "sns.boxplot(data = (Surgeon_res[Surgeon_res['Gender'] == 'Male']['Problem Rate'], Surgeon_res[Surgeon_res['Gender'] == 'Female']['Problem Rate']), orient = 'v')\n",
    "plt.xlabel('Gender')\n",
    "plt.ylabel('Problem Rate')\n",
    "plt.xticks(ticks  = [0,1], labels = ['Male', 'Female'])\n",
    "\n",
    "plt.show()"
   ]
  },
  {
   "cell_type": "code",
   "execution_count": 980,
   "metadata": {},
   "outputs": [
    {
     "data": {
      "image/png": "[encoded data removed]",
      "text/plain": [
       "<Figure size 432x288 with 1 Axes>"
      ]
     },
     "metadata": {
      "needs_background": "light"
     },
     "output_type": "display_data"
    }
   ],
   "source": [
    "sns.boxplot(data = (L_Surgeon_res[L_Surgeon_res['Gender'] == 'Male']['Problem Rate'],\n",
    "                    L_Surgeon_res[L_Surgeon_res['Gender'] == 'Female']['Problem Rate']), orient = 'v')\n",
    "plt.xlabel('Gender')\n",
    "plt.ylabel('Problem Rate')\n",
    "plt.xticks(ticks  = [0,1], labels = ['Male', 'Female'])\n",
    "\n",
    "plt.show()"
   ]
  },
  {
   "cell_type": "code",
   "execution_count": 262,
   "metadata": {},
   "outputs": [
    {
     "data": {
      "text/plain": [
       "Higher volume    3226\n",
       "Medium volume    2884\n",
       "Lower volume     2695\n",
       "N/A                34\n",
       "Name: Surgery Volume, dtype: int64"
      ]
     },
     "execution_count": 262,
     "metadata": {},
     "output_type": "execute_result"
    }
   ],
   "source": [
    "Surgeon_res['Surgery Volume'].value_counts()"
   ]
  },
  {
   "cell_type": "code",
   "execution_count": 901,
   "metadata": {},
   "outputs": [
    {
     "data": {
      "image/png": "[encoded data removed]",
      "text/plain": [
       "<Figure size 432x288 with 1 Axes>"
      ]
     },
     "metadata": {
      "needs_background": "light"
     },
     "output_type": "display_data"
    }
   ],
   "source": [
    "sns.boxplot(data = (Surgeon_res[Surgeon_res['Surgery Volume'] == 'Higher volume']['Problem Rate'],\n",
    "                    Surgeon_res[Surgeon_res['Surgery Volume'] == 'Medium volume']['Problem Rate'],\n",
    "                    Surgeon_res[Surgeon_res['Surgery Volume'] == 'Lower volume']['Problem Rate']),\n",
    "                    orient = 'v')\n",
    "\n",
    "plt.xlabel('Surgery Volume')\n",
    "plt.ylabel('Problem Rate')\n",
    "plt.xticks(ticks  = [0,1,2], labels = ['High', 'Average', 'Low'])\n",
    "\n",
    "plt.show()"
   ]
  },
  {
   "cell_type": "code",
   "execution_count": 267,
   "metadata": {},
   "outputs": [
    {
     "name": "stdout",
     "output_type": "stream",
     "text": [
      "35.32318660880344\n",
      "35.390464632454915\n",
      "36.93291280148427\n"
     ]
    }
   ],
   "source": [
    "print(Surgeon_res[Surgeon_res['Surgery Volume'] == 'Higher volume']['Problem Rate'].mean())\n",
    "print(Surgeon_res[Surgeon_res['Surgery Volume'] == 'Medium volume']['Problem Rate'].mean())\n",
    "print(Surgeon_res[Surgeon_res['Surgery Volume'] == 'Lower volume']['Problem Rate'].mean())\n"
   ]
  },
  {
   "cell_type": "code",
   "execution_count": 461,
   "metadata": {},
   "outputs": [
    {
     "data": {
      "text/html": [
       "<div>\n",
       "<style scoped>\n",
       "    .dataframe tbody tr th:only-of-type {\n",
       "        vertical-align: middle;\n",
       "    }\n",
       "\n",
       "    .dataframe tbody tr th {\n",
       "        vertical-align: top;\n",
       "    }\n",
       "\n",
       "    .dataframe thead th {\n",
       "        text-align: right;\n",
       "    }\n",
       "</style>\n",
       "<table border=\"1\" class=\"dataframe\">\n",
       "  <thead>\n",
       "    <tr style=\"text-align: right;\">\n",
       "      <th></th>\n",
       "      <th>Surgeons</th>\n",
       "      <th>NPI</th>\n",
       "      <th>URL</th>\n",
       "      <th>Gender</th>\n",
       "      <th>Surgery Volume</th>\n",
       "      <th>Med School</th>\n",
       "      <th>Med Year</th>\n",
       "      <th>Residency</th>\n",
       "      <th>Certifications</th>\n",
       "      <th>Hospitals</th>\n",
       "      <th># Death Cases</th>\n",
       "      <th>Death Rate</th>\n",
       "      <th># Problem Cases</th>\n",
       "      <th>Problem Rate</th>\n",
       "    </tr>\n",
       "  </thead>\n",
       "  <tbody>\n",
       "    <tr>\n",
       "      <td>178</td>\n",
       "      <td>Dr. Steven Lyle Floerchinger</td>\n",
       "      <td>1255485876</td>\n",
       "      <td>www.checkbook.org/surgeonratings/Major-Bowel-S...</td>\n",
       "      <td>Male</td>\n",
       "      <td>Lower volume</td>\n",
       "      <td>Western University</td>\n",
       "      <td>1987</td>\n",
       "      <td>N/A</td>\n",
       "      <td>Surgery</td>\n",
       "      <td>Alaska Regional Hospital;Providence Alaska Med...</td>\n",
       "      <td>-99</td>\n",
       "      <td>-99</td>\n",
       "      <td>16</td>\n",
       "      <td>20.8</td>\n",
       "    </tr>\n",
       "    <tr>\n",
       "      <td>179</td>\n",
       "      <td>Dr. June M. George</td>\n",
       "      <td>1891735346</td>\n",
       "      <td>www.checkbook.org/surgeonratings/Major-Bowel-S...</td>\n",
       "      <td>Female</td>\n",
       "      <td>Medium volume</td>\n",
       "      <td>University of Nevada</td>\n",
       "      <td>1986</td>\n",
       "      <td>N/A</td>\n",
       "      <td>Colon and Rectal Surgery;Surgery</td>\n",
       "      <td>Providence Alaska Medical Center;</td>\n",
       "      <td>-99</td>\n",
       "      <td>-99</td>\n",
       "      <td>17</td>\n",
       "      <td>26.1</td>\n",
       "    </tr>\n",
       "    <tr>\n",
       "      <td>180</td>\n",
       "      <td>Dr. Stephan P. Hyams</td>\n",
       "      <td>1992728422</td>\n",
       "      <td>www.checkbook.org/surgeonratings/Major-Bowel-S...</td>\n",
       "      <td>Male</td>\n",
       "      <td>Medium volume</td>\n",
       "      <td>Kirksville College of Osteopathic Medicine</td>\n",
       "      <td>1982</td>\n",
       "      <td>N/A</td>\n",
       "      <td>None</td>\n",
       "      <td>Providence Alaska Medical Center;</td>\n",
       "      <td>-99</td>\n",
       "      <td>-99</td>\n",
       "      <td>28</td>\n",
       "      <td>11.7</td>\n",
       "    </tr>\n",
       "    <tr>\n",
       "      <td>185</td>\n",
       "      <td>Dr. Carolyn C. Majors</td>\n",
       "      <td>1568428555</td>\n",
       "      <td>www.checkbook.org/surgeonratings/Major-Bowel-S...</td>\n",
       "      <td>Female</td>\n",
       "      <td>Lower volume</td>\n",
       "      <td>University of Osteopathic Medicine And Health ...</td>\n",
       "      <td>1998</td>\n",
       "      <td>N/A</td>\n",
       "      <td>None</td>\n",
       "      <td>Providence Alaska Medical Center;Fairbanks Mem...</td>\n",
       "      <td>-99</td>\n",
       "      <td>-99</td>\n",
       "      <td>18</td>\n",
       "      <td>27.8</td>\n",
       "    </tr>\n",
       "    <tr>\n",
       "      <td>187</td>\n",
       "      <td>Dr. James E. O'Malley</td>\n",
       "      <td>1780782847</td>\n",
       "      <td>www.checkbook.org/surgeonratings/Major-Bowel-S...</td>\n",
       "      <td>Male</td>\n",
       "      <td>Lower volume</td>\n",
       "      <td>University of Nevada</td>\n",
       "      <td>1981</td>\n",
       "      <td>N/A</td>\n",
       "      <td>Surgery</td>\n",
       "      <td>Alaska Regional Hospital;Providence Alaska Med...</td>\n",
       "      <td>-99</td>\n",
       "      <td>-99</td>\n",
       "      <td>20</td>\n",
       "      <td>31.1</td>\n",
       "    </tr>\n",
       "    <tr>\n",
       "      <td>192</td>\n",
       "      <td>Dr. Grant M. Searles</td>\n",
       "      <td>1427085877</td>\n",
       "      <td>www.checkbook.org/surgeonratings/Major-Bowel-S...</td>\n",
       "      <td>Male</td>\n",
       "      <td>Medium volume</td>\n",
       "      <td>N/A</td>\n",
       "      <td>N/A</td>\n",
       "      <td>N/A</td>\n",
       "      <td>Surgery</td>\n",
       "      <td>Alaska Regional Hospital;Providence Alaska Med...</td>\n",
       "      <td>-99</td>\n",
       "      <td>-99</td>\n",
       "      <td>22</td>\n",
       "      <td>35.2</td>\n",
       "    </tr>\n",
       "    <tr>\n",
       "      <td>195</td>\n",
       "      <td>Dr. David C. Wrigley</td>\n",
       "      <td>1891797437</td>\n",
       "      <td>www.checkbook.org/surgeonratings/Major-Bowel-S...</td>\n",
       "      <td>Male</td>\n",
       "      <td>Medium volume</td>\n",
       "      <td>Western University</td>\n",
       "      <td>1993</td>\n",
       "      <td>N/A</td>\n",
       "      <td>Surgery</td>\n",
       "      <td>Providence Alaska Medical Center;</td>\n",
       "      <td>-99</td>\n",
       "      <td>-99</td>\n",
       "      <td>21</td>\n",
       "      <td>22.2</td>\n",
       "    </tr>\n",
       "    <tr>\n",
       "      <td>5250</td>\n",
       "      <td>Dr. Hans Christian Burkholder</td>\n",
       "      <td>1073723318</td>\n",
       "      <td>www.checkbook.org/surgeonratings/Major-Bowel-S...</td>\n",
       "      <td>Male</td>\n",
       "      <td>Medium volume</td>\n",
       "      <td>New York University</td>\n",
       "      <td>2003</td>\n",
       "      <td>N/A</td>\n",
       "      <td>Colon and Rectal Surgery;Surgery</td>\n",
       "      <td>Providence Alaska Medical Center;Alaska Region...</td>\n",
       "      <td>-99</td>\n",
       "      <td>-99</td>\n",
       "      <td>24</td>\n",
       "      <td>41.5</td>\n",
       "    </tr>\n",
       "  </tbody>\n",
       "</table>\n",
       "</div>"
      ],
      "text/plain": [
       "                           Surgeons         NPI  \\\n",
       "178    Dr. Steven Lyle Floerchinger  1255485876   \n",
       "179              Dr. June M. George  1891735346   \n",
       "180            Dr. Stephan P. Hyams  1992728422   \n",
       "185           Dr. Carolyn C. Majors  1568428555   \n",
       "187           Dr. James E. O'Malley  1780782847   \n",
       "192            Dr. Grant M. Searles  1427085877   \n",
       "195            Dr. David C. Wrigley  1891797437   \n",
       "5250  Dr. Hans Christian Burkholder  1073723318   \n",
       "\n",
       "                                                    URL  Gender  \\\n",
       "178   www.checkbook.org/surgeonratings/Major-Bowel-S...    Male   \n",
       "179   www.checkbook.org/surgeonratings/Major-Bowel-S...  Female   \n",
       "180   www.checkbook.org/surgeonratings/Major-Bowel-S...    Male   \n",
       "185   www.checkbook.org/surgeonratings/Major-Bowel-S...  Female   \n",
       "187   www.checkbook.org/surgeonratings/Major-Bowel-S...    Male   \n",
       "192   www.checkbook.org/surgeonratings/Major-Bowel-S...    Male   \n",
       "195   www.checkbook.org/surgeonratings/Major-Bowel-S...    Male   \n",
       "5250  www.checkbook.org/surgeonratings/Major-Bowel-S...    Male   \n",
       "\n",
       "     Surgery Volume                                         Med School  \\\n",
       "178    Lower volume                                 Western University   \n",
       "179   Medium volume                               University of Nevada   \n",
       "180   Medium volume         Kirksville College of Osteopathic Medicine   \n",
       "185    Lower volume  University of Osteopathic Medicine And Health ...   \n",
       "187    Lower volume                               University of Nevada   \n",
       "192   Medium volume                                                N/A   \n",
       "195   Medium volume                                 Western University   \n",
       "5250  Medium volume                                New York University   \n",
       "\n",
       "     Med Year Residency                    Certifications  \\\n",
       "178      1987       N/A                           Surgery   \n",
       "179      1986       N/A  Colon and Rectal Surgery;Surgery   \n",
       "180      1982       N/A                              None   \n",
       "185      1998       N/A                              None   \n",
       "187      1981       N/A                           Surgery   \n",
       "192       N/A       N/A                           Surgery   \n",
       "195      1993       N/A                           Surgery   \n",
       "5250     2003       N/A  Colon and Rectal Surgery;Surgery   \n",
       "\n",
       "                                              Hospitals # Death Cases  \\\n",
       "178   Alaska Regional Hospital;Providence Alaska Med...           -99   \n",
       "179                   Providence Alaska Medical Center;           -99   \n",
       "180                   Providence Alaska Medical Center;           -99   \n",
       "185   Providence Alaska Medical Center;Fairbanks Mem...           -99   \n",
       "187   Alaska Regional Hospital;Providence Alaska Med...           -99   \n",
       "192   Alaska Regional Hospital;Providence Alaska Med...           -99   \n",
       "195                   Providence Alaska Medical Center;           -99   \n",
       "5250  Providence Alaska Medical Center;Alaska Region...           -99   \n",
       "\n",
       "     Death Rate # Problem Cases  Problem Rate  \n",
       "178         -99              16          20.8  \n",
       "179         -99              17          26.1  \n",
       "180         -99              28          11.7  \n",
       "185         -99              18          27.8  \n",
       "187         -99              20          31.1  \n",
       "192         -99              22          35.2  \n",
       "195         -99              21          22.2  \n",
       "5250        -99              24          41.5  "
      ]
     },
     "execution_count": 461,
     "metadata": {},
     "output_type": "execute_result"
    }
   ],
   "source": [
    "Surgeon_res[Surgeon_res['Hospitals'].str.contains('Providence Alaska Medical Center;')]"
   ]
  },
  {
   "cell_type": "code",
   "execution_count": 387,
   "metadata": {},
   "outputs": [
    {
     "data": {
      "text/plain": [
       "N/A                                 1359\n",
       "Thomas Jefferson University          154\n",
       "Indiana University                   152\n",
       "University of Alabama                140\n",
       "University of Texas-Southwestern     124\n",
       "                                    ... \n",
       "Tulane Univer                          1\n",
       "Boston Univer                          1\n",
       "Foreign Medical School--Ug             1\n",
       "Atlanta School of Medicine             1\n",
       "Foreign Medical School--Domi           1\n",
       "Name: Med School, Length: 241, dtype: int64"
      ]
     },
     "execution_count": 387,
     "metadata": {},
     "output_type": "execute_result"
    }
   ],
   "source": [
    "Surgeon_res['Med School'].value_counts()"
   ]
  },
  {
   "cell_type": "code",
   "execution_count": 363,
   "metadata": {},
   "outputs": [],
   "source": [
    "Surg_year = Surgeon_res[(Surgeon_res['Med Year'] != 'N/A') & (Surgeon_res['Med Year'] != 'br/>')]\n",
    "\n",
    "Surg_year = Surg_year.astype({'Med Year':'int32'})\n",
    "\n",
    "#sns.regplot(Surgeon_res[Surgeon_res['Med Year'] != 'N/A']['Med Year']), Surgeon_res[Surgeon_res['Med Year'] != 'N/A']['Problem Rate'])\n"
   ]
  },
  {
   "cell_type": "code",
   "execution_count": 2611,
   "metadata": {},
   "outputs": [],
   "source": [
    "sns.regplot(Surg_year['# Problem Cases'], Surg_year['Problem Rate'],scatter_kws={'s':0.5})\n",
    "\n",
    "\n",
    "plt.show()"
   ]
  },
  {
   "cell_type": "code",
   "execution_count": null,
   "metadata": {},
   "outputs": [],
   "source": []
  },
  {
   "cell_type": "code",
   "execution_count": null,
   "metadata": {},
   "outputs": [],
   "source": [
    "#isolates part of html with doctor names and number of cases\n",
    "title = list(rq_soup.findAll('div', {'class' : 'yTitle'}))\n",
    "\n",
    "d_cases = re.search('span>\\((\\w+)\\W', str(title[0]))\n",
    "b_cases = re.search('span>\\((\\w+)\\W', str(title[1]))\n",
    "\n",
    "if 'cases' in str(title[0]):\n",
    "    death_cases = int(d_cases[1])\n",
    "else:\n",
    "    death_cases = -99\n",
    "    \n",
    "if 'cases' in str(title[1]):\n",
    "    bad_cases = int(b_cases[1])\n",
    "else:\n",
    "    bad_cases = -99"
   ]
  },
  {
   "cell_type": "code",
   "execution_count": 121,
   "metadata": {},
   "outputs": [],
   "source": [
    "med_school = str(table_entries[6])[25:-16]"
   ]
  },
  {
   "cell_type": "code",
   "execution_count": 122,
   "metadata": {},
   "outputs": [
    {
     "data": {
      "text/plain": [
       "'Louisiana State University-Shreveport'"
      ]
     },
     "execution_count": 122,
     "metadata": {},
     "output_type": "execute_result"
    }
   ],
   "source": [
    "med_school"
   ]
  },
  {
   "cell_type": "code",
   "execution_count": 341,
   "metadata": {},
   "outputs": [
    {
     "name": "stdout",
     "output_type": "stream",
     "text": [
      "-99\n",
      "40.4\n"
     ]
    }
   ],
   "source": [
    "#isolates part of html with the percentages of deaths and bad outcomes\n",
    "pcts = list(rq_soup2.findAll('div', {'class' : 'mediumVal'}))\n",
    "pctl = len(pcts)\n",
    "\n",
    "if pctl == 1:\n",
    "    death_pct = -99\n",
    "else:\n",
    "    dpct_loc = re.search('\">[0-9.]+%</div', str(pcts[0]))\n",
    "    death_pct = float(str(pcts[0])[dpct_loc.span()[0]+2 : dpct_loc.span()[1]-6])\n",
    "    \n",
    "    \n",
    "bpct_loc = re.search('\">[0-9.]+%</div', str(pcts[pctl-1]))\n",
    "bad_pct = float(str(pcts[pctl-1])[bpct_loc.span()[0]+2 : bpct_loc.span()[1]-6])\n",
    "\n",
    "print(death_pct)\n",
    "print(bad_pct)"
   ]
  },
  {
   "cell_type": "code",
   "execution_count": 78,
   "metadata": {},
   "outputs": [],
   "source": [
    "table_entries = list(rq_soup2.findAll('td', {'class' : 'alignCenter'}))\n",
    "\n",
    "#identifies the gender of the physician\n",
    "if 'Male' in str(table_entries[1]):\n",
    "    gender = 'Male'\n",
    "else:\n",
    "    gender = 'Female'\n",
    "\n",
    "#isolates string for what relative volume of surgery they perform\n",
    "volume = str(table_entries[5])[25:-6]\n",
    "\n",
    "if len(volume) == 0:\n",
    "    volume = 'N/A'      #empty entry gets recorded as N/A\n",
    "\n",
    "#isolates string for their medical school, if indicated\n",
    "med_school = str(table_entries[6])[25:-16]\n",
    "\n",
    "if len(str(table_entries[6])[25:-6]) == 0:\n",
    "    med_school = 'N/A'      #empty entry gets recorded as N/A\n",
    "\n",
    "#isolates string for med school graduation year, if indicated\n",
    "med_year = str(table_entries[6])[-10:-6]\n",
    "\n",
    "if len(str(table_entries[6])[25:-6]) == 0:\n",
    "    med_year = 'N/A'       #empty entry gets recorded as N/A\n",
    "\n",
    "#isolates string for internship and/or residency program\n",
    "res = str(table_entries[7])\n",
    "\n",
    "if len(res) < 35:\n",
    "    residency = 'N/A'      #empty entry gets recorded as N/A\n",
    "\n",
    "else:\n",
    "    resid = re.findall('px;\">\\w+(?:\\W+\\w+){1,10}?</div>' , res)\n",
    "    \n",
    "    residency = resid[0][5:-6]"
   ]
  },
  {
   "cell_type": "code",
   "execution_count": 113,
   "metadata": {},
   "outputs": [],
   "source": [
    "hosps= re.findall('</span>\\w+(?:\\W+[a-zA-Z0-9()]+){1,13}?</li>' , str(rq_table2))\n",
    "hosp_list = ''\n",
    "\n",
    "for i in range(len(hosps)):\n",
    "    \n",
    "    hosp_list = hosp_list + hosps[i][7:-5] + ';'"
   ]
  },
  {
   "cell_type": "code",
   "execution_count": 115,
   "metadata": {},
   "outputs": [
    {
     "data": {
      "text/plain": [
       "'Jackson Hospital (Montgomery);'"
      ]
     },
     "execution_count": 115,
     "metadata": {},
     "output_type": "execute_result"
    }
   ],
   "source": [
    "hosp_list"
   ]
  },
  {
   "cell_type": "code",
   "execution_count": null,
   "metadata": {},
   "outputs": [],
   "source": []
  },
  {
   "cell_type": "code",
   "execution_count": 58,
   "metadata": {},
   "outputs": [
    {
     "data": {
      "text/plain": [
       "153"
      ]
     },
     "execution_count": 58,
     "metadata": {},
     "output_type": "execute_result"
    }
   ],
   "source": [
    "len(str(table_entries[7]))"
   ]
  },
  {
   "cell_type": "code",
   "execution_count": 49,
   "metadata": {},
   "outputs": [
    {
     "data": {
      "text/plain": [
       "<td class=\"alignCenter\"> <div style=\"padding-bottom:10px;\">Spartanburg Gen Hosp,</div> <div style=\"padding-bottom:10px;\">Spartanburg Gen Hosp</div> </td>"
      ]
     },
     "execution_count": 49,
     "metadata": {},
     "output_type": "execute_result"
    }
   ],
   "source": [
    "table_entries[7]"
   ]
  },
  {
   "cell_type": "code",
   "execution_count": null,
   "metadata": {},
   "outputs": [],
   "source": []
  },
  {
   "cell_type": "code",
   "execution_count": null,
   "metadata": {},
   "outputs": [],
   "source": [
    "resid = re.find('px;\">\\w+(?:\\W+\\w+){1,10}?,</div>' , res)\n",
    "res_list = ''\n",
    "\n",
    "for i in range(len(resid)):\n",
    "    \n",
    "    res_list = res_list + resid[i][7:-5] + ';'"
   ]
  },
  {
   "cell_type": "code",
   "execution_count": 92,
   "metadata": {},
   "outputs": [],
   "source": [
    "resid = re.findall('px;\">\\w+(?:\\W+[a-zA-Z]+){1,10}?</div>' , res)"
   ]
  },
  {
   "cell_type": "code",
   "execution_count": 106,
   "metadata": {},
   "outputs": [],
   "source": [
    "#breaks table into a list of elements with the <ul> tag\n",
    "ul = rq_table2.findAll('ul')\n",
    "\n",
    "#last element of above list contains board certifications\n",
    "#the string is split where </li> tags are to separate different certifications\n",
    "li_split = (str(ul[-1])).split('</li>')\n",
    "\n",
    "#if statement signifies if no certificate info is present\n",
    "if 'certificate' not in str(li_split):\n",
    "    cert_list = 'None'\n",
    "    \n",
    "else:\n",
    "\n",
    "    #starts string with first certification\n",
    "    cert_list = li_split[0][38:len(li_split[0])]\n",
    "\n",
    "    #loop adds any other certifications separated by semicolons\n",
    "    for i in range(len(li_split)-2):\n",
    "\n",
    "        cert_list = cert_list + ';' + li_split[i+1][5:len(li_split[i+1])]\n",
    "\n",
    "#converts ampersands to 'and' thus getting rid of problematic semicolon\n",
    "cert_list = cert_list.replace('&amp;', 'and')"
   ]
  },
  {
   "cell_type": "code",
   "execution_count": 107,
   "metadata": {},
   "outputs": [
    {
     "data": {
      "text/plain": [
       "'Gynecologic Oncology;Obstetrics and Gynecology'"
      ]
     },
     "execution_count": 107,
     "metadata": {},
     "output_type": "execute_result"
    }
   ],
   "source": [
    "cert_list"
   ]
  },
  {
   "cell_type": "code",
   "execution_count": null,
   "metadata": {},
   "outputs": [],
   "source": []
  },
  {
   "cell_type": "code",
   "execution_count": 952,
   "metadata": {},
   "outputs": [],
   "source": [
    "rq2 = requests.get('https://health.usnews.com/best-hospitals/rankings/pulmonology',\n",
    "                  headers = {'User-Agent': 'Mozilla/5.0 (Macintosh; Intel Mac OSX 12.6; rv:76.0.1) Gecko/20100101 Firefox/76.0.1'}).text\n",
    "rq_soup2 = BeautifulSoup(rq2, 'lxml')\n"
   ]
  },
  {
   "cell_type": "code",
   "execution_count": 954,
   "metadata": {},
   "outputs": [],
   "source": [
    "h_list2 = list(rq_soup2.findAll('li', {'class' : 'item-list__ListItemStyled-sc-2qxw3-1 dLnQUJ'}))"
   ]
  },
  {
   "cell_type": "code",
   "execution_count": 963,
   "metadata": {},
   "outputs": [],
   "source": [
    "testy = h_list2[0].findAll('a')[3]"
   ]
  },
  {
   "cell_type": "code",
   "execution_count": 972,
   "metadata": {},
   "outputs": [
    {
     "data": {
      "text/plain": [
       "<a class=\"Anchor-byh49a-0 jwhRms\" data-tracking-id=\"scorecard-specialty-click\" href=\"/best-hospitals/area/co/national-jewish-health-6840315/pulmonology\" letter-spacing=\"0.6\" prefix=\"\\00ab\\00a0\" size=\"3\">See <!-- -->Pulmonology &amp; Lung Surgery Scorecard<!-- --> »</a>"
      ]
     },
     "execution_count": 972,
     "metadata": {},
     "output_type": "execute_result"
    }
   ],
   "source": [
    "testy"
   ]
  },
  {
   "cell_type": "code",
   "execution_count": 969,
   "metadata": {},
   "outputs": [],
   "source": [
    "link_start = re.search('href=\"', str(testy))\n",
    "\n",
    "link_stop = re.search('\" letter', str(testy))"
   ]
  },
  {
   "cell_type": "code",
   "execution_count": 971,
   "metadata": {},
   "outputs": [
    {
     "name": "stdout",
     "output_type": "stream",
     "text": [
      "/best-hospitals/area/co/national-jewish-health-6840315/pulmonology\n"
     ]
    }
   ],
   "source": [
    "link = str(testy)[link_start.span()[1]:link_stop.span()[0]]\n",
    "\n",
    "print(link)"
   ]
  },
  {
   "cell_type": "code",
   "execution_count": 948,
   "metadata": {},
   "outputs": [],
   "source": [
    "states = ('alabama', 'alaska', 'arizona', 'arkansas', 'california', 'colorado', 'connecticut', 'delaware',\n",
    "              'dc', 'florida', 'georgia', 'hawaii', 'idaho', 'illinois', 'indiana', 'iowa', 'kansas', 'kentucky',\n",
    "              'louisiana', 'maine', 'maryland', 'massachusetts', 'michigan', 'minnesota', 'mississippi', 'missouri',\n",
    "              'montana', 'nebraska', 'nevada', 'new-hampshire', 'new-jersey', 'new-mexico', 'new-york',\n",
    "              'north-carolina', 'north-dakota', 'ohio', 'oklahoma', 'oregon', 'pennsylvania', 'rhode-island',\n",
    "              'south-carolina', 'south-dakota', 'tennessee', 'texas', 'utah', 'vermont', 'virginia', 'washington',\n",
    "              'west-virginia', 'wisconsin', 'wyoming')"
   ]
  },
  {
   "cell_type": "code",
   "execution_count": null,
   "metadata": {},
   "outputs": [],
   "source": []
  },
  {
   "cell_type": "code",
   "execution_count": 974,
   "metadata": {},
   "outputs": [],
   "source": [
    "#This block scrapes information from the US News hospital rankings for gastroenterology and GI surgery\n",
    "#Specifically the code will extract the name of each hospital, its score and location information\n",
    "\n",
    "#create lists to store the information that will be scraped\n",
    "h_names = []\n",
    "h_scores = []\n",
    "city_names = []\n",
    "state_names = []\n",
    "ZIP_codes = []\n",
    "h_links = []\n",
    "\n",
    "#dictionary that matches name of hospital with its score\n",
    "hosp_dict2 = {}\n",
    "\n",
    "#cycles through results pages for each state by inserting specific state name in URL\n",
    "for state in states:\n",
    "\n",
    "    \n",
    "    are_entries = True\n",
    "    \n",
    "    #count variable and while loop allow cycling through multiple results pages for certain states\n",
    "    count = 1\n",
    "\n",
    "    while are_entries == True:\n",
    "        \n",
    "        time.sleep(0.3)\n",
    "        URL='https://health.usnews.com/best-hospitals/rankings/pulmonology/{}?page={}'.format(state, count)\n",
    "        header = {'User-Agent': 'Mozilla/5.0 (Macintosh; Intel Mac OSX 12.6; rv:76.0.1) Gecko/20100101 Firefox/76.0.1'}\n",
    "        \n",
    "        rq = requests.get(URL, headers = header).text\n",
    "        rq_soup = BeautifulSoup(rq, 'lxml')\n",
    "\n",
    "\n",
    "        if 'Page Not Found!' in str(rq_soup):  #detects when results pages have run out and ends loop\n",
    "\n",
    "            are_entries = False\n",
    "            pass\n",
    "\n",
    "\n",
    "        else:\n",
    "\n",
    "            \n",
    "            count += 1\n",
    "            \n",
    "            #isolates html elements that contain the hospital data\n",
    "            h_list = list(rq_soup.findAll('li', {'class' : 'item-list__ListItemStyled-sc-2qxw3-1 dLnQUJ'}))\n",
    "\n",
    "\n",
    "            for i in range(len(h_list)):\n",
    "\n",
    "                if 'Ad__Container' in str(h_list[i]):   #skips past ads picked up in the list\n",
    "                    pass\n",
    "\n",
    "                else:   \n",
    "                    \n",
    "                    #finds hospital name\n",
    "                    hosp = h_list[i].findAll('a')[1]\n",
    "                    h_start = re.search('\">', str(hosp))\n",
    "                    hosp_name = str(hosp)[h_start.span()[1]:-4]\n",
    "\n",
    "                    \n",
    "                    #finds hospital score\n",
    "                    sco = h_list[i].findAll('dd')\n",
    "                    sco_start = re.search('\">', str(sco))\n",
    "                    score = str(sco)[sco_start.span()[1]:-10]\n",
    "                    \n",
    "                    #finds link to hospital scorecard\n",
    "                    link = h_list[i].findAll('a')[3]\n",
    "                    link_start = re.search('href=\"', str(link))\n",
    "                    link_stop = re.search('\" letter', str(link))\n",
    "                    hosp_link = str(testy)[link_start.span()[1]:link_stop.span()[0]]\n",
    "                    \n",
    "\n",
    "                    #scrapes out the location information for each hospital\n",
    "                    if 'PhoneIconStyled' in str(h_list[i].findAll('p')[0]):   #if statement makes it work with\n",
    "                                                                              #or without phone number in the info box\n",
    "                        loc = h_list[i].findAll('p')[1]\n",
    "                    else:\n",
    "\n",
    "                        loc = h_list[i].findAll('p')[0]\n",
    "\n",
    "                    #regular expressions locate string positions with 'city, state ZIP' format\n",
    "                    loc_start = re.search('\">', str(loc))\n",
    "                    loc_state = re.search(',\\W[A-Z]{2}\\W[0-9]', str(loc))\n",
    "\n",
    "                    city = str(loc)[loc_start.span()[1] : loc_state.span()[0]]\n",
    "                    sta = str(loc)[loc_state.span()[0]+2 : loc_state.span()[0]+4]\n",
    "                    ZIP = str(loc)[loc_state.span()[1]-1 : -4]\n",
    "\n",
    "\n",
    "                    #extend the lists and dictionary entry by entry\n",
    "                    h_names.append(hosp_name)\n",
    "                    h_scores.append(score)\n",
    "                    city_names.append(city)\n",
    "                    state_names.append(sta)\n",
    "                    ZIP_codes.append(ZIP)\n",
    "                    h_links.append(hosp_link)\n",
    "                    \n",
    "                    hosp_dict2.update({hosp_name : float(score)})"
   ]
  },
  {
   "cell_type": "code",
   "execution_count": 975,
   "metadata": {},
   "outputs": [
    {
     "name": "stdout",
     "output_type": "stream",
     "text": [
      "1640\n",
      "1640\n",
      "1640\n",
      "1640\n",
      "1640\n",
      "1640\n"
     ]
    }
   ],
   "source": [
    "print(len(h_names))\n",
    "print(len(h_scores))\n",
    "print(len(city_names))\n",
    "print(len(state_names))\n",
    "print(len(ZIP_codes))\n",
    "print(len(h_links))"
   ]
  },
  {
   "cell_type": "code",
   "execution_count": 985,
   "metadata": {},
   "outputs": [],
   "source": [
    "L_Hosp_data = pd.DataFrame({'Hospital': h_names, 'City': city_names, 'State': state_names, 'ZIP Code': ZIP_codes,\n",
    "                         'Score': h_scores, 'Score URL': h_links})"
   ]
  },
  {
   "cell_type": "markdown",
   "metadata": {},
   "source": [
    "<H3> Hospital names in the hospital dataframe are replaced with designations that are used in the surgeon dataframe so that surgeons can be matched to their hospital(s)"
   ]
  },
  {
   "cell_type": "code",
   "execution_count": 2411,
   "metadata": {},
   "outputs": [],
   "source": [
    "L_Hosp_data2 = L_Hosp_data.replace(to_replace = hosp_replace)"
   ]
  },
  {
   "cell_type": "code",
   "execution_count": 2442,
   "metadata": {},
   "outputs": [
    {
     "data": {
      "text/plain": [
       "Lahey Hospital and Medical Center                    1\n",
       "Forrest General Hospital                             1\n",
       "Signature Healthcare Brockton Hospital               1\n",
       "Holy Cross Hospital (Fort Lauderdale)                1\n",
       "Southeast Alabama Medical Center                     1\n",
       "St. John's Hospital                                  1\n",
       "SSM St. Clare Health Center                          1\n",
       "Saint Mary's Regional Medical Center                 1\n",
       "Vista Medical Center East                            1\n",
       "Presence Saints Mary and Elizabeth Medical Center    1\n",
       "St. Luke's The Woodlands Hospital                    1\n",
       "John T. Mather Memorial Hospital                     1\n",
       "South Florida Baptist Hospital                       1\n",
       "City Hospital at White Rock                          1\n",
       "Name: Hospital, dtype: int64"
      ]
     },
     "execution_count": 2442,
     "metadata": {},
     "output_type": "execute_result"
    }
   ],
   "source": [
    "L_Hosp_data2['Hospital'].value_counts()[0:14]"
   ]
  },
  {
   "cell_type": "code",
   "execution_count": 2441,
   "metadata": {},
   "outputs": [],
   "source": [
    "L_Hosp_data2.drop([815, 1510, 20, 1405, 885, 662, 433, 293, 1376, 1199, 302, 947, 189, 1258], axis=0, inplace=True)"
   ]
  },
  {
   "cell_type": "code",
   "execution_count": 2440,
   "metadata": {},
   "outputs": [
    {
     "data": {
      "text/html": [
       "<div>\n",
       "<style scoped>\n",
       "    .dataframe tbody tr th:only-of-type {\n",
       "        vertical-align: middle;\n",
       "    }\n",
       "\n",
       "    .dataframe tbody tr th {\n",
       "        vertical-align: top;\n",
       "    }\n",
       "\n",
       "    .dataframe thead th {\n",
       "        text-align: right;\n",
       "    }\n",
       "</style>\n",
       "<table border=\"1\" class=\"dataframe\">\n",
       "  <thead>\n",
       "    <tr style=\"text-align: right;\">\n",
       "      <th></th>\n",
       "      <th>Hospital</th>\n",
       "      <th>City</th>\n",
       "      <th>State</th>\n",
       "      <th>ZIP Code</th>\n",
       "      <th>Score</th>\n",
       "      <th>Score URL</th>\n",
       "    </tr>\n",
       "  </thead>\n",
       "  <tbody>\n",
       "    <tr>\n",
       "      <td>1258</td>\n",
       "      <td>Lehigh Valley Hospital</td>\n",
       "      <td>Allentown</td>\n",
       "      <td>PA</td>\n",
       "      <td>18103-6248</td>\n",
       "      <td>65.2</td>\n",
       "      <td>/best-hospitals/area/co/national-jewish-health...</td>\n",
       "    </tr>\n",
       "    <tr>\n",
       "      <td>1315</td>\n",
       "      <td>Lehigh Valley Hospital</td>\n",
       "      <td>East Stroudsburg</td>\n",
       "      <td>PA</td>\n",
       "      <td>18301-3006</td>\n",
       "      <td>42.7</td>\n",
       "      <td>/best-hospitals/area/co/national-jewish-health...</td>\n",
       "    </tr>\n",
       "  </tbody>\n",
       "</table>\n",
       "</div>"
      ],
      "text/plain": [
       "                    Hospital              City State    ZIP Code Score  \\\n",
       "1258  Lehigh Valley Hospital         Allentown    PA  18103-6248  65.2   \n",
       "1315  Lehigh Valley Hospital  East Stroudsburg    PA  18301-3006  42.7   \n",
       "\n",
       "                                              Score URL  \n",
       "1258  /best-hospitals/area/co/national-jewish-health...  \n",
       "1315  /best-hospitals/area/co/national-jewish-health...  "
      ]
     },
     "execution_count": 2440,
     "metadata": {},
     "output_type": "execute_result"
    }
   ],
   "source": [
    "L_Hosp_data2[L_Hosp_data2['Hospital']=='Lehigh Valley Hospital']"
   ]
  },
  {
   "cell_type": "code",
   "execution_count": 2434,
   "metadata": {},
   "outputs": [
    {
     "data": {
      "text/html": [
       "<div>\n",
       "<style scoped>\n",
       "    .dataframe tbody tr th:only-of-type {\n",
       "        vertical-align: middle;\n",
       "    }\n",
       "\n",
       "    .dataframe tbody tr th {\n",
       "        vertical-align: top;\n",
       "    }\n",
       "\n",
       "    .dataframe thead th {\n",
       "        text-align: right;\n",
       "    }\n",
       "</style>\n",
       "<table border=\"1\" class=\"dataframe\">\n",
       "  <thead>\n",
       "    <tr style=\"text-align: right;\">\n",
       "      <th></th>\n",
       "      <th>Surgeons</th>\n",
       "      <th>NPI</th>\n",
       "      <th>URL</th>\n",
       "      <th>Gender</th>\n",
       "      <th>Surgery Volume</th>\n",
       "      <th>Med School</th>\n",
       "      <th>Med Year</th>\n",
       "      <th>Residency</th>\n",
       "      <th>Certifications</th>\n",
       "      <th>Hospitals</th>\n",
       "      <th># Death Cases</th>\n",
       "      <th>Death Rate</th>\n",
       "      <th># Problem Cases</th>\n",
       "      <th>Problem Rate</th>\n",
       "      <th>Hospital Score</th>\n",
       "    </tr>\n",
       "  </thead>\n",
       "  <tbody>\n",
       "    <tr>\n",
       "      <td>26</td>\n",
       "      <td>Dr. Andrew Goldstein</td>\n",
       "      <td>1518951284</td>\n",
       "      <td>www.checkbook.org/surgeonratings/Lung-Surgery/...</td>\n",
       "      <td>Male</td>\n",
       "      <td>N/A</td>\n",
       "      <td>Columbia University</td>\n",
       "      <td>1989</td>\n",
       "      <td>Strong Memorial Hospital</td>\n",
       "      <td>Surgery;Thoracic and Cardiac Surgery</td>\n",
       "      <td>Phoenix Baptist Hospital;Shea Medical Center;O...</td>\n",
       "      <td>-99</td>\n",
       "      <td>-99</td>\n",
       "      <td>48</td>\n",
       "      <td>38.0</td>\n",
       "      <td>NaN</td>\n",
       "    </tr>\n",
       "    <tr>\n",
       "      <td>246</td>\n",
       "      <td>Dr. Faisal B. Khan</td>\n",
       "      <td>1225027261</td>\n",
       "      <td>www.checkbook.org/surgeonratings/Lung-Surgery/...</td>\n",
       "      <td>Male</td>\n",
       "      <td>N/A</td>\n",
       "      <td>N/A</td>\n",
       "      <td>N/A</td>\n",
       "      <td>N/A</td>\n",
       "      <td>Thoracic and Cardiac Surgery</td>\n",
       "      <td>Brandon Regional Hospital;South Florida Baptis...</td>\n",
       "      <td>-99</td>\n",
       "      <td>-99</td>\n",
       "      <td>17</td>\n",
       "      <td>33.5</td>\n",
       "      <td>28.8</td>\n",
       "    </tr>\n",
       "    <tr>\n",
       "      <td>257</td>\n",
       "      <td>Dr. James L. Lonquist</td>\n",
       "      <td>1881694446</td>\n",
       "      <td>www.checkbook.org/surgeonratings/Lung-Surgery/...</td>\n",
       "      <td>Male</td>\n",
       "      <td>N/A</td>\n",
       "      <td>University of South Florida</td>\n",
       "      <td>1987</td>\n",
       "      <td>U Tex</td>\n",
       "      <td>Surgery;Thoracic and Cardiac Surgery</td>\n",
       "      <td>Baptist Hospital;Sacred Heart Hospital (Pensac...</td>\n",
       "      <td>-99</td>\n",
       "      <td>-99</td>\n",
       "      <td>45</td>\n",
       "      <td>25.1</td>\n",
       "      <td>47.9</td>\n",
       "    </tr>\n",
       "    <tr>\n",
       "      <td>272</td>\n",
       "      <td>Dr. James L. Nielsen</td>\n",
       "      <td>1295735710</td>\n",
       "      <td>www.checkbook.org/surgeonratings/Lung-Surgery/...</td>\n",
       "      <td>Male</td>\n",
       "      <td>N/A</td>\n",
       "      <td>University of Iowa</td>\n",
       "      <td>1986</td>\n",
       "      <td>N/A</td>\n",
       "      <td>Surgery;Thoracic and Cardiac Surgery</td>\n",
       "      <td>Baptist Hospital;Sacred Heart Hospital (Pensac...</td>\n",
       "      <td>-99</td>\n",
       "      <td>-99</td>\n",
       "      <td>42</td>\n",
       "      <td>23.6</td>\n",
       "      <td>47.9</td>\n",
       "    </tr>\n",
       "    <tr>\n",
       "      <td>464</td>\n",
       "      <td>Dr. Wilson Monroe Clements</td>\n",
       "      <td>1154418150</td>\n",
       "      <td>www.checkbook.org/surgeonratings/Lung-Surgery/...</td>\n",
       "      <td>Male</td>\n",
       "      <td>N/A</td>\n",
       "      <td>University of Tennessee</td>\n",
       "      <td>1998</td>\n",
       "      <td>N/A</td>\n",
       "      <td>Surgery;Thoracic and Cardiac Surgery</td>\n",
       "      <td>St. Elizabeth;Central Baptist Hospital;</td>\n",
       "      <td>-99</td>\n",
       "      <td>-99</td>\n",
       "      <td>32</td>\n",
       "      <td>31.5</td>\n",
       "      <td>NaN</td>\n",
       "    </tr>\n",
       "    <tr>\n",
       "      <td>478</td>\n",
       "      <td>Dr. Robert O. Mitchell</td>\n",
       "      <td>1942261094</td>\n",
       "      <td>www.checkbook.org/surgeonratings/Lung-Surgery/...</td>\n",
       "      <td>Male</td>\n",
       "      <td>N/A</td>\n",
       "      <td>University of Louisville</td>\n",
       "      <td>1988</td>\n",
       "      <td>University of Louisville Hospital</td>\n",
       "      <td>Thoracic and Cardiac Surgery</td>\n",
       "      <td>Central Baptist Hospital;</td>\n",
       "      <td>-99</td>\n",
       "      <td>-99</td>\n",
       "      <td>45</td>\n",
       "      <td>20.0</td>\n",
       "      <td>NaN</td>\n",
       "    </tr>\n",
       "    <tr>\n",
       "      <td>483</td>\n",
       "      <td>Dr. Anthony G. Rogers</td>\n",
       "      <td>1629039755</td>\n",
       "      <td>www.checkbook.org/surgeonratings/Lung-Surgery/...</td>\n",
       "      <td>Male</td>\n",
       "      <td>N/A</td>\n",
       "      <td>University of Kentucky</td>\n",
       "      <td>1979</td>\n",
       "      <td>N/A</td>\n",
       "      <td>Thoracic and Cardiac Surgery;Vascular Surgery</td>\n",
       "      <td>Central Baptist Hospital;Saint Joseph Hospital...</td>\n",
       "      <td>125</td>\n",
       "      <td>8.6</td>\n",
       "      <td>120</td>\n",
       "      <td>29.1</td>\n",
       "      <td>NaN</td>\n",
       "    </tr>\n",
       "    <tr>\n",
       "      <td>1061</td>\n",
       "      <td>Dr. John Derosimo</td>\n",
       "      <td>1598870594</td>\n",
       "      <td>www.checkbook.org/surgeonratings/Lung-Surgery/...</td>\n",
       "      <td>Male</td>\n",
       "      <td>N/A</td>\n",
       "      <td>University of Pittsburgh</td>\n",
       "      <td>1994</td>\n",
       "      <td>N/A</td>\n",
       "      <td>Surgery;Thoracic and Cardiac Surgery</td>\n",
       "      <td>Baptist Hospital South Florida;South Miami Hos...</td>\n",
       "      <td>-99</td>\n",
       "      <td>-99</td>\n",
       "      <td>53</td>\n",
       "      <td>28.7</td>\n",
       "      <td>56.1</td>\n",
       "    </tr>\n",
       "    <tr>\n",
       "      <td>1173</td>\n",
       "      <td>Dr. Stephen L. La Mendola</td>\n",
       "      <td>1497863419</td>\n",
       "      <td>www.checkbook.org/surgeonratings/Lung-Surgery/...</td>\n",
       "      <td>Male</td>\n",
       "      <td>N/A</td>\n",
       "      <td>Rosalind Franklin University</td>\n",
       "      <td>1982</td>\n",
       "      <td>N/A</td>\n",
       "      <td>Thoracic and Cardiac Surgery</td>\n",
       "      <td>CHRISTUS Hospital;Baptist Hospitals of Southea...</td>\n",
       "      <td>-99</td>\n",
       "      <td>-99</td>\n",
       "      <td>36</td>\n",
       "      <td>21.1</td>\n",
       "      <td>NaN</td>\n",
       "    </tr>\n",
       "    <tr>\n",
       "      <td>1195</td>\n",
       "      <td>Dr. Michael T. Oszczakiewicz</td>\n",
       "      <td>1134239387</td>\n",
       "      <td>www.checkbook.org/surgeonratings/Lung-Surgery/...</td>\n",
       "      <td>Male</td>\n",
       "      <td>N/A</td>\n",
       "      <td>University of Texas-Houston</td>\n",
       "      <td>1983</td>\n",
       "      <td>NYU Langone Medical Center</td>\n",
       "      <td>Thoracic and Cardiac Surgery</td>\n",
       "      <td>CHRISTUS Hospital;Baptist Hospitals of Southea...</td>\n",
       "      <td>-99</td>\n",
       "      <td>-99</td>\n",
       "      <td>21</td>\n",
       "      <td>26.2</td>\n",
       "      <td>NaN</td>\n",
       "    </tr>\n",
       "  </tbody>\n",
       "</table>\n",
       "</div>"
      ],
      "text/plain": [
       "                          Surgeons         NPI  \\\n",
       "26            Dr. Andrew Goldstein  1518951284   \n",
       "246             Dr. Faisal B. Khan  1225027261   \n",
       "257          Dr. James L. Lonquist  1881694446   \n",
       "272           Dr. James L. Nielsen  1295735710   \n",
       "464     Dr. Wilson Monroe Clements  1154418150   \n",
       "478         Dr. Robert O. Mitchell  1942261094   \n",
       "483          Dr. Anthony G. Rogers  1629039755   \n",
       "1061             Dr. John Derosimo  1598870594   \n",
       "1173     Dr. Stephen L. La Mendola  1497863419   \n",
       "1195  Dr. Michael T. Oszczakiewicz  1134239387   \n",
       "\n",
       "                                                    URL Gender Surgery Volume  \\\n",
       "26    www.checkbook.org/surgeonratings/Lung-Surgery/...   Male            N/A   \n",
       "246   www.checkbook.org/surgeonratings/Lung-Surgery/...   Male            N/A   \n",
       "257   www.checkbook.org/surgeonratings/Lung-Surgery/...   Male            N/A   \n",
       "272   www.checkbook.org/surgeonratings/Lung-Surgery/...   Male            N/A   \n",
       "464   www.checkbook.org/surgeonratings/Lung-Surgery/...   Male            N/A   \n",
       "478   www.checkbook.org/surgeonratings/Lung-Surgery/...   Male            N/A   \n",
       "483   www.checkbook.org/surgeonratings/Lung-Surgery/...   Male            N/A   \n",
       "1061  www.checkbook.org/surgeonratings/Lung-Surgery/...   Male            N/A   \n",
       "1173  www.checkbook.org/surgeonratings/Lung-Surgery/...   Male            N/A   \n",
       "1195  www.checkbook.org/surgeonratings/Lung-Surgery/...   Male            N/A   \n",
       "\n",
       "                        Med School Med Year  \\\n",
       "26             Columbia University     1989   \n",
       "246                            N/A      N/A   \n",
       "257    University of South Florida     1987   \n",
       "272             University of Iowa     1986   \n",
       "464        University of Tennessee     1998   \n",
       "478       University of Louisville     1988   \n",
       "483         University of Kentucky     1979   \n",
       "1061      University of Pittsburgh     1994   \n",
       "1173  Rosalind Franklin University     1982   \n",
       "1195   University of Texas-Houston     1983   \n",
       "\n",
       "                              Residency  \\\n",
       "26             Strong Memorial Hospital   \n",
       "246                                 N/A   \n",
       "257                               U Tex   \n",
       "272                                 N/A   \n",
       "464                                 N/A   \n",
       "478   University of Louisville Hospital   \n",
       "483                                 N/A   \n",
       "1061                                N/A   \n",
       "1173                                N/A   \n",
       "1195         NYU Langone Medical Center   \n",
       "\n",
       "                                     Certifications  \\\n",
       "26             Surgery;Thoracic and Cardiac Surgery   \n",
       "246                    Thoracic and Cardiac Surgery   \n",
       "257            Surgery;Thoracic and Cardiac Surgery   \n",
       "272            Surgery;Thoracic and Cardiac Surgery   \n",
       "464            Surgery;Thoracic and Cardiac Surgery   \n",
       "478                    Thoracic and Cardiac Surgery   \n",
       "483   Thoracic and Cardiac Surgery;Vascular Surgery   \n",
       "1061           Surgery;Thoracic and Cardiac Surgery   \n",
       "1173                   Thoracic and Cardiac Surgery   \n",
       "1195                   Thoracic and Cardiac Surgery   \n",
       "\n",
       "                                              Hospitals # Death Cases  \\\n",
       "26    Phoenix Baptist Hospital;Shea Medical Center;O...           -99   \n",
       "246   Brandon Regional Hospital;South Florida Baptis...           -99   \n",
       "257   Baptist Hospital;Sacred Heart Hospital (Pensac...           -99   \n",
       "272   Baptist Hospital;Sacred Heart Hospital (Pensac...           -99   \n",
       "464             St. Elizabeth;Central Baptist Hospital;           -99   \n",
       "478                           Central Baptist Hospital;           -99   \n",
       "483   Central Baptist Hospital;Saint Joseph Hospital...           125   \n",
       "1061  Baptist Hospital South Florida;South Miami Hos...           -99   \n",
       "1173  CHRISTUS Hospital;Baptist Hospitals of Southea...           -99   \n",
       "1195  CHRISTUS Hospital;Baptist Hospitals of Southea...           -99   \n",
       "\n",
       "     Death Rate # Problem Cases  Problem Rate  Hospital Score  \n",
       "26          -99              48          38.0             NaN  \n",
       "246         -99              17          33.5            28.8  \n",
       "257         -99              45          25.1            47.9  \n",
       "272         -99              42          23.6            47.9  \n",
       "464         -99              32          31.5             NaN  \n",
       "478         -99              45          20.0             NaN  \n",
       "483         8.6             120          29.1             NaN  \n",
       "1061        -99              53          28.7            56.1  \n",
       "1173        -99              36          21.1             NaN  \n",
       "1195        -99              21          26.2             NaN  "
      ]
     },
     "execution_count": 2434,
     "metadata": {},
     "output_type": "execute_result"
    }
   ],
   "source": [
    "L_Surgeon_res[L_Surgeon_res['Hospitals'].str.contains('Baptist Hospital')].tail(30)"
   ]
  },
  {
   "cell_type": "code",
   "execution_count": 2443,
   "metadata": {},
   "outputs": [],
   "source": [
    "hosp_dict = {}\n",
    "\n",
    "for hos in L_Hosp_data2['Hospital']:\n",
    "\n",
    "    hosp_dict.update({hos : float(L_Hosp_data2[L_Hosp_data2['Hospital']==hos]['Score'])})"
   ]
  },
  {
   "cell_type": "code",
   "execution_count": 976,
   "metadata": {},
   "outputs": [
    {
     "data": {
      "text/plain": [
       "['University of Alabama at Birmingham Hospital',\n",
       " 'Southeast Health Medical Center',\n",
       " 'Riverview Regional Medical Center-Gadsden',\n",
       " 'Eliza Coffee Memorial Hospital',\n",
       " 'Gadsden Regional Medical Center',\n",
       " 'East Alabama Medical Center',\n",
       " \"St. Vincent's Birmingham Hospital\",\n",
       " 'Huntsville Hospital',\n",
       " 'Cullman Regional Medical Center',\n",
       " 'Baptist Medical Center East']"
      ]
     },
     "execution_count": 976,
     "metadata": {},
     "output_type": "execute_result"
    }
   ],
   "source": [
    "h_names[0:10]"
   ]
  },
  {
   "cell_type": "code",
   "execution_count": 2514,
   "metadata": {},
   "outputs": [],
   "source": [
    "\n",
    "hospscores = []\n",
    "\n",
    "for i in range(len(L_Surgeon_res['Surgeons'])):\n",
    "    \n",
    "    h = L_Surgeon_res.iloc[i, 9]\n",
    "    h2 = h.split(';')\n",
    "    \n",
    "    \n",
    "    hsc = []\n",
    "\n",
    "    for x in h2:\n",
    "\n",
    "        if x in hosp_dict:\n",
    "\n",
    "            hsc.append(hosp_dict[x])\n",
    "\n",
    "        else:\n",
    "\n",
    "            pass\n",
    "    \n",
    "    if len(hsc) ==0:\n",
    "        \n",
    "        hospscores.append(np.nan)\n",
    "        \n",
    "    else:\n",
    "        \n",
    "        hsc.sort(reverse = False)\n",
    "        hospscores.append(hsc[0])\n",
    "        #hospscores.append(mean(hsc))\n"
   ]
  },
  {
   "cell_type": "code",
   "execution_count": 2515,
   "metadata": {},
   "outputs": [],
   "source": [
    "L_Surgeon_res['Hospital Score'] = hospscores"
   ]
  },
  {
   "cell_type": "code",
   "execution_count": 2446,
   "metadata": {},
   "outputs": [
    {
     "data": {
      "text/plain": [
       "N/A     184\n",
       "1986     57\n",
       "1983     51\n",
       "1989     46\n",
       "1985     45\n",
       "1991     44\n",
       "1999     43\n",
       "1990     43\n",
       "1979     42\n",
       "1988     42\n",
       "1987     42\n",
       "1981     42\n",
       "1996     41\n",
       "1992     40\n",
       "1982     39\n",
       "1994     39\n",
       "1984     38\n",
       "1997     38\n",
       "1978     37\n",
       "1995     37\n",
       "1993     37\n",
       "1998     30\n",
       "1980     30\n",
       "1977     29\n",
       "1976     23\n",
       "2000     22\n",
       "2002     21\n",
       "1975     20\n",
       "2001     20\n",
       "2003     15\n",
       "1972     13\n",
       "1973     12\n",
       "1974     11\n",
       "br/>     10\n",
       "2004      8\n",
       "2005      7\n",
       "1971      6\n",
       "1970      6\n",
       "1969      5\n",
       "1968      5\n",
       "1964      4\n",
       "1966      3\n",
       "1967      2\n",
       "1962      2\n",
       "1963      2\n",
       "1965      1\n",
       "1956      1\n",
       "1960      1\n",
       "1955      1\n",
       "2006      1\n",
       "1954      1\n",
       "1961      1\n",
       "Name: Med Year, dtype: int64"
      ]
     },
     "execution_count": 2446,
     "metadata": {},
     "output_type": "execute_result"
    }
   ],
   "source": [
    "L_Surgeon_res['Med Year'].value_counts()"
   ]
  },
  {
   "cell_type": "code",
   "execution_count": 2447,
   "metadata": {},
   "outputs": [],
   "source": [
    "L_Surgeon_res2 = L_Surgeon_res[(L_Surgeon_res['Med Year'] != 'N/A') & (L_Surgeon_res['Med Year'] != 'br/>')]\n",
    "\n",
    "L_Surgeon_res2 = L_Surgeon_res2.astype({'Med Year':'int32'})"
   ]
  },
  {
   "cell_type": "code",
   "execution_count": 2516,
   "metadata": {},
   "outputs": [],
   "source": [
    "L_Surg_Data = L_Surgeon_res2.dropna(axis = 0)"
   ]
  },
  {
   "cell_type": "code",
   "execution_count": 2517,
   "metadata": {},
   "outputs": [
    {
     "name": "stderr",
     "output_type": "stream",
     "text": [
      "/opt/anaconda3/lib/python3.7/site-packages/pandas/core/frame.py:4263: SettingWithCopyWarning: \n",
      "A value is trying to be set on a copy of a slice from a DataFrame\n",
      "\n",
      "See the caveats in the documentation: http://pandas.pydata.org/pandas-docs/stable/user_guide/indexing.html#returning-a-view-versus-a-copy\n",
      "  method=method,\n"
     ]
    }
   ],
   "source": [
    "L_Surg_Data.replace(to_replace = {'Male': 1, 'Female': 0}, inplace=True)"
   ]
  },
  {
   "cell_type": "code",
   "execution_count": 2473,
   "metadata": {},
   "outputs": [
    {
     "data": {
      "text/html": [
       "<div>\n",
       "<style scoped>\n",
       "    .dataframe tbody tr th:only-of-type {\n",
       "        vertical-align: middle;\n",
       "    }\n",
       "\n",
       "    .dataframe tbody tr th {\n",
       "        vertical-align: top;\n",
       "    }\n",
       "\n",
       "    .dataframe thead th {\n",
       "        text-align: right;\n",
       "    }\n",
       "</style>\n",
       "<table border=\"1\" class=\"dataframe\">\n",
       "  <thead>\n",
       "    <tr style=\"text-align: right;\">\n",
       "      <th></th>\n",
       "      <th>Surgeons</th>\n",
       "      <th>NPI</th>\n",
       "      <th>URL</th>\n",
       "      <th>Gender</th>\n",
       "      <th>Surgery Volume</th>\n",
       "      <th>Med School</th>\n",
       "      <th>Med Year</th>\n",
       "      <th>Residency</th>\n",
       "      <th>Certifications</th>\n",
       "      <th>Hospitals</th>\n",
       "      <th># Death Cases</th>\n",
       "      <th>Death Rate</th>\n",
       "      <th># Problem Cases</th>\n",
       "      <th>Problem Rate</th>\n",
       "      <th>Hospital Score</th>\n",
       "    </tr>\n",
       "  </thead>\n",
       "  <tbody>\n",
       "    <tr>\n",
       "      <td>0</td>\n",
       "      <td>Dr. Paul Louis Cammack</td>\n",
       "      <td>1477637155</td>\n",
       "      <td>www.checkbook.org/surgeonratings/Lung-Surgery/...</td>\n",
       "      <td>1</td>\n",
       "      <td>N/A</td>\n",
       "      <td>University of Alabama</td>\n",
       "      <td>1975</td>\n",
       "      <td>N/A</td>\n",
       "      <td>Thoracic and Cardiac Surgery</td>\n",
       "      <td>Baptist Medical Center South;</td>\n",
       "      <td>-99</td>\n",
       "      <td>-99.0</td>\n",
       "      <td>48</td>\n",
       "      <td>27.7</td>\n",
       "      <td>25.3</td>\n",
       "    </tr>\n",
       "    <tr>\n",
       "      <td>1</td>\n",
       "      <td>Dr. Robert Cerfolio</td>\n",
       "      <td>1245272483</td>\n",
       "      <td>www.checkbook.org/surgeonratings/Lung-Surgery/...</td>\n",
       "      <td>1</td>\n",
       "      <td>N/A</td>\n",
       "      <td>University of Rochester</td>\n",
       "      <td>1988</td>\n",
       "      <td>Mayo Clinic-Rochester</td>\n",
       "      <td>Surgery;Thoracic and Cardiac Surgery</td>\n",
       "      <td>UAB Hospital;</td>\n",
       "      <td>426</td>\n",
       "      <td>6.6</td>\n",
       "      <td>408</td>\n",
       "      <td>26.8</td>\n",
       "      <td>73.0</td>\n",
       "    </tr>\n",
       "    <tr>\n",
       "      <td>2</td>\n",
       "      <td>Dr. Richard Lloyd Clay</td>\n",
       "      <td>1619960549</td>\n",
       "      <td>www.checkbook.org/surgeonratings/Lung-Surgery/...</td>\n",
       "      <td>1</td>\n",
       "      <td>N/A</td>\n",
       "      <td>University of South Alabama</td>\n",
       "      <td>1981</td>\n",
       "      <td>Bridgeport Hosp</td>\n",
       "      <td>Thoracic and Cardiac Surgery</td>\n",
       "      <td>Huntsville Hospital;</td>\n",
       "      <td>-99</td>\n",
       "      <td>-99.0</td>\n",
       "      <td>45</td>\n",
       "      <td>36.1</td>\n",
       "      <td>40.6</td>\n",
       "    </tr>\n",
       "    <tr>\n",
       "      <td>3</td>\n",
       "      <td>Dr. Evan Scott Cohen</td>\n",
       "      <td>1235122177</td>\n",
       "      <td>www.checkbook.org/surgeonratings/Lung-Surgery/...</td>\n",
       "      <td>1</td>\n",
       "      <td>N/A</td>\n",
       "      <td>Baylor University</td>\n",
       "      <td>1983</td>\n",
       "      <td>Baylor College of Medicine</td>\n",
       "      <td>Surgery;Thoracic and Cardiac Surgery</td>\n",
       "      <td>Huntsville Hospital;</td>\n",
       "      <td>127</td>\n",
       "      <td>3.1</td>\n",
       "      <td>122</td>\n",
       "      <td>17.9</td>\n",
       "      <td>40.6</td>\n",
       "    </tr>\n",
       "    <tr>\n",
       "      <td>4</td>\n",
       "      <td>Dr. Barry Glen Crowe</td>\n",
       "      <td>1710964739</td>\n",
       "      <td>www.checkbook.org/surgeonratings/Lung-Surgery/...</td>\n",
       "      <td>1</td>\n",
       "      <td>N/A</td>\n",
       "      <td>University of Alabama</td>\n",
       "      <td>1996</td>\n",
       "      <td>N/A</td>\n",
       "      <td>Thoracic and Cardiac Surgery</td>\n",
       "      <td>East Alabama Medical Center;</td>\n",
       "      <td>-99</td>\n",
       "      <td>-99.0</td>\n",
       "      <td>18</td>\n",
       "      <td>26.8</td>\n",
       "      <td>43.3</td>\n",
       "    </tr>\n",
       "  </tbody>\n",
       "</table>\n",
       "</div>"
      ],
      "text/plain": [
       "                 Surgeons         NPI  \\\n",
       "0  Dr. Paul Louis Cammack  1477637155   \n",
       "1     Dr. Robert Cerfolio  1245272483   \n",
       "2  Dr. Richard Lloyd Clay  1619960549   \n",
       "3    Dr. Evan Scott Cohen  1235122177   \n",
       "4    Dr. Barry Glen Crowe  1710964739   \n",
       "\n",
       "                                                 URL  Gender Surgery Volume  \\\n",
       "0  www.checkbook.org/surgeonratings/Lung-Surgery/...       1            N/A   \n",
       "1  www.checkbook.org/surgeonratings/Lung-Surgery/...       1            N/A   \n",
       "2  www.checkbook.org/surgeonratings/Lung-Surgery/...       1            N/A   \n",
       "3  www.checkbook.org/surgeonratings/Lung-Surgery/...       1            N/A   \n",
       "4  www.checkbook.org/surgeonratings/Lung-Surgery/...       1            N/A   \n",
       "\n",
       "                    Med School  Med Year                   Residency  \\\n",
       "0        University of Alabama      1975                         N/A   \n",
       "1      University of Rochester      1988       Mayo Clinic-Rochester   \n",
       "2  University of South Alabama      1981             Bridgeport Hosp   \n",
       "3            Baylor University      1983  Baylor College of Medicine   \n",
       "4        University of Alabama      1996                         N/A   \n",
       "\n",
       "                         Certifications                      Hospitals  \\\n",
       "0          Thoracic and Cardiac Surgery  Baptist Medical Center South;   \n",
       "1  Surgery;Thoracic and Cardiac Surgery                  UAB Hospital;   \n",
       "2          Thoracic and Cardiac Surgery           Huntsville Hospital;   \n",
       "3  Surgery;Thoracic and Cardiac Surgery           Huntsville Hospital;   \n",
       "4          Thoracic and Cardiac Surgery   East Alabama Medical Center;   \n",
       "\n",
       "   # Death Cases  Death Rate  # Problem Cases  Problem Rate  Hospital Score  \n",
       "0            -99       -99.0               48          27.7            25.3  \n",
       "1            426         6.6              408          26.8            73.0  \n",
       "2            -99       -99.0               45          36.1            40.6  \n",
       "3            127         3.1              122          17.9            40.6  \n",
       "4            -99       -99.0               18          26.8            43.3  "
      ]
     },
     "execution_count": 2473,
     "metadata": {},
     "output_type": "execute_result"
    }
   ],
   "source": [
    "L_Surg_Data.head()"
   ]
  },
  {
   "cell_type": "code",
   "execution_count": 2478,
   "metadata": {},
   "outputs": [
    {
     "data": {
      "image/png": "[encoded data removed]",
      "text/plain": [
       "<Figure size 432x288 with 1 Axes>"
      ]
     },
     "metadata": {
      "needs_background": "light"
     },
     "output_type": "display_data"
    }
   ],
   "source": [
    "sns.boxplot(data = (L_Surg_Data[L_Surg_Data['Certifications'].str.contains('Thoracic and Cardiac Surgery')]['Problem Rate'],\n",
    "                    L_Surg_Data[L_Surg_Data['Certifications'].str.contains('Thoracic and Cardiac Surgery')==False]['Problem Rate']),\n",
    "            orient = 'v')\n",
    "plt.xlabel('Certification')\n",
    "plt.ylabel('Problem Rate')\n",
    "plt.xticks(ticks  = [0,1], labels = ['Thoracic', 'General'])\n",
    "plt.title('Lung Surgery')\n",
    "\n",
    "plt.show()"
   ]
  },
  {
   "cell_type": "code",
   "execution_count": 2486,
   "metadata": {},
   "outputs": [
    {
     "data": {
      "text/plain": [
       "<matplotlib.axes._subplots.AxesSubplot at 0x1a1eed2250>"
      ]
     },
     "execution_count": 2486,
     "metadata": {},
     "output_type": "execute_result"
    },
    {
     "data": {
      "image/png": "[encoded data removed]",
      "text/plain": [
       "<Figure size 432x288 with 1 Axes>"
      ]
     },
     "metadata": {
      "needs_background": "light"
     },
     "output_type": "display_data"
    }
   ],
   "source": [
    "sns.regplot(L_Surg_Data['Hospital Score'], L_Surg_Data['Problem Rate'], scatter_kws={'s':2})"
   ]
  },
  {
   "cell_type": "code",
   "execution_count": 2475,
   "metadata": {},
   "outputs": [
    {
     "data": {
      "text/plain": [
       "<matplotlib.axes._subplots.AxesSubplot at 0x1a1e953710>"
      ]
     },
     "execution_count": 2475,
     "metadata": {},
     "output_type": "execute_result"
    },
    {
     "data": {
      "image/png": "[encoded data removed]",
      "text/plain": [
       "<Figure size 432x288 with 1 Axes>"
      ]
     },
     "metadata": {
      "needs_background": "light"
     },
     "output_type": "display_data"
    }
   ],
   "source": [
    "sns.regplot(L_Surg_Data['Hospital Score'], L_Surg_Data['# Problem Cases'], scatter_kws={'s':1})"
   ]
  },
  {
   "cell_type": "code",
   "execution_count": 2490,
   "metadata": {},
   "outputs": [
    {
     "data": {
      "image/png": "[encoded data removed]",
      "text/plain": [
       "<Figure size 756x252 with 2 Axes>"
      ]
     },
     "metadata": {
      "needs_background": "light"
     },
     "output_type": "display_data"
    }
   ],
   "source": [
    "plt.figure(figsize = [10.5, 3.5])\n",
    "\n",
    "plt.subplot(1,2,1)\n",
    "sns.regplot(L_Surg_Data['Med Year'], L_Surg_Data['Problem Rate'], scatter_kws={'s':2})\n",
    "\n",
    "plt.subplot(1,2,2)\n",
    "sns.regplot(L_Surg_Data['Med Year'], L_Surg_Data['Problem Rate'], order = 2, scatter_kws={'s':2})\n",
    "\n",
    "plt.show()"
   ]
  },
  {
   "cell_type": "code",
   "execution_count": 2468,
   "metadata": {},
   "outputs": [
    {
     "data": {
      "image/png": "[encoded data removed]",
      "text/plain": [
       "<Figure size 432x288 with 1 Axes>"
      ]
     },
     "metadata": {
      "needs_background": "light"
     },
     "output_type": "display_data"
    }
   ],
   "source": [
    "sns.boxplot(data = (L_Surg_Data[L_Surg_Data['Gender'] == 1]['Problem Rate'],\n",
    "                    L_Surg_Data[L_Surg_Data['Gender'] == 0]['Problem Rate']), orient = 'v')\n",
    "plt.xlabel('Gender')\n",
    "plt.ylabel('Problem Rate')\n",
    "plt.xticks(ticks  = [0,1], labels = ['Male', 'Female'])\n",
    "\n",
    "plt.show()"
   ]
  },
  {
   "cell_type": "code",
   "execution_count": 2460,
   "metadata": {},
   "outputs": [
    {
     "data": {
      "image/png": "[encoded data removed]",
      "text/plain": [
       "<Figure size 432x288 with 1 Axes>"
      ]
     },
     "metadata": {
      "needs_background": "light"
     },
     "output_type": "display_data"
    }
   ],
   "source": [
    "sns.boxplot(data = (L_Surg_Data[L_Surg_Data['Med School'].str.contains('Foreign')]['Problem Rate'],\n",
    "                    L_Surg_Data[L_Surg_Data['Med School'].str.contains('Foreign')==False]['Problem Rate']),\n",
    "            orient = 'v')\n",
    "plt.xlabel('Medical School')\n",
    "plt.ylabel('Problem Rate')\n",
    "plt.xticks(ticks  = [0,1], labels = ['Foreign', 'Domestic'])\n",
    "plt.title('Lung Surgery')\n",
    "\n",
    "plt.show()"
   ]
  },
  {
   "cell_type": "code",
   "execution_count": 2518,
   "metadata": {},
   "outputs": [
    {
     "name": "stderr",
     "output_type": "stream",
     "text": [
      "/opt/anaconda3/lib/python3.7/site-packages/ipykernel_launcher.py:15: SettingWithCopyWarning: \n",
      "A value is trying to be set on a copy of a slice from a DataFrame.\n",
      "Try using .loc[row_indexer,col_indexer] = value instead\n",
      "\n",
      "See the caveats in the documentation: http://pandas.pydata.org/pandas-docs/stable/user_guide/indexing.html#returning-a-view-versus-a-copy\n",
      "  from ipykernel import kernelapp as app\n"
     ]
    }
   ],
   "source": [
    "#Create dummie variables for foreign vs. domestic medical school\n",
    "\n",
    "med_status = []\n",
    "\n",
    "for med in L_Surg_Data['Med School']:\n",
    "    \n",
    "    if 'Foreign' in med:\n",
    "        \n",
    "        med_status.append(1)\n",
    "        \n",
    "    else:\n",
    "        \n",
    "        med_status.append(0)\n",
    "        \n",
    "L_Surg_Data['Foreign Med'] = med_status"
   ]
  },
  {
   "cell_type": "code",
   "execution_count": 2519,
   "metadata": {},
   "outputs": [
    {
     "name": "stderr",
     "output_type": "stream",
     "text": [
      "/opt/anaconda3/lib/python3.7/site-packages/ipykernel_launcher.py:15: SettingWithCopyWarning: \n",
      "A value is trying to be set on a copy of a slice from a DataFrame.\n",
      "Try using .loc[row_indexer,col_indexer] = value instead\n",
      "\n",
      "See the caveats in the documentation: http://pandas.pydata.org/pandas-docs/stable/user_guide/indexing.html#returning-a-view-versus-a-copy\n",
      "  from ipykernel import kernelapp as app\n"
     ]
    }
   ],
   "source": [
    "#Create dummie variables for thoracic surgery board certification or not\n",
    "\n",
    "cert_status = []\n",
    "\n",
    "for cert in L_Surg_Data['Certifications']:\n",
    "    \n",
    "    if 'Thoracic' in cert:\n",
    "        \n",
    "        cert_status.append(1)\n",
    "        \n",
    "    else:\n",
    "        \n",
    "        cert_status.append(0)\n",
    "        \n",
    "L_Surg_Data['Thoracic Cert'] = cert_status"
   ]
  },
  {
   "cell_type": "code",
   "execution_count": 2529,
   "metadata": {},
   "outputs": [
    {
     "name": "stderr",
     "output_type": "stream",
     "text": [
      "/opt/anaconda3/lib/python3.7/site-packages/ipykernel_launcher.py:1: SettingWithCopyWarning: \n",
      "A value is trying to be set on a copy of a slice from a DataFrame\n",
      "\n",
      "See the caveats in the documentation: http://pandas.pydata.org/pandas-docs/stable/user_guide/indexing.html#returning-a-view-versus-a-copy\n",
      "  \"\"\"Entry point for launching an IPython kernel.\n"
     ]
    }
   ],
   "source": [
    "L_Surg_Data.sort_values(by = 'Problem Rate', inplace = True)"
   ]
  },
  {
   "cell_type": "code",
   "execution_count": 2531,
   "metadata": {},
   "outputs": [
    {
     "data": {
      "text/plain": [
       "(1004, 17)"
      ]
     },
     "execution_count": 2531,
     "metadata": {},
     "output_type": "execute_result"
    }
   ],
   "source": [
    "L_Surg_Data.shape"
   ]
  },
  {
   "cell_type": "code",
   "execution_count": 2534,
   "metadata": {},
   "outputs": [
    {
     "name": "stdout",
     "output_type": "stream",
     "text": [
      "26.46872509960158\n",
      "8.964923224593667\n"
     ]
    }
   ],
   "source": [
    "print(L_Surg_Data['Problem Rate'].mean())\n",
    "print(L_Surg_Data['Problem Rate'].std())"
   ]
  },
  {
   "cell_type": "code",
   "execution_count": 2537,
   "metadata": {},
   "outputs": [
    {
     "name": "stderr",
     "output_type": "stream",
     "text": [
      "/opt/anaconda3/lib/python3.7/site-packages/ipykernel_launcher.py:22: SettingWithCopyWarning: \n",
      "A value is trying to be set on a copy of a slice from a DataFrame.\n",
      "Try using .loc[row_indexer,col_indexer] = value instead\n",
      "\n",
      "See the caveats in the documentation: http://pandas.pydata.org/pandas-docs/stable/user_guide/indexing.html#returning-a-view-versus-a-copy\n"
     ]
    }
   ],
   "source": [
    "#Designates on of 3 class labels to each physician according to their problem rate\n",
    "\n",
    "classes = []\n",
    "\n",
    "avg = L_Surg_Data['Problem Rate'].mean()\n",
    "stdev = L_Surg_Data['Problem Rate'].std()\n",
    "\n",
    "for rate in L_Surg_Data['Problem Rate']:\n",
    "    \n",
    "    if rate < (avg-stdev):\n",
    "        \n",
    "        classes.append(1)\n",
    "    \n",
    "    elif rate > (avg+stdev):\n",
    "        \n",
    "        classes.append(3)\n",
    "        \n",
    "    else:\n",
    "        \n",
    "        classes.append(2)\n",
    "\n",
    "L_Surg_Data['Class'] = classes"
   ]
  },
  {
   "cell_type": "code",
   "execution_count": 2599,
   "metadata": {},
   "outputs": [
    {
     "name": "stderr",
     "output_type": "stream",
     "text": [
      "/opt/anaconda3/lib/python3.7/site-packages/sklearn/linear_model/logistic.py:432: FutureWarning: Default solver will be changed to 'lbfgs' in 0.22. Specify a solver to silence this warning.\n",
      "  FutureWarning)\n",
      "/opt/anaconda3/lib/python3.7/site-packages/sklearn/linear_model/logistic.py:469: FutureWarning: Default multi_class will be changed to 'auto' in 0.22. Specify the multi_class option to silence this warning.\n",
      "  \"this warning.\", FutureWarning)\n"
     ]
    }
   ],
   "source": [
    "from sklearn.linear_model import LogisticRegression\n",
    "\n",
    "from sklearn.metrics import accuracy_score, confusion_matrix,roc_curve, roc_auc_score, precision_score, recall_score, f1_score\n",
    "\n",
    "X = L_Surg_Data[['Gender', 'Med Year', '# Problem Cases', 'Hospital Score', 'Foreign Med', 'Thoracic Cert']]\n",
    "Y = L_Surg_Data['Class']\n",
    "\n",
    "Logreg = LogisticRegression(random_state=18, class_weight= {1:100, 2:10, 3:110})\n",
    "#Logreg = LogisticRegression(random_state=18, class_weight= None)\n",
    "\n",
    "Logreg.fit(X, Y)\n",
    "\n",
    "Y_pred = Logreg.predict(X)"
   ]
  },
  {
   "cell_type": "code",
   "execution_count": 2597,
   "metadata": {},
   "outputs": [
    {
     "name": "stdout",
     "output_type": "stream",
     "text": [
      "Accuracy Score: 0.6314741035856574\n",
      "Confusion Matrix: \n",
      "[[ 47  64  26]\n",
      " [ 91 559  98]\n",
      " [ 34  57  28]]\n"
     ]
    }
   ],
   "source": [
    "print(f'Accuracy Score: {accuracy_score(Y, Y_pred)}')\n",
    "print(f'Confusion Matrix: \\n{confusion_matrix(Y, Y_pred)}')\n",
    "#print(f'Recall score: {recall_score(Y, Y_pred, average = 'micro')}')"
   ]
  },
  {
   "cell_type": "code",
   "execution_count": 2589,
   "metadata": {},
   "outputs": [],
   "source": [
    "from sklearn.naive_bayes import GaussianNB\n",
    "\n",
    "gnb = GaussianNB()\n",
    "\n",
    "gnb.fit(X, Y)\n",
    "\n",
    "Y_pred_GNB = gnb.predict(X)"
   ]
  },
  {
   "cell_type": "code",
   "execution_count": 2590,
   "metadata": {},
   "outputs": [
    {
     "name": "stdout",
     "output_type": "stream",
     "text": [
      "Accuracy Score: 0.6942231075697212\n",
      "Confusion Matrix: \n",
      "[[ 15 113   9]\n",
      " [ 41 675  32]\n",
      " [ 10 102   7]]\n"
     ]
    }
   ],
   "source": [
    "print(f'Accuracy Score: {accuracy_score(Y, Y_pred_GNB)}')\n",
    "print(f'Confusion Matrix: \\n{confusion_matrix(Y, Y_pred_GNB)}')"
   ]
  },
  {
   "cell_type": "code",
   "execution_count": 2610,
   "metadata": {},
   "outputs": [
    {
     "name": "stdout",
     "output_type": "stream",
     "text": [
      "0.16541353383458646\n"
     ]
    }
   ],
   "source": [
    "cm = confusion_matrix(Y, Y_pred_GNB)\n",
    "\n",
    "print((cm[0,0]+cm[2,2])/(cm[0:3,0].sum()+cm[2,0]+cm[0:3,2].sum()+cm[0,2]))"
   ]
  },
  {
   "cell_type": "code",
   "execution_count": 2604,
   "metadata": {},
   "outputs": [
    {
     "data": {
      "text/plain": [
       "66"
      ]
     },
     "execution_count": 2604,
     "metadata": {},
     "output_type": "execute_result"
    }
   ],
   "source": [
    "cm[0:3,0].sum()"
   ]
  },
  {
   "cell_type": "code",
   "execution_count": 2583,
   "metadata": {},
   "outputs": [],
   "source": [
    "from sklearn.naive_bayes import ComplementNB\n",
    "\n",
    "cnb = ComplementNB()\n",
    "\n",
    "cnb.fit(X, Y)\n",
    "\n",
    "Y_pred_CNB = cnb.predict(X)"
   ]
  },
  {
   "cell_type": "code",
   "execution_count": 2584,
   "metadata": {},
   "outputs": [
    {
     "name": "stdout",
     "output_type": "stream",
     "text": [
      "Accuracy Score: 0.4392430278884462\n",
      "Confusion Matrix: \n",
      "[[108  26   3]\n",
      " [388 328  32]\n",
      " [ 90  24   5]]\n"
     ]
    }
   ],
   "source": [
    "print(f'Accuracy Score: {accuracy_score(Y, Y_pred_CNB)}')\n",
    "print(f'Confusion Matrix: \\n{confusion_matrix(Y, Y_pred_CNB)}')"
   ]
  },
  {
   "cell_type": "code",
   "execution_count": 2600,
   "metadata": {},
   "outputs": [
    {
     "name": "stdout",
     "output_type": "stream",
     "text": [
      "0.6314741035856574\n",
      "0.671570815879688\n",
      "0.6492886742307145\n"
     ]
    }
   ],
   "source": [
    "print(recall_score(Y, Y_pred, average = 'weighted'))\n",
    "print(precision_score(Y, Y_pred, average = 'weighted'))\n",
    "print(f1_score(Y, Y_pred, average = 'weighted'))"
   ]
  },
  {
   "cell_type": "code",
   "execution_count": null,
   "metadata": {},
   "outputs": [],
   "source": []
  },
  {
   "cell_type": "code",
   "execution_count": null,
   "metadata": {},
   "outputs": [],
   "source": []
  },
  {
   "cell_type": "code",
   "execution_count": 2520,
   "metadata": {},
   "outputs": [
    {
     "data": {
      "text/plain": [
       "LinearRegression(copy_X=True, fit_intercept=True, n_jobs=None, normalize=False)"
      ]
     },
     "execution_count": 2520,
     "metadata": {},
     "output_type": "execute_result"
    }
   ],
   "source": [
    "from sklearn import linear_model\n",
    "from sklearn import preprocessing\n",
    "\n",
    "X = L_Surg_Data[['Gender', 'Med Year', '# Problem Cases', 'Hospital Score', 'Foreign Med', 'Thoracic Cert']]\n",
    "Y = L_Surg_Data['Problem Rate']\n",
    "\n",
    "X = preprocessing.StandardScaler().fit(X).transform(X.astype(float))\n",
    "\n",
    "regr = linear_model.LinearRegression()\n",
    "\n",
    "regr.fit(X, Y)"
   ]
  },
  {
   "cell_type": "code",
   "execution_count": 2521,
   "metadata": {},
   "outputs": [
    {
     "name": "stdout",
     "output_type": "stream",
     "text": [
      "Coefficients:\n",
      "Gender: 0.19\n",
      "Med Year: 0.42\n",
      "# Problem Cases: -0.13\n",
      "Hospital Score: -0.73\n",
      "Foreign Med: -0.03\n",
      "Thoracic Cert: 0.17\n",
      "R^2:  0.0096\n"
     ]
    }
   ],
   "source": [
    "print('Coefficients:')\n",
    "print('Gender: ' + str(round(regr.coef_[0], 2)))\n",
    "print('Med Year: ' + str(round(regr.coef_[1], 2)))\n",
    "print('# Problem Cases: ' + str(round(regr.coef_[2], 2)))\n",
    "print('Hospital Score: ' + str(round(regr.coef_[3], 2)))\n",
    "print('Foreign Med: ' + str(round(regr.coef_[4], 2)))\n",
    "print('Thoracic Cert: ' + str(round(regr.coef_[5], 2)))\n",
    "print('R^2: ', round(regr.score(X, Y), 4))"
   ]
  },
  {
   "cell_type": "code",
   "execution_count": null,
   "metadata": {},
   "outputs": [],
   "source": []
  },
  {
   "cell_type": "code",
   "execution_count": null,
   "metadata": {},
   "outputs": [],
   "source": []
  },
  {
   "cell_type": "code",
   "execution_count": 2526,
   "metadata": {},
   "outputs": [],
   "source": [
    "L_Surg_Data2 = L_Surg_Data[L_Surg_Data['# Problem Cases'] > 35]"
   ]
  },
  {
   "cell_type": "code",
   "execution_count": 2464,
   "metadata": {},
   "outputs": [
    {
     "data": {
      "image/png": "[encoded data removed]",
      "text/plain": [
       "<Figure size 432x288 with 1 Axes>"
      ]
     },
     "metadata": {
      "needs_background": "light"
     },
     "output_type": "display_data"
    }
   ],
   "source": [
    "sns.boxplot(data = (L_Surg_Data2[L_Surg_Data2['Med School'].str.contains('Foreign')]['Problem Rate'],\n",
    "                    L_Surg_Data2[L_Surg_Data2['Med School'].str.contains('Foreign')==False]['Problem Rate']),\n",
    "            orient = 'v')\n",
    "plt.xlabel('Medical School')\n",
    "plt.ylabel('Problem Rate')\n",
    "plt.xticks(ticks  = [0,1], labels = ['Foreign', 'Domestic'])\n",
    "plt.title('Lung Surgery')\n",
    "\n",
    "plt.figure(figsize = [10.5, 3.5])\n",
    "\n",
    "plt.subplot(1,2,1)plt.show()"
   ]
  },
  {
   "cell_type": "code",
   "execution_count": 2493,
   "metadata": {},
   "outputs": [
    {
     "data": {
      "image/png": "[encoded data removed]",
      "text/plain": [
       "<Figure size 756x252 with 2 Axes>"
      ]
     },
     "metadata": {
      "needs_background": "light"
     },
     "output_type": "display_data"
    }
   ],
   "source": [
    "plt.figure(figsize = [10.5, 3.5])\n",
    "\n",
    "plt.subplot(1,2,1)\n",
    "sns.regplot(L_Surg_Data2['Hospital Score'], L_Surg_Data2['Problem Rate'], scatter_kws={'s':2})\n",
    "\n",
    "plt.subplot(1,2,2)\n",
    "sns.regplot(L_Surg_Data2['Hospital Score'], L_Surg_Data2['Problem Rate'], order = 3, scatter_kws={'s':2})\n",
    "\n",
    "plt.show()"
   ]
  },
  {
   "cell_type": "code",
   "execution_count": 2491,
   "metadata": {},
   "outputs": [
    {
     "data": {
      "image/png": "[encoded data removed]",
      "text/plain": [
       "<Figure size 756x252 with 2 Axes>"
      ]
     },
     "metadata": {
      "needs_background": "light"
     },
     "output_type": "display_data"
    }
   ],
   "source": [
    "plt.figure(figsize = [10.5, 3.5])\n",
    "\n",
    "plt.subplot(1,2,1)\n",
    "sns.regplot(L_Surg_Data2['Med Year'], L_Surg_Data2['Problem Rate'], scatter_kws={'s':2})\n",
    "\n",
    "plt.subplot(1,2,2)\n",
    "sns.regplot(L_Surg_Data2['Med Year'], L_Surg_Data2['Problem Rate'], order = 2, scatter_kws={'s':2})\n",
    "\n",
    "plt.show()"
   ]
  },
  {
   "cell_type": "code",
   "execution_count": 2467,
   "metadata": {},
   "outputs": [
    {
     "data": {
      "text/plain": [
       "<matplotlib.axes._subplots.AxesSubplot at 0x1a1d201d10>"
      ]
     },
     "execution_count": 2467,
     "metadata": {},
     "output_type": "execute_result"
    },
    {
     "data": {
      "image/png": "[encoded data removed]",
      "text/plain": [
       "<Figure size 432x288 with 1 Axes>"
      ]
     },
     "metadata": {
      "needs_background": "light"
     },
     "output_type": "display_data"
    }
   ],
   "source": [
    "sns.regplot(L_Surg_Data2['# Problem Cases'], L_Surg_Data2['Problem Rate'], scatter_kws={'s':1})"
   ]
  },
  {
   "cell_type": "code",
   "execution_count": 2527,
   "metadata": {},
   "outputs": [
    {
     "data": {
      "text/plain": [
       "LinearRegression(copy_X=True, fit_intercept=True, n_jobs=None, normalize=False)"
      ]
     },
     "execution_count": 2527,
     "metadata": {},
     "output_type": "execute_result"
    }
   ],
   "source": [
    "X2 = L_Surg_Data2[['Gender', 'Med Year', '# Problem Cases', 'Hospital Score', 'Foreign Med', 'Thoracic Cert']]\n",
    "Y2 = L_Surg_Data2['Problem Rate']\n",
    "\n",
    "X2 = preprocessing.StandardScaler().fit(X2).transform(X2.astype(float))\n",
    "\n",
    "regr2 = linear_model.LinearRegression()\n",
    "\n",
    "regr2.fit(X2, Y2)"
   ]
  },
  {
   "cell_type": "code",
   "execution_count": 2528,
   "metadata": {},
   "outputs": [
    {
     "name": "stdout",
     "output_type": "stream",
     "text": [
      "Coefficients:\n",
      "Gender: 0.06\n",
      "Med Year: 0.37\n",
      "# Problem Cases: 0.13\n",
      "Hospital Score: -0.74\n",
      "Foreign Med: -0.11\n",
      "Thoracic Cert: -0.16\n",
      "R^2:  0.0065\n"
     ]
    }
   ],
   "source": [
    "print('Coefficients:')\n",
    "print('Gender: ' + str(round(regr2.coef_[0], 2)))\n",
    "print('Med Year: ' + str(round(regr2.coef_[1], 2)))\n",
    "print('# Problem Cases: ' + str(round(regr2.coef_[2], 2)))\n",
    "print('Hospital Score: ' + str(round(regr2.coef_[3], 2)))\n",
    "print('Foreign Med: ' + str(round(regr2.coef_[4], 2)))\n",
    "print('Thoracic Cert: ' + str(round(regr2.coef_[5], 2)))\n",
    "print('R^2: ', round(regr2.score(X, Y), 4))"
   ]
  },
  {
   "cell_type": "code",
   "execution_count": null,
   "metadata": {},
   "outputs": [],
   "source": []
  },
  {
   "cell_type": "code",
   "execution_count": null,
   "metadata": {},
   "outputs": [],
   "source": []
  },
  {
   "cell_type": "code",
   "execution_count": 2458,
   "metadata": {},
   "outputs": [],
   "source": [
    "#Removes surgeons with lower case number, higher variance problem scores\n",
    "Surg_Data2 = Surg_Data[Surg_Data['# Problem Cases'] > 50]"
   ]
  },
  {
   "cell_type": "code",
   "execution_count": null,
   "metadata": {},
   "outputs": [],
   "source": []
  },
  {
   "cell_type": "code",
   "execution_count": 2459,
   "metadata": {},
   "outputs": [
    {
     "data": {
      "text/plain": [
       "<matplotlib.axes._subplots.AxesSubplot at 0x1a1f07af90>"
      ]
     },
     "execution_count": 2459,
     "metadata": {},
     "output_type": "execute_result"
    },
    {
     "data": {
      "image/png": "[encoded data removed]",
      "text/plain": [
       "<Figure size 432x288 with 1 Axes>"
      ]
     },
     "metadata": {
      "needs_background": "light"
     },
     "output_type": "display_data"
    }
   ],
   "source": [
    "sns.regplot(Surg_Data2['Hospital Score'], Surg_Data2['Problem Rate'], scatter_kws={'s':1})"
   ]
  },
  {
   "cell_type": "code",
   "execution_count": null,
   "metadata": {},
   "outputs": [],
   "source": []
  },
  {
   "cell_type": "code",
   "execution_count": null,
   "metadata": {},
   "outputs": [],
   "source": []
  },
  {
   "cell_type": "code",
   "execution_count": null,
   "metadata": {},
   "outputs": [],
   "source": []
  },
  {
   "cell_type": "code",
   "execution_count": null,
   "metadata": {},
   "outputs": [],
   "source": []
  },
  {
   "cell_type": "code",
   "execution_count": null,
   "metadata": {},
   "outputs": [],
   "source": []
  },
  {
   "cell_type": "code",
   "execution_count": 911,
   "metadata": {},
   "outputs": [],
   "source": [
    "#Code for linear regression of GI Surgery data with some N/A values removed\n",
    "\n",
    "from sklearn import linear_model\n",
    "from sklearn import preprocessing\n",
    "\n",
    "X = Surg_Data[['Gender', 'Med Year', '# Problem Cases', 'Hospital Score']]\n",
    "Y = Surg_Data['Problem Rate']\n",
    "\n",
    "X = preprocessing.StandardScaler().fit(X).transform(X.astype(float))\n",
    "\n",
    "regr = linear_model.LinearRegression()\n",
    "\n",
    "regr.fit(X, Y)"
   ]
  },
  {
   "cell_type": "code",
   "execution_count": 909,
   "metadata": {},
   "outputs": [
    {
     "data": {
      "image/png": "[encoded data removed]",
      "text/plain": [
       "<Figure size 432x288 with 1 Axes>"
      ]
     },
     "metadata": {
      "needs_background": "light"
     },
     "output_type": "display_data"
    }
   ],
   "source": [
    "sns.boxplot(data = (Surgeon_res[Surgeon_res['Certifications'].str.contains('Colon and Rectal Surgery')]['Problem Rate'],\n",
    "                    Surgeon_res[Surgeon_res['Certifications'].str.contains('Colon and Rectal Surgery')==False]['Problem Rate']),\n",
    "            orient = 'v')\n",
    "plt.xlabel('Certifications')\n",
    "plt.ylabel('Problem Rate')\n",
    "plt.xticks(ticks  = [0,1], labels = ['Colon', 'Not Colon'])\n",
    "\n",
    "plt.show()"
   ]
  },
  {
   "cell_type": "code",
   "execution_count": 984,
   "metadata": {},
   "outputs": [
    {
     "data": {
      "image/png": "[encoded data removed]",
      "text/plain": [
       "<Figure size 432x288 with 1 Axes>"
      ]
     },
     "metadata": {
      "needs_background": "light"
     },
     "output_type": "display_data"
    }
   ],
   "source": [
    "sns.boxplot(data = (Surgeon_res[Surgeon_res['Med School'].str.contains('Foreign')]['Problem Rate'],\n",
    "                    Surgeon_res[Surgeon_res['Med School'].str.contains('Foreign')==False]['Problem Rate']),\n",
    "            orient = 'v')\n",
    "plt.xlabel('Medical School')\n",
    "plt.ylabel('Problem Rate')\n",
    "plt.xticks(ticks  = [0,1], labels = ['Foreign', 'Domestic'])\n",
    "plt.title('GI Surgery')\n",
    "\n",
    "plt.show()"
   ]
  },
  {
   "cell_type": "code",
   "execution_count": 982,
   "metadata": {},
   "outputs": [
    {
     "data": {
      "image/png": "[encoded data removed]",
      "text/plain": [
       "<Figure size 432x288 with 1 Axes>"
      ]
     },
     "metadata": {
      "needs_background": "light"
     },
     "output_type": "display_data"
    }
   ],
   "source": [
    "sns.boxplot(data = (L_Surgeon_res[L_Surgeon_res['Med School'].str.contains('Foreign')]['Problem Rate'],\n",
    "                    L_Surgeon_res[L_Surgeon_res['Med School'].str.contains('Foreign')==False]['Problem Rate']),\n",
    "            orient = 'v')\n",
    "plt.xlabel('Medical School')\n",
    "plt.ylabel('Problem Rate')\n",
    "plt.xticks(ticks  = [0,1], labels = ['Foreign', 'Domestic'])\n",
    "plt.title('Lung Surgery')\n",
    "\n",
    "plt.show()"
   ]
  },
  {
   "cell_type": "code",
   "execution_count": null,
   "metadata": {},
   "outputs": [],
   "source": []
  },
  {
   "cell_type": "code",
   "execution_count": 552,
   "metadata": {},
   "outputs": [],
   "source": [
    "\n",
    "hosp_string = ''\n",
    "\n",
    "for i in range(len(Surgeon_res['Hospitals'])):\n",
    "    \n",
    "    hosp_string = hosp_string + Surgeon_res['Hospitals'][i]"
   ]
  },
  {
   "cell_type": "code",
   "execution_count": 632,
   "metadata": {},
   "outputs": [],
   "source": [
    "h_split = hosp_string.split(';')\n",
    "\n",
    "h_set = set(h_split)\n",
    "\n",
    "h_names2 = list(h_set)"
   ]
  },
  {
   "cell_type": "code",
   "execution_count": null,
   "metadata": {},
   "outputs": [],
   "source": []
  },
  {
   "cell_type": "code",
   "execution_count": 978,
   "metadata": {},
   "outputs": [],
   "source": [
    "L_Hosp_data.to_csv('/Users/matthewowen/Desktop/Insight/L_Hospital_Scores.csv')"
   ]
  },
  {
   "cell_type": "code",
   "execution_count": null,
   "metadata": {},
   "outputs": [],
   "source": []
  },
  {
   "cell_type": "code",
   "execution_count": 636,
   "metadata": {},
   "outputs": [],
   "source": [
    "Hosp_data = pd.DataFrame({'Hospital': h_names, 'City': city_names, 'State': state_names, 'ZIP Code': ZIP_codes,\n",
    "                         'Score': h_scores})"
   ]
  },
  {
   "cell_type": "code",
   "execution_count": 2403,
   "metadata": {},
   "outputs": [
    {
     "name": "stdout",
     "output_type": "stream",
     "text": [
      "(2, 5)\n"
     ]
    }
   ],
   "source": [
    "VT_hosp = Hosp_data[Hosp_data['State'] == 'VT']\n",
    "\n",
    "print(VT_hosp.shape)"
   ]
  },
  {
   "cell_type": "code",
   "execution_count": 2404,
   "metadata": {},
   "outputs": [
    {
     "name": "stdout",
     "output_type": "stream",
     "text": [
      "True   Rutland Regional Medical Center\n",
      "False   University of Vermont Medical Center\n"
     ]
    }
   ],
   "source": [
    "for hosp in VT_hosp['Hospital']:\n",
    "    \n",
    "    print(str(hosp in hosp_string) + '   ' +  hosp)"
   ]
  },
  {
   "cell_type": "code",
   "execution_count": null,
   "metadata": {},
   "outputs": [],
   "source": []
  },
  {
   "cell_type": "code",
   "execution_count": 816,
   "metadata": {},
   "outputs": [],
   "source": [
    "MA_hosp2 = MA_hosp.replace(to_replace = MA_hosp_replace)\n",
    "\n",
    "MA_hosp2.reset_index(inplace = True)"
   ]
  },
  {
   "cell_type": "code",
   "execution_count": 852,
   "metadata": {},
   "outputs": [],
   "source": [
    "MA_Docs = pd.DataFrame(columns = ['Surgeons', 'Gender', 'Med Year', 'Hospitals', '# Problem Cases', 'Problem Rate'])\n",
    "\n",
    "\n",
    "for hos in MA_hosp2['Hospital']:\n",
    "    \n",
    "    df = Surgeon_res[Surgeon_res['Hospitals'].str.contains(hos)][['Surgeons', 'Gender', 'Med Year',\n",
    "                                                                  'Hospitals', '# Problem Cases', 'Problem Rate']]\n",
    "    \n",
    "    MA_Docs = MA_Docs.append(df, ignore_index = True)"
   ]
  },
  {
   "cell_type": "code",
   "execution_count": null,
   "metadata": {},
   "outputs": [],
   "source": []
  },
  {
   "cell_type": "code",
   "execution_count": 856,
   "metadata": {},
   "outputs": [],
   "source": [
    "\n",
    "hscores = []\n",
    "\n",
    "for i in range(len(MA_Docs['Surgeons'])):\n",
    "    \n",
    "    h = MA_Docs.iloc[i, 3]\n",
    "    h2 = h.split(';')\n",
    "    \n",
    "    \n",
    "    hsc = []\n",
    "\n",
    "    for x in h2:\n",
    "\n",
    "        if x in MA_dict:\n",
    "\n",
    "            hsc.append(MA_dict[x])\n",
    "\n",
    "        else:\n",
    "\n",
    "            pass\n",
    "    \n",
    "    if len(hsc) ==0:\n",
    "        \n",
    "        hscores.append(np.nan)\n",
    "        \n",
    "    else:\n",
    "        \n",
    "        \n",
    "        hscores.append(mean(hsc))\n",
    "    \n",
    "MA_Docs['Hospital Score'] = hscores"
   ]
  },
  {
   "cell_type": "code",
   "execution_count": null,
   "metadata": {},
   "outputs": [],
   "source": []
  },
  {
   "cell_type": "code",
   "execution_count": null,
   "metadata": {},
   "outputs": [],
   "source": []
  },
  {
   "cell_type": "code",
   "execution_count": 821,
   "metadata": {},
   "outputs": [
    {
     "name": "stdout",
     "output_type": "stream",
     "text": [
      "['Massachusetts General Hospital', 'Beth Israel Deaconess Medical Center', \"Brigham and Women's Hospital\", 'Winchester Hospital', \"Brigham and Women's Faulkner Hospital\", 'Boston Medical Center', 'Newton-Wellesley Hospital', 'Tufts Medical Center', 'Mount Auburn Hospital', 'MelroseWakefield Hospital', \"St. Elizabeth's Medical Center (Boston)\"]\n"
     ]
    }
   ],
   "source": [
    "#Finds which hospitals are located in list of ZIP codes\n",
    "HinZ = []\n",
    "\n",
    "for i in range(len(MA_hosp2['ZIP Code'])):\n",
    "    \n",
    "    if MA_hosp2['ZIP Code'][i][0:5] in in_radius:\n",
    "        \n",
    "        HinZ.append(str(MA_hosp2.iloc[i, 1]))\n",
    "        \n",
    "    else:\n",
    "        \n",
    "        pass\n",
    "        \n",
    "print(HinZ)"
   ]
  },
  {
   "cell_type": "code",
   "execution_count": 829,
   "metadata": {},
   "outputs": [],
   "source": [
    "\n",
    "Local_Docs = pd.DataFrame(columns = ['Surgeons', 'Gender', 'Hospitals', 'Problem Rate'])\n",
    "\n",
    "for d in range(len(MA_Docs['Surgeons'])):\n",
    "    \n",
    "    sp = MA_Docs.iloc[d, 2].split(';')\n",
    "    \n",
    "    for h in sp:\n",
    "            \n",
    "        if h in HinZ:\n",
    "                \n",
    "            df = MA_Docs.iloc[d, :]\n",
    "            Local_Docs = Local_Docs.append(df, ignore_index = True) \n",
    "            break\n",
    "                \n",
    "        else:\n",
    "                \n",
    "            pass"
   ]
  },
  {
   "cell_type": "code",
   "execution_count": 842,
   "metadata": {},
   "outputs": [],
   "source": [
    "Local_Docs.sort_values(by = ['Problem Rate'], inplace = True)"
   ]
  },
  {
   "cell_type": "code",
   "execution_count": 843,
   "metadata": {},
   "outputs": [
    {
     "data": {
      "text/html": [
       "<div>\n",
       "<style scoped>\n",
       "    .dataframe tbody tr th:only-of-type {\n",
       "        vertical-align: middle;\n",
       "    }\n",
       "\n",
       "    .dataframe tbody tr th {\n",
       "        vertical-align: top;\n",
       "    }\n",
       "\n",
       "    .dataframe thead th {\n",
       "        text-align: right;\n",
       "    }\n",
       "</style>\n",
       "<table border=\"1\" class=\"dataframe\">\n",
       "  <thead>\n",
       "    <tr style=\"text-align: right;\">\n",
       "      <th></th>\n",
       "      <th>Surgeons</th>\n",
       "      <th>Gender</th>\n",
       "      <th>Hospitals</th>\n",
       "      <th>Problem Rate</th>\n",
       "      <th>Hospital Score</th>\n",
       "    </tr>\n",
       "  </thead>\n",
       "  <tbody>\n",
       "    <tr>\n",
       "      <td>42</td>\n",
       "      <td>Dr. Daryoush Moghtader Ameri</td>\n",
       "      <td>Male</td>\n",
       "      <td>Winchester Hospital;</td>\n",
       "      <td>8.4</td>\n",
       "      <td>53.8</td>\n",
       "    </tr>\n",
       "    <tr>\n",
       "      <td>24</td>\n",
       "      <td>Dr. Tara S. Kent</td>\n",
       "      <td>Female</td>\n",
       "      <td>Beth Israel Deaconess Medical Center;Beth Isra...</td>\n",
       "      <td>12.4</td>\n",
       "      <td>60.9</td>\n",
       "    </tr>\n",
       "    <tr>\n",
       "      <td>8</td>\n",
       "      <td>Dr. Annkathryn Goodman</td>\n",
       "      <td>Female</td>\n",
       "      <td>Massachusetts General Hospital;</td>\n",
       "      <td>14.2</td>\n",
       "      <td>75.8</td>\n",
       "    </tr>\n",
       "    <tr>\n",
       "      <td>6</td>\n",
       "      <td>Dr. Carlos Fernandez-Del Castillo</td>\n",
       "      <td>Male</td>\n",
       "      <td>Massachusetts General Hospital;</td>\n",
       "      <td>14.9</td>\n",
       "      <td>75.8</td>\n",
       "    </tr>\n",
       "    <tr>\n",
       "      <td>1</td>\n",
       "      <td>Dr. Liliana G. Bordeianou</td>\n",
       "      <td>Female</td>\n",
       "      <td>Massachusetts General Hospital;</td>\n",
       "      <td>22.2</td>\n",
       "      <td>75.8</td>\n",
       "    </tr>\n",
       "  </tbody>\n",
       "</table>\n",
       "</div>"
      ],
      "text/plain": [
       "                             Surgeons  Gender  \\\n",
       "42       Dr. Daryoush Moghtader Ameri    Male   \n",
       "24                   Dr. Tara S. Kent  Female   \n",
       "8              Dr. Annkathryn Goodman  Female   \n",
       "6   Dr. Carlos Fernandez-Del Castillo    Male   \n",
       "1           Dr. Liliana G. Bordeianou  Female   \n",
       "\n",
       "                                            Hospitals  Problem Rate  \\\n",
       "42                               Winchester Hospital;           8.4   \n",
       "24  Beth Israel Deaconess Medical Center;Beth Isra...          12.4   \n",
       "8                     Massachusetts General Hospital;          14.2   \n",
       "6                     Massachusetts General Hospital;          14.9   \n",
       "1                     Massachusetts General Hospital;          22.2   \n",
       "\n",
       "    Hospital Score  \n",
       "42            53.8  \n",
       "24            60.9  \n",
       "8             75.8  \n",
       "6             75.8  \n",
       "1             75.8  "
      ]
     },
     "execution_count": 843,
     "metadata": {},
     "output_type": "execute_result"
    }
   ],
   "source": [
    "Local_Docs.head()"
   ]
  },
  {
   "cell_type": "code",
   "execution_count": 815,
   "metadata": {},
   "outputs": [
    {
     "data": {
      "text/plain": [
       "False"
      ]
     },
     "execution_count": 815,
     "metadata": {},
     "output_type": "execute_result"
    }
   ],
   "source": [
    "str(MA_hosp2[MA_hosp2['ZIP Code'] == '02114-2696']['Hospital'])  in MA_Docs['Hospitals'][1]"
   ]
  },
  {
   "cell_type": "code",
   "execution_count": null,
   "metadata": {},
   "outputs": [],
   "source": []
  },
  {
   "cell_type": "code",
   "execution_count": 789,
   "metadata": {},
   "outputs": [
    {
     "name": "stdout",
     "output_type": "stream",
     "text": [
      "['01801', '01803', '01820', '01821', '01864', '01867', '01880', '01887', '01889', '01890', '01906', '01940', '02026', '02090', '02101', '02106', '02108', '02109', '02110', '02111', '02113', '02114', '02115', '02116', '02118', '02119', '02120', '02121', '02122', '02124', '02125', '02126', '02127', '02128', '02129', '02130', '02131', '02132', '02134', '02135', '02136', '02138', '02139', '02140', '02141', '02142', '02143', '02144', '02145', '02146', '02148', '02149', '02150', '02151', '02154', '02155', '02158', '02159', '02162', '02163', '02166', '02167', '02169', '02170', '02171', '02172', '02174', '02176', '02180', '02184', '02186', '02194', '02199', '02202', '02203', '02205', '02210', '02215', '02222', '02420', '02421', '02445', '02446', '02451', '02452', '02453', '02454', '02458', '02459', '02460', '02461', '02462', '02464', '02465', '02466', '02467', '02468', '02472', '02474', '02476', '02478', '02492', '02494']\n"
     ]
    }
   ],
   "source": [
    "#code to implement search by zip code in the web app\n",
    "from pyzipcode import ZipCodeDatabase\n",
    "\n",
    "zipdb = ZipCodeDatabase()\n",
    "\n",
    "in_radius = [z.zip for z in zipdb.get_zipcodes_around_radius('02140', 10)] # ('ZIP', radius in miles)\n",
    "\n",
    "print(in_radius)"
   ]
  },
  {
   "cell_type": "code",
   "execution_count": null,
   "metadata": {},
   "outputs": [],
   "source": []
  },
  {
   "cell_type": "code",
   "execution_count": null,
   "metadata": {},
   "outputs": [],
   "source": []
  },
  {
   "cell_type": "code",
   "execution_count": 2409,
   "metadata": {},
   "outputs": [],
   "source": [
    "hosp_replace = {\n",
    "    'Southcoast Hospitals-Fall River, New Bedford and Wareham' : 'Southcoast Health Systems',\n",
    "    'South Shore Hospital-South Weymouth' : 'South Shore Hospital',\n",
    "    'North Shore Medical Center-Salem' : 'North Shore Medical Center (Salem)',\n",
    "    'St. Vincent Hospital-Worcester' : 'St. Vincent Hospital (Worcester)',\n",
    "    'UMass Memorial HealthAlliance-Clinton Hospital' : 'HealthAlliance Hospital',\n",
    "    'Mercy Medical Center-Springfield' : 'Mercy Medical Center (Springfield)',\n",
    "    'Good Samaritan Medical Center-Brockton' : 'Steward Good Samaritan Medical Center',\n",
    "    'St. Elizabeth\\'s Medical Center-Brighton' : 'St. Elizabeth\\'s Medical Center (Boston)',\n",
    "    'Holy Family Hospital': 'Holy Family Hospital at Merrimack Valley',\n",
    "    'University of Alabama at Birmingham Hospital' : 'UAB Hospital',\n",
    "    'Brookwood Baptist Medical Center' : 'Brookwood Medical Center',\n",
    "    'Southeast Health Medical Center' : 'Southeast Alabama Medical Center',\n",
    "    'Grandview Medical Center-Birmingham' : 'Grandview Medical Center/Southview Medical Center',\n",
    "    'Riverview Regional Medical Center-Gadsden' : 'Riverview Regional Medical Center',\n",
    "    'DCH Regional Medical Center' : 'DCH Regional/Northport Medical Center',\n",
    "    'Springhill Memorial Hospital' : 'Springhill Medical Center',\n",
    "    'St. Vincent\\'s Birmingham Hospital' : 'St. Vincent\\'s Birmingham',\n",
    "    'Providence Hospital-Mobile' : 'Providence Hospital (Mobile)',\n",
    "    'Marshall Medical Center South' : 'Marshall Medical Center (Guntersville)',\n",
    "    'St. Vincent\\'s East Hospital' : 'St. Vincent\\'s East',\n",
    "    'RMC Anniston' : 'Northeast Alabama Regional Medical Center',\n",
    "    'Jackson Hospital and Clinic' : 'Jackson Hospital (Montgomery)',\n",
    "    'Mayo Clinic-Phoenix' : 'Mayo Clinic Hospital',\n",
    "    'Banner University Medical Center Tucson' : 'Banner-University Medical Center',\n",
    "    'TMC Healthcare-Tucson' : 'Tucson Medical Center',\n",
    "    'HonorHealth Deer Valley Medical Center' : 'John C. Lincoln Deer Valley Hospital',\n",
    "    'HonorHealth John C. Lincoln Medical Center' : 'John C. Lincoln North Mountain Hospital',\n",
    "    'HonorHealth Scottsdale Shea Medical Center' : 'Shea Medical Center',\n",
    "    'Carondelet St. Mary\\'s Hospital' : 'St. Mary\\s Hospital (Tucson)',\n",
    "    'HonorHealth Scottsdale Osborn Medical Center' : 'Osborn Medical Center',\n",
    "    'Northwest Medical Center-Tucson' : 'Northwest Medical Center (Tucson)',\n",
    "    'CHI St. Vincent Infirmary' : 'St. Vincent Infirmary Medical Center',\n",
    "    'CHI St. Vincent Hot Springs Hospital' : 'St. Joseph\\'s Mercy Hot Springs',\n",
    "    'Mercy Hospital Rogers' : 'Mercy Hospital Northwest Arkansas',\n",
    "    'UAMS Medical Center' : 'University of Arkansas for Medical Sciences Medical Center',\n",
    "    'Baptist Health Medical Center-Little Rock' : 'Baptist Health Medical Center Little Rock',\n",
    "    'Baptist Health Medical Center-North Little Rock' : 'Baptist Health Medical Center North Little Rock',\n",
    "    'Unity Health White County Medical Center' : 'White County Medical Center',\n",
    "    'Northwest Medical Center-Springdale' : 'Northwest Medical Center (Bentonville)',\n",
    "    'Keck Medical Center of USC' : 'Keck Hospital of USC',\n",
    "    'Scripps La Jolla Hospitals' : 'Scripps Memorial Hospital La Jolla',\n",
    "    'UCI Medical Center' : 'University of California Irvine Medical Center',\n",
    "    'Huntington Memorial Hospital' : 'Huntington Hospital (Pasadena)',\n",
    "    'Stanford Health Care-Stanford Hospital' : 'Stanford University Hospital',\n",
    "    'John Muir Health-Walnut Creek Medical Center' : 'John Muir Medical Center - Walnut Creek Campus',\n",
    "    'MemorialCare Long Beach Medical Center' : 'Long Beach Memorial Medical Center',\n",
    "    'UC San Diego Health-Jacobs Medical Center' : 'UCSD Medical Center',\n",
    "    'Mission Hospitals-Mission Viejo and Laguna Beach' : 'Mission Hospital',\n",
    "    'John Muir Health-Concord Medical Center' : 'John Muir Medical Center - Concord Campus',\n",
    "    'Henry Mayo Newhall Hospital' : 'Henry Mayo Newhall Memorial Hospital',\n",
    "    'MemorialCare Saddleback Memorial Medical Center' : 'Saddleback Memorial Medical Center',\n",
    "    'MemorialCare Orange Coast Memorial Medical Center' : 'Orange Coast Memorial Medical Center',\n",
    "    'Adventist Health-Glendale' : 'Glendale Adventist Medical Center',\n",
    "    'City of Hope Comprehensive Cancer Center' : 'City of Hope',\n",
    "    'Providence Little Company of Mary Medical Center Torrance' : 'Providence Little Company of Mary (Torrance)',\n",
    "    'Mills-Peninsula Health Services-Burlingame' : 'Mills-Peninsula Medical Center',\n",
    "    'Good Samaritan Hospital-Los Angeles' : 'Good Samaritan Hospital (Los Angeles)',\n",
    "    'Washington Hospital-Fremont' : 'Washington Hospital',\n",
    "    'Fountain Valley Regional Hospital and Medical Center' : 'Fountain Valley Regional Hospital',\n",
    "    'Memorial Medical Center-Modesto' : 'Memorial Medical Center (Modesto)',\n",
    "    'Scripps Memorial Hospital-Encinitas' : 'Scripps Memorial Hospital Encinitas',\n",
    "    'St. Joseph Hospital-Orange' : 'St. Joseph Hospital (Orange)',\n",
    "    'Alta Bates Summit Medical Center-Oakland' : 'Alta Bates Summit Medical Center - Summit Campus',\n",
    "    'Stanford Health Care-ValleyCare' : 'ValleyCare Medical Center',\n",
    "    'Palomar Medical Center Escondido' : 'Palomar Medical Center',\n",
    "    'Alta Bates Summit Medical Center-Berkeley' : 'Alta Bates Summit Medical Center - Alta Bates Campus',\n",
    "    'Community Memorial Hospital-Ventura' : 'Community Memorial Hospital (Ventura)',\n",
    "    'San Antonio Regional Hospital' : 'San Antonio Community Hospital',\n",
    "    'St. Joseph Hospital-Eureka' : 'St. Joseph Hospital (Eureka)',\n",
    "    'Emanuel Medical Center-Turlock' : 'Emanuel Medical Center',\n",
    "    'Doctors Medical Center of Modesto' : 'Doctors Medical Center',\n",
    "    'O\\'Connor Hospital-San Jose' : 'O\\'Connor Hospital',\n",
    "    'Glendale Memorial Hospital and Health Center' : 'Glendale Memorial Hospital',\n",
    "    'Citrus Valley Medical Center-Inter Community Campus' : 'Citrus Valley Medical Center',\n",
    "    'Salinas Valley Memorial Healthcare System' : 'Salinas Valley Memorial Hospital',\n",
    "    'Palomar Medical Center Poway' : 'Palomar Medical Center',\n",
    "    'St. Agnes Medical Center' : 'Saint Agnes Medical Center',\n",
    "    'Loma Linda University Medical Center-Murrieta' : 'Loma Linda University Medical Center - Murrieta',\n",
    "    'St. Mary\\'s Medical Center-San Francisco' : 'St. Mary\\'s Medical Center (San Francisco)',\n",
    "    'Mercy Medical Center Merced' : 'Mercy Medical Center (Merced)',\n",
    "    'Marshall Medical Center-Placerville' : 'Marshall Medical Center (Placerville)',\n",
    "    'Kaweah Delta Medical Center' : 'Kaweah Delta Hospital',\n",
    "    'Good Samaritan Hospital-San Jose' : 'Good Samaritan Hospital (San Jose)',\n",
    "    'St. Joseph\\'s Medical Center-Stockton' : 'St. Joseph\\'s Medical Center',\n",
    "    'Marian Regional Medical Center' : 'Marian Medical Center',\n",
    "    'UCHealth University of Colorado Hospital' : 'University of Colorado Hospital',\n",
    "    'UCHealth Poudre Valley Hospital' : 'Poudre Valley Hospital',\n",
    "    'Boulder Community Health' : 'Boulder Community Foothills Hospital',\n",
    "    'SCL Health Saint Joseph Hospital' : 'Saint Joseph Hospital (Denver)',\n",
    "    'Presbyterian-St. Luke\\'s Medical Center' : 'Presbyterian/St. Luke\\'s Medical Center',\n",
    "    'UCHealth Memorial Hospital' : 'Memorial Hospital (Colorado Springs)',\n",
    "    'UCHealth Medical Center of the Rockies' : 'Medical Center of the Rockies',\n",
    "    'Penrose-St. Francis Health Services-Colorado Springs' : 'Penrose Hospital/St. Francis Medical Center',\n",
    "    'SCL Health Lutheran Medical Center' : 'Lutheran Medical Center (Wheat Ridge)',\n",
    "    'SCL Health Good Samaritan Medical Center' : 'Good Samaritan Medical Center (Lafayette)',\n",
    "    'St. Mary\\'s Hospital and Medical Center' : 'St. Mary\\'s Medical Center (Grand Junction)',\n",
    "    'St. Anthony Hospital-Lakewood' : 'St. Anthony Hospital (Lakewood)',\n",
    "    'Yale New Haven Hospital' : 'Yale-New Haven Hospital',\n",
    "    'UConn John Dempsey Hospital' : 'University of Connecticut Health Center - John Dempsey Hospital',\n",
    "    'St. Francis Hospital and Medical Center' : 'Saint Francis Hospital and Medical Center',\n",
    "    'St. Mary\\'s Hospital-Waterbury' : 'Saint Mary\\'s Hospital',\n",
    "    'Manchester Memorial Hospital-Connecticut' : 'Manchester Memorial Hospital',\n",
    "    'Christiana Care Hospitals' : 'Christiana Hospital/Wilmington Hospital',\n",
    "    'Beebe Healthcare-Lewes' : 'Beebe Medical Center',\n",
    "    'Cleveland Clinic Weston' : 'Cleveland Clinic Florida',\n",
    "    'AdventHealth Orlando' : 'Florida Hospitals',\n",
    "    'Mayo Clinic-Jacksonville' : 'Mayo Clinic',\n",
    "    'Baptist Medical Center Jacksonville' : 'Baptist Medical Center',\n",
    "    'Baptist Hospital of Miami' : 'Baptist Hospital',\n",
    "    'St. Joseph\\'s Hospital-Tampa' : 'St. Joseph\\'s Hospital (Tampa)',\n",
    "    'University of Miami Hospital and Clinics–UHealth Tower' : 'University of Miami Hospital',\n",
    "    'Jackson Health System-Miami' : 'Jackson Memorial Hospital',\n",
    "    'Lakeland Regional Health Medical Center' : 'Lakeland Regional Medical Center',\n",
    "    'Doctors Hospital-Coral Gables' : 'Doctors Hospital (Coral Gables)',\n",
    "    'Holy Cross Hospital-Fort Lauderdale' : 'Holy Cross Hospital (Fort Lauderdale)',\n",
    "    'Health First Holmes Regional Medical Center' : 'Holmes Regional Medical Center',\n",
    "    'Tallahassee Memorial Healthcare' : 'Tallahassee Memorial HealthCare',\n",
    "    'AdventHealth Wesley Chapel' : 'Florida Hospital Wesley Chapel',\n",
    "    'Cleveland Clinic Martin Heath' : 'Martin Memorial Medical Center',\n",
    "    'AdventHealth DeLand' : 'Florida Hospital DeLand',\n",
    "    'St. Vincent\\'s Medical Center Clay County' : 'St. Vincent\\'s Medical Center Southside',\n",
    "    'AdventHealth Zephyrhills' : 'Florida Hospital Zephyrhills',\n",
    "    'Health First Viera Hospital' : 'Viera Hospital',\n",
    "    'Health First Cape Canaveral Hospital' : 'Cape Canaveral Hospital',\n",
    "    'NCH Baker Hospital' : 'NCH Hospitals',\n",
    "    'Halifax Health Medical Center of Daytona Beach' : 'Halifax Health Medical Center',\n",
    "    'Gulf Coast Regional Medical Center' : 'Gulf Coast Medical Center (Panama City)',\n",
    "    'AdventHealth Waterman' : 'Florida Hospital Waterman',\n",
    "    'Florida Hospital Heartland Medical Center' : 'Florida Hospital Heartland/Florida Hospital Lake Placid',\n",
    "    'Health First Palm Bay Hospital' : 'Palm Bay Hospital',\n",
    "    'Cleveland Clinic Indian River Hospital' : 'Indian River Medical Center',\n",
    "    'Rockledge Regional Medical Center' : 'Wuesthoff Medical Center - Rockledge',\n",
    "    'Northwest Medical Center-Margate' : 'Northwest Medical Center (Margate)',\n",
    "    'Physicians Regional-Pine Ridge Hospital' : 'Physicians Regional Medical Center',\n",
    "    'Venice Regional Bayfront Hospital' : 'Venice Regional Bayfront Health',\n",
    "    'Sacred Heart Hospital Pensacola' : 'Sacred Heart Hospital (Pensacola)',\n",
    "    'Northside Hospital-St. Petersburg' : 'Northside Hospital (St Petersburg)',\n",
    "    'AdventHealth Fish Memorial' : 'Florida Hospital Fish Memorial',\n",
    "    'Good Samaritan Medical Center-West Palm Beach' : 'Good Samaritan Medical Center (West Palm Beach)',\n",
    "    'Sacred Heart Health System-Bay Medical Center' : 'Bay Medical Center',\n",
    "    'Citrus Memorial Health System-Inverness' : 'Citrus Memorial Hospital',\n",
    "    'Piedmont Atlanta Hospital' : 'Piedmont Hospital',\n",
    "    'Northside Hospital-Atlanta' : 'Northside Hospital (Atlanta)',\n",
    "    'University Hospital-Augusta' : 'University Hospital (Augusta)',\n",
    "    'Piedmont Athens Regional Medical Center' : 'Athens Regional Medical Center',\n",
    "    'WellStar West Georgia Medical Center' : 'West Georgia Medical Center',\n",
    "    'Grady Memorial Hospital-Atlanta' : 'Grady Memorial Hospital (Atlanta)',\n",
    "    'Northside Hospital-Forsyth' : 'Northside Hospital - Forsyth',\n",
    "    'Northside Hospital-Cherokee' : 'Northside Hospital - Cherokee',\n",
    "    'St. Joseph\\'s Hospital-Savannah' : 'St. Joseph\\'s Hospital (Savannah)',\n",
    "    'WellStar Atlanta Medical Center' : 'Atlanta Medical Center',\n",
    "    'St. Mary\\'s Health Care System-Athens' : 'St. Mary\\'s Hospital (Athens)',\n",
    "    'Southeast Georgia Health System Brunswick Campus' : 'Southeast Georgia Health System - Brunswick Campus',\n",
    "    'Tanner Medical Center-Carrollton' : 'Tanner Medical Center - Carrollton',\n",
    "    'WellStar Spalding Regional Hospital' : 'Spalding Regional Hospital',\n",
    "    'St. Francis Hospital-Columbus' : 'St. Francis Hospital (Columbus)',\n",
    "    'Doctor\\'s Hospital-Augusta' : 'Doctors Hospital of Augusta',\n",
    "    'Piedmont Rockdale Hospital' : 'Rockdale Medical Center',\n",
    "    'Piedmont Columbus Regional Midtown' : 'The Medical Center (Columbus)',\n",
    "    'Emory Decatur Hospital' : 'DeKalb Medical Center at North Decatur',\n",
    "    'Straub Medical Center' : 'Straub Clinic and Hospital',\n",
    "    'Kootenai Health-Coeur D\\'Alene' : 'Kootenai Medical Center',\n",
    "    'NorthShore University HealthSystem-Metro Chicago' : 'NorthShore University Health System',\n",
    "    'John H. Stroger Jr. Hospital of Cook County' : 'John H. Stroger, Jr. Hospital of Cook County',\n",
    "    'Elmhurst Hospital' : 'Elmhurst Memorial Hospital',\n",
    "    'Amita Health Adventist Medical Center-Hinsdale' : 'AMITA Adventist Medical Center, Hinsdale',\n",
    "    'Northwestern Medicine Lake Forest Hospital' : 'Northwestern Lake Forest Hospital',\n",
    "    'Northwestern Medicine Central DuPage Hospital' : 'Central DuPage Hospital',\n",
    "    'Amita Saints Mary and Elizabeth Medical Center Chicago' : 'Presence Saints Mary and Elizabeth Medical Center',\n",
    "    'OSF Healthcare St. Francis Medical Center' : 'OSF St. Francis Medical Center',\n",
    "    'Memorial Medical Center-Springfield' : 'Memorial Medical Center (Springfield)',\n",
    "    'Amita Health Elk Grove Village' : 'AMITA Health Alexian Brothers Medical Center, Elk Grove Village',\n",
    "    'Amita Health St. Joseph Medical Center Joliet' : 'Presence St. Joseph Medical Center',\n",
    "    'Amita Health Adventist La Grange Medical Center' : 'AMITA Adventist Medical Center, La Grange',\n",
    "    'Northwestern Medicine Delnor Hospital' : 'Delnor Hospital',\n",
    "    'MercyHealth Hospital-Rockton Avenue' : 'Mercy Health',\n",
    "    'SSM Health Good Samaritan Hospital' : 'SMS Health Good Samaritan - Mount Vernon',\n",
    "    'UnityPoint Health-Peoria' : 'UnityPoint Health - Methodist',\n",
    "    'Riverside Medical Center-Kankakee' : 'Riverside Medical Center(Kankakee)',\n",
    "    'Memorial Hospital-Belleville' : 'Memorial Hospital (Belleville)',\n",
    "    'Amita Health Resurrection Medical Center Chicago' : 'Presence Resurrection Medical Center',\n",
    "    'Centegra Hospital-McHenry' : 'Centegra Hospital - McHenry',\n",
    "    'Loyola Medicine MacNeal Hospital' : 'MacNeal Hospital',\n",
    "    'Little Company of Mary Hospital and Health Care Centers' : 'Little Company of Mary Hospital',\n",
    "    'Loyola Medicine Gottlieb Memorial Hospital' : 'Gottlieb Memorial Hospital',\n",
    "    'HSHS St. Elizabeth\\'s Hospital' : 'St. Elizabeth\\'s Hospital',\n",
    "    'Amita Health Mercy Medical Center Aurora' : 'Presence Mercy Medical Center',\n",
    "    'OSF Heart of Mary Medical Center' : 'OSF St. Mary Medical Center',\n",
    "    'Indiana University Health Ball Memorial Hospital' : 'IU Health Ball Memorial Hospital',\n",
    "    'Indiana University Health Bloomington Hospital' : 'IU Health Bloomington Hospital',\n",
    "    'Indiana University Health West Hospital' : 'IU Health West Hospital',\n",
    "    'Indiana University Health Medical Center' : 'IU Health University Hospital',\n",
    "    'Indiana University Health Arnett Hospital' : 'IU Health Arnett Hospital',\n",
    "    'Community Hospital of Anderson and Madison County' : 'Community Hospital Anderson',\n",
    "    'St. Vincent Indianapolis Hospital' : 'St. Vincent Hospital (Indianapolis)',\n",
    "    'Hendricks Regional Health-Danville' : 'Hendricks Regional Health',\n",
    "    'St. Mary Medical Center-Hobart' : 'St. Mary Medical Center (Hobart)',\n",
    "    'Union Hospital-Terre Haute' : 'Union Hospital (Terre Haute)',\n",
    "    'Reid Health-Richmond' : 'Reid Hospital',\n",
    "    'Good Samaritan Hospital-Vincennes' : 'Good Samaritan Hospital (Vincennes)',\n",
    "    'Baptist Health Floyd' : 'Floyd Memorial Hospital',\n",
    "    'Franciscan Health Lafayette East' : 'Franciscan St. Elizabeth Health - Lafayette East',\n",
    "    'St. Vincent Medical Center of Evansville' : 'St. Mary\\'s Medical Center (Evansville)',\n",
    "    'Porter Regional Hospital' : 'Porter Memorial Hospital',\n",
    "    'Franciscan Health Hammond' : 'Franciscan St. Margaret Health - Hammond Campus',\n",
    "    'Franciscan Health Indianapolis' : 'Fransiscan St. Francis Health Indianapolis',\n",
    "    'Franciscan Health Crown Point' : 'Franciscan St. Anthony Health - Crown Point',\n",
    "    'Franciscan Health Michigan City' : 'Franciscan St. Anthony Health - Michigan City',\n",
    "    'Mercy Medical Center-Dubuque' : 'Mercy Medical Center - Dubuque',\n",
    "    'UnityPoint Health-St. Luke\\'s Hospital' : 'St. Luke\\'s Hospital (Cedar Rapids)',\n",
    "    'UnityPoint Health-Iowa Methodist Medical Center' : 'Iowa Methodist Medical Center',\n",
    "    'Mercy Medical Center-North Iowa' : 'Mercy Medical Center - North Iowa',\n",
    "    'Mercy Medical Center-Cedar Rapids' : 'Mercy Medical Center - Cedar Rapids',\n",
    "    'MercyOne Des Moines Medical Center' : 'Mercy Medical Center (Des Moines)',\n",
    "    'MercyOne Siouxland Medical Center' : 'Mercy Medical Center - Sioux City',\n",
    "    'Genesis Medical Center-Davenport-West Central Park' : 'Genesis Medical Center',\n",
    "    'UnityPoint Health-Iowa Lutheran Hospital' : 'Iowa Lutheran Hospital',\n",
    "    'MercyOne Waterloo Medical Center' : 'Covenant Medical Center (Waterloo)',\n",
    "    'Mercy Iowa City Hospital' : 'Mercy Hospital of Iowa City',\n",
    "    'Great River Health System-West Burlington' : 'Great River Medical Center',\n",
    "    'Methodist Jennie Edmundson Hospital' : 'Jennie Edmundson Hospital',\n",
    "    'UnityPoint Health-Finley Hospital' : 'The Finley Hospital',\n",
    "    'Stormont Vail Hospital' : 'Stormont-Vail Regional Health Center',\n",
    "    'St. Luke\\'s South Hospital' : 'Saint Luke\\'s South Hospital',\n",
    "    'Wesley Healthcare Center' : 'Wesley Medical Center',\n",
    "    'Providence Medical Center-Kansas City' : 'Providence Medical Center (Kansas City)',\n",
    "    'Via Christi Hospital on St. Francis' : 'Via Christi Hospital',\n",
    "    'LMH Health-Lawrence' : 'Lawrence Memorial Hospital',\n",
    "    'University of Kentucky Albert B. Chandler Hospital' : 'UK HealthCare',\n",
    "    'St. Elizabeth Fort Thomas Hospital' : 'St. Elizabeth Fort Thomas',\n",
    "    'St. Joseph East Hospital' : 'Saint Joseph East',\n",
    "    'St. Elizabeth Florence Hospital' : 'St. Elizabeth Florence',\n",
    "    'CHI St. Joseph Health-Lexington' : 'Saint Joseph Hospital (Lexington)',\n",
    "    'St. Elizabeth Healthcare Edgewood-Covington Hospitals' : 'St. Elizabeth',\n",
    "    'Norton Hospital' : 'Norton Healthcare',\n",
    "    'Hardin Memorial Health-Elizabethtown' : 'Hardin Memorial Health (Elizabethtown)',\n",
    "    'Owensboro Health Regional Hospital' : 'Owensboro Health',\n",
    "    'Mercy Health-Lourdes Hospital' : 'Lourdes Hospital - Paducah',\n",
    "    'Medical Center at Bowling Green' : 'The Medical Center (Bowling Green)',\n",
    "    'King\\'s Daughters Medical Center-Ashland' : 'King\\'s Daughters Medical Center (Ashland)',\n",
    "    'Christus St. Frances Cabrini Hospital' : 'CHRISTUS St. Frances Cabrini Hospital',\n",
    "    'Tulane Health System-New Orleans' : 'Tulane Medical Center',\n",
    "    'Ochsner Medical Center-Kenner' : 'Ochsner Medical Center - Kenner',\n",
    "    'Ochsner Medical Center-North Shore' : 'Ochsner Medical Center - North Shore',\n",
    "    'Ochsner Medical Center-Baton Rouge' : 'Ochsner Medical Center',\n",
    "    'St. Francis Medical Center-Monroe' : 'St. Francis Medical Center (Monroe)',\n",
    "    'Christus Ochsner St. Patrick Hospital Southwest Louisiana' : 'CHRISTUS St. Patrick Hosptial',\n",
    "    'Christus Health Shreveport-Bossier' : 'University Health Shreveport',\n",
    "    'Opelousas General Hospital' : 'Opelousas General Health System',\n",
    "    'Mercy Medical Center-Baltimore' : 'Mercy Medical Center (Baltimore)',\n",
    "    'MedStar Good Samaritan Hospital' : 'Good Samaritan Hospital (Baltimore)',\n",
    "    'University of Maryland Baltimore Washington Medical Center' : 'Baltimore Washington Medical Center',\n",
    "    'Adventist Healthcare Shady Grove Medical Center' : 'Shady Grove Adventist Hospital',\n",
    "    'Holy Cross Hospital-Silver Spring' : 'Holy Cross Hospital (Silver Spring)',\n",
    "    'MedStar Union Memorial Hospital' : 'Union Memorial Hospital',\n",
    "    'Franklin Square Medical Center' : 'Franklin Square Hospital Center',\n",
    "    'St. Agnes Hospital-Baltimore' : 'St. Agnes Hospital (Baltimore)',\n",
    "    'MedStar Montgomery Medical Center' : 'Montgomery General Hospital',\n",
    "    'University of Maryland Upper Chesapeake Medical Center' : 'Upper Chesapeake Medical Center',\n",
    "    'Adventist Healthcare Washington Adventist Hospital' : 'Washington Adventist Hospital',\n",
    "    'Frederick Regional Hospital' : 'Frederick Memorial Hospital',\n",
    "    'Beaumont Hospital-Royal Oak' : 'Beaumont Hospital Royal Oak',\n",
    "    'DMC Harper University Hospital' : 'DMC Harper/DMC Hutzel',\n",
    "    'Beaumont Hospital-Grosse Pointe' : 'Beaumont Hospital Grosse Pointe',\n",
    "    'Beaumont Hospital-Troy' : 'Beaumont Hospital Troy',\n",
    "    'Spectrum Health-Butterworth and Blodgett Campuses' : 'Spectrum Health',\n",
    "    'McLaren Northern Michigan Hospital' : 'McLaren Northern Michigan',\n",
    "    'Mercy Health St. Mary\\'s Campus' : 'Mercy Health St. Mary\\'s',\n",
    "    'Covenant Healthcare-Saginaw' : 'Covenant Medical Center (Saginaw)',\n",
    "    'Beaumont Hospital-Dearborn' : 'Beaumont Hospital - Dearborn',\n",
    "    'Ascension Providence Hospital-Southfield' : 'Providence Hospital (Southfield)',\n",
    "    'St. Joseph Mercy Ann Arbor Hospital' : 'St. Joseph Mercy Hospital',\n",
    "    'St. Joseph Mercy Oakland Hospital' : 'St. Joseph Mercy Oakland',\n",
    "    'MidMichigan Medical Center-Midland' : 'MidMichigan Medical Center - Midland',\n",
    "    'DMC-Detroit Receiving Hospital' : 'DMC Detroit Receiving Hospital',\n",
    "    'Beaumont Hospital-Trenton' : 'Beaumont Hospital - Trenton',\n",
    "    'St. Mary\\'s of Michigan Hospital' : 'St. Mary\\'s of Michigan - Saginaw',\n",
    "    'DMC-Sinai-Grace Hospital' : 'DMC Sinai-Grace Hospital',\n",
    "    'Beaumont Hospital-Wayne' : 'Beaumont Hospital -Wayne',\n",
    "    'Ascension Crittenton Hospital Medical Center' : 'Crittenton Hospital Medical Center',\n",
    "    'Henry Ford Macomb Hospitals' : 'Henry Ford Macomb Hospital',\n",
    "    'McLaren Macomb Hospital' : 'McLaren Macomb',\n",
    "    'St. John Macomb-Oakland Hospital' : 'St. John Macomb/Oakland Hospitals',\n",
    "    'Beaumont Hospital-Farmington Hills' : 'Beaumont Hospital, Farmington Hills',\n",
    "    'Bronson Battle Creek Hospital' : 'Bronson Battle Creek',\n",
    "    'McLaren Flint Hospital' : 'McLaren Flint',\n",
    "    'McLaren Port Huron Hospital' : 'McLaren Port Huron',\n",
    "    'UP Health System-Marquette' : 'UP Health System Marquette',\n",
    "    'McLaren Bay Region Hospital' : 'McLaren Bay Region',\n",
    "    'McLaren Lapeer Region Hospital' : 'McLaren Lapeer Region',\n",
    "    'Metro Health-University of Michigan Health-Wyoming' : 'Metro Health Hospital',\n",
    "    'McLaren Greater Lansing Hospital' : 'McLaren Greater Lansing',\n",
    "    'Mercy Hospital-Coon Rapids' : 'Mercy Hospital (Coon Rapids)',\n",
    "    'Essentia Health-St. Mary\\'s Medical Center' : 'Essentia Health St. Mary\\'s Medical Center',\n",
    "    'Mayo Clinic Mankato' : 'Mayo Clinic Health System Mankato',\n",
    "    'Hennepin Healthcare-Minneapolis' : 'Hennepin County Medical Center',\n",
    "    'Mayo Clinic Health System-Albert Lea and Austin' : 'Mayo Clinic Albert Lea Medical Center',\n",
    "    'North Memorial Health Hospital' : 'North Memorial Medical Center',\n",
    "    'St. Luke\\'s Hospital-Duluth' : 'St. Luke\\'s Hospital (Duluth)',\n",
    "    'Lake Region Healthcare-Fergus Falls' : 'Lake Regional Health System',\n",
    "    'Essentia Health-St. Joseph\\'s Medical Center' : 'Essentia Health St. Joseph\\'s Medical Center',\n",
    "    'Baptist Memorial Hospital-Desoto' : 'Baptist Memorial Hospital - DeSoto',\n",
    "    'Baptist Memorial Hospital-North Mississippi' : 'Baptist Memorial Hospital - North Mississippi',\n",
    "    'North Mississippi Medical Center-Tupelo' : 'North Mississippi Medical Center - Tupelo',\n",
    "    'Singing River Health System-Pascagoula' : 'Ocean Springs Hospital/Singing River Hospital',\n",
    "    'Baptist Memorial Hospital-Golden Triangle' : 'Baptist Memorial Hospital - Golden Triangle',\n",
    "    'St. Luke\\'s North Hospital-Barry Road' : 'Saint Luke\\'s North Hospital - Barry Road',\n",
    "    'St. Luke\\'s Hospital of Kansas City' : 'Saint Luke\\'s Hospital of Kansas City',\n",
    "    'St. Luke\\'s East Hospital' : 'Saint Luke\\'s East Hospital',\n",
    "    'St. Luke\\'s Hospital-Chesterfield' : 'St. Luke\\'s Hospital (Chesterfield)',\n",
    "    'SSM Health DePaul Hospital-St. Louis' : 'SSM DePaul Health Center',\n",
    "    'SSM Health St. Louis University Hospital' : 'SSM Health Saint Louis University Hospital',\n",
    "    'SSM Health St. Joseph Hospital-Lake St. Louis' : 'SSM St. Joseph Hospital West',\n",
    "    'CoxHealth Springfield' : 'Cox Medical Center',\n",
    "    'Freeman Health System-Joplin' : 'Freeman Hospital West',\n",
    "    'SSM Health St. Mary\\'s Hospital-St. Louis' : 'SSM St. Mary\\'s Health Center',\n",
    "    'SSM Health St. Clare Hospital-Fenton' : 'SSM St. Clare Health Center',\n",
    "    'Christian Hospital' : 'Christian Northeast Hospital',\n",
    "    'St. Joseph Medical Center-Kansas City' : 'St. Joseph Medical Center (Kansas City)',\n",
    "    'St. Francis Healthcare System-Cape Girardeau' : 'St. Francis Medical Center (Cape Girardeau)',\n",
    "    'University of Missouri Health Care-Columbia' : 'University of Missouri Hospital',\n",
    "    'Lake Regional Health System-Osage Beach' : 'Lake Regional Health System',\n",
    "    'Southeast Hospital' : 'Southeast Missouri Hospital',\n",
    "    'Benefis Health System-Great Falls' : 'Benefis Healthcare - East Campus',\n",
    "    'Kalispell Regional Healthcare' : 'Kalispell Regional Medical Center',\n",
    "    'St. Vincent Healthcare-Billings' : 'St. Vincent Healthcare',\n",
    "    'St. Peter\\'s Hospital-Helena' : 'St. Peter\\'s Hospital (Helena)',\n",
    "    'Nebraska Medicine-Nebraska Medical Center' : 'The Nebraska Medical Center',\n",
    "    'CHI Health St Elizabeth' : 'CHI Health St. Elizabeth',\n",
    "    'Creighton University Medical Center-Bergan Mercy' : 'CHI Health Bergan Mercy',\n",
    "    'Bryan Medical Center' : 'BryanLGH Medical Center',\n",
    "    'Faith Regional Health Services-Norfolk' : 'Faith Regional Health Services',\n",
    "    'Great Plains Health-North Platte' : 'Great Plains Regional Medical Center (North Platte)',\n",
    "    'St. Mary\\'s Regional Medical Center-Reno' : 'Saint Mary\\'s Regional Medical Center',\n",
    "    'St. Rose Dominican Hospitals-San Martin Campus' : 'St. Rose Dominican Hospitals - San Martin Campus',\n",
    "    'St. Rose Dominican Hospitals-Siena Campus' : 'St. Rose Dominican Hospitals - Siena Campus',\n",
    "    'Carson Tahoe Health-Carson City' : 'Carson Tahoe Regional Medical Center',\n",
    "    'St. Joseph Hospital-Nashua' : 'St. Joseph Hospital (Nashua)',\n",
    "    'Morristown Medical Center' : 'Morristown Memorial Hospital',\n",
    "    'St. Peter\\'s University Hospital' : 'Saint Peter\\'s University Hospital',\n",
    "    'St. Barnabas Medical Center' : 'Saint Barnabas Medical Center',\n",
    "    'Hackensack Meridian Health Southern Ocean Medical Center' : 'Southern Ocean Medical Center',\n",
    "    'Hackensack Meridian Health Ocean Medical Center' : 'Ocean Medical Center',\n",
    "    'St. Luke\\'s Hospital-Warren Campus' : 'St. Luke\\'s Warren Campus',\n",
    "    'Hackensack Meridian Health Raritan Bay Medical Center' : 'Raritan Bay Medical Center',\n",
    "    'Penn Medicine Princeton Medical Center' : 'University Medical Center of Princeton at Plainsboro',\n",
    "    'Hackensack Meridian Health Mountainside Medical Center' : 'HackensackUMC Mountainside',\n",
    "    'Virtua Voorhees Hospital' : 'Virtua Berlin/Voorhees',\n",
    "    'Monmouth Medical Center-Long Branch Campus' : 'Monmouth Medical Center',\n",
    "    'Virtua Memorial Hospital' : 'Virtua Memorial',\n",
    "    'Hackensack Meridian Health Bayshore Medical Center' : 'Bayshore Community Hospital',\n",
    "    'Hackensack Meridian Health Riverview Medical Center' : 'Riverview Medical Center',\n",
    "    'Hackensack Meridian Health Palisades Medical Center' : 'HackensackUMC Palisades',\n",
    "    'Community Medical Center-Toms River' : 'Community Medical Center (Toms River)',\n",
    "    'Inspira Medical Center-Vineland' : 'Inspira Medical Center Vineland',\n",
    "    'Inspira Medical Center-Woodbury' : 'Inspira Medical Center Woodbury',\n",
    "    'Hackensack Meridian Health JFK Medical Center' : 'JFK Medical Center (Edison)',\n",
    "    'Robert Wood Johnson University Hospital at Hamilton' : 'Robert Wood Johnson University Hospital Hamilton',\n",
    "    'Capital Health Medical Center-Hopewell' : 'Capital Health Medical Center - Hopewell',\n",
    "    'Newton Medical Center-New Jersey' : 'Newton Medical Center',\n",
    "    'Cooper University Health Care-Camden' : 'Cooper University Hospital',\n",
    "    'Cape Regional Health System-Cape May Court House' : 'Cape Regional Medical Center',\n",
    "    'St. Clare\\'s Denville Hospital' : 'St. Clare\\'s Hospital',\n",
    "    'University of New Mexico Hospitals' : 'University of New Mexico Hospital',\n",
    "    'Memorial Medical Center-Las Cruces' : 'Memorial Medical Center of Las Cruces',\n",
    "    'New York-Presbyterian Hospital-Columbia and Cornell' : 'NewYork-Presbyterian',\n",
    "    'NYU Langone Hospitals' : 'NYU Langone Medical Center',\n",
    "    'St. Francis Hospital-Roslyn' : 'St. Francis Hospital (Roslyn)',\n",
    "    'NYU Winthrop Hospital' : 'Winthrop University Hospital',\n",
    "    'Mount Sinai Beth Israel Hospital' : 'Mount Sinai Beth Israel Medical Center - Petrie Division',\n",
    "    'Stony Brook University Hospital' : 'Stony Brook University Medical Center',\n",
    "    'New York-Presbyterian-Hudson Valley Hospital' : 'New York-Presbyterian Hudson Valley Hospital',\n",
    "    'Phelps Memorial Hospital Center' : 'Phelps Hospital',\n",
    "    'Mather Hospital' : 'John T. Mather Memorial Hospital',\n",
    "    'New York-Presbyterian Queens Hospital' : 'New York-Presbyterian/Queens',\n",
    "    'University of Vermont Health Network-Champlain Valley Physicians Hospital' : 'Champlain Valley Physicians Hospital Medical Center',\n",
    "    'St. Peter\\'s Hospital-Albany' : 'St. Peter\\'s Hospital (Albany)',\n",
    "    'Roswell Park Comprehensive Cancer Center' : 'Roswell Park Cancer Institute',\n",
    "    'St. Joseph Hospital-Bethpage' : 'St. Joseph\\'s Hospital (Bethpage)',\n",
    "    'NYC Health and Hospitals-Kings County' : 'Kings County Hospital Center',\n",
    "    'Long Island Community Hospital' : 'Brookhaven Memorial Hospital Medical Center',\n",
    "    'Sisters of Charity Hospital of Buffalo' : 'CHS Sisters of Charity Hospital',\n",
    "    'Faxton St. Luke\\'s Healthcare-Utica' : 'Faxton-St. Luke\\'s Healthcare',\n",
    "    'Our Lady of Lourdes Memorial Hospital' : 'Our Lady of Lourdes Medical Center',\n",
    "    'Mercy Hospital-Buffalo' : 'Mercy Hospital of Buffalo',\n",
    "    'Good Samaritan Regional Medical Center-Suffern' : 'Good Samaritan Hospital (Suffern)',\n",
    "    'Bassett Medical Center' : 'Mary Imogene Bassett Hospital',\n",
    "    'University of North Carolina Hospitals' : 'University of North Carolina Hospital',\n",
    "    'UNC Rex Hospital' : 'Rex Hospital',\n",
    "    'FirstHealth Moore Regional Hospital' : 'FirstHealth Hospitals',\n",
    "    'Moses H. Cone Memorial Hospital' : 'Cone Health',\n",
    "    'Novant Health Forsyth Medical Center' : 'Forsyth Medical Center',\n",
    "    'Mission Hospital-Asheville' : 'Mission St. Joseph\\'s Health System',\n",
    "    'Carolinas Healthcare Northeast' : 'Carolinas Medical Center NorthEast',\n",
    "    'Wake Forest Baptist Health-High Point Medical Center' : 'High Point Regional Health System',\n",
    "    'WakeMed Health and Hospitals-Raleigh Campus' : 'WakeMed Raleigh Campus',\n",
    "    'Nash Health Care Systems' : 'Nash General Hospital',\n",
    "    'Iredell Health System-Statesville' : 'Iredell Memorial Hospital',\n",
    "    'Carolinas Healthcare System Union' : 'Carolinas Medical Center Union',\n",
    "    'Carolinas Healthcare System Blue Ridge' : 'Carolinas HealthCare Blue Ridge Morganton',\n",
    "    'Johnston Health-Smithfield' : 'Johnston Memorial Hospital (Smithfield)',\n",
    "    'Wayne UNC Health Care-Goldsboro' : 'Wayne Memorial Hospital (Goldsboro)',\n",
    "    'Southeastern Health-Lumberton' : 'Southeastern Regional Medical Center',\n",
    "    'Margaret R. Pardee Memorial Hospital' : 'Pardee Hospital',\n",
    "    'Carteret Health Care Medical Center' : 'Carteret General Hospital',\n",
    "    'Sentara Albemarle Medical Center' : 'Sentara Albemarle Hospital',\n",
    "    'UNC Lenoir Healthcare-Kinston' : 'Lenoir Memorial Hospital',\n",
    "    'Cleveland Clinic Hillcrest Hospital' : 'Hillcrest Hospital',\n",
    "    'Cleveland Clinic Fairview Hospital' : 'Fairview Hospital (Cleveland)',\n",
    "    'Ohio State University Wexner Medical Center' : 'The Ohio State University Hospital',\n",
    "    'OhioHealth Riverside Methodist Hospital' : 'Riverside Methodist Hospital',\n",
    "    'Cleveland Clinic Akron General' : 'Akron General Medical Center',\n",
    "    'Summa Health-Akron Campus' : 'Summa Akron City Hospital',\n",
    "    'Cleveland Clinic South Pointe Hospital' : 'South Pointe Hospital',\n",
    "    'ProMedica Toledo Hospital' : 'The Toledo Hospital',\n",
    "    'St. John Medical Center-Westlake' : 'St. John Medical Center (Westlake)',\n",
    "    'Good Samaritan Hospital-Cincinnati' : 'Good Samaritan Hospital (Cincinnati)',\n",
    "    'Cleveland Clinic Medina Hospital' : 'Medina General Hospital',\n",
    "    'Mount Carmel East and West Hospitals' : 'Mount Carmel Hospital',\n",
    "    'Sycamore Medical Center' : 'Kettering Medical Center - Sycamore',\n",
    "    'OhioHealth Grant Medical Center' : 'Grant Medical Center',\n",
    "    'Mercy Health-St. Elizabeth Boardman Hospital' : 'St. Elizabeth Boardman Health Center',\n",
    "    'OhioHealth Dublin Methodist Hospital' : 'Dublin Methodist Hospital',\n",
    "    'Cleveland Clinic Marymount Hospital' : 'Marymount Hospital',\n",
    "    'Mercy Medical Center-Canton' : 'Mercy Medical Center (Canton)',\n",
    "    'Grandview Medical Center-Dayton' : 'Grandview Medical Center/Southview Medical Center',\n",
    "    'Mercy Health-Anderson Hospital' : 'Mercy Health - Anderson Hospital',\n",
    "    'Mercy Health-St. Vincent Medical Center' : 'Mercy St. Vincent Medical Center',\n",
    "    'Trinity Health System-Steubenville' : 'Trinity Hospital',\n",
    "    'Firelands Regional Health System-Sandusky' : 'Firelands Regional Medical Center',\n",
    "    'Lima Memorial Hospital' : 'Lima Memorial Health System',\n",
    "    'Atrium Medical Center-Middletown' : 'Atrium Medical Center',\n",
    "    'Adena Medical Center' : 'Adena Regional Medical Center',\n",
    "    'Mercy Health-St. Charles Hospital' : 'Mercy St. Charles Hospital',\n",
    "    'Mercy Health-Fairfield Hospital' : 'Mercy Hospital Fairfield',\n",
    "    'ProMedica Flower Hospital' : 'Flower Hospital',\n",
    "    'St. Luke\\'s Hospital-Maumee' : 'St. Luke\\'s Hospital (Maumee)',\n",
    "    'Lake Health-TriPoint Medical Center' : 'Lake Health Medical Center',\n",
    "    'Mercy Health-Clermont Hospital' : 'Mercy Hospital Clermont',\n",
    "    'Jewish Hospital-Mercy Health' : 'Jewish Hospital',\n",
    "    'Mercy Health-Lorain Hospital' : 'Mercy Regional Medical Center (Lorain)',\n",
    "    'Mercy Health Springfield Regional Medical Center' : 'Springfield Regional Medical Center',\n",
    "    'UPMC Presbyterian Shadyside' : 'UPMC Braddock/Montegiore,Presbyterian/Shadyside',\n",
    "    'Jefferson Health-Thomas Jefferson University Hospitals' : 'Thomas Jefferson University Hospital/Methodist Hospital',\n",
    "    'Hospitals of the University of Pennsylvania-Penn Presbyterian' : 'Hospital of the University of Pennsylvania',\n",
    "    'Penn State Health Milton S. Hershey Medical Center' : 'Penn State Milton S. Hershey Medical Center',\n",
    "    'Jefferson Health-Abington Hospital' : 'Abington Memorial Hospital',\n",
    "    'Excela Latrobe Area Hospital' : 'Excela Latrobe Hospital',\n",
    "    'Washington Hospital-Pennsylvania' : 'The Washington Hospital',\n",
    "    'St. Mary Medical Center-Langhorne' : 'St. Mary Medical Center (Langhorne)',\n",
    "    'Einstein Medical Center Philadelphia' : 'Einstein Medical Center',\n",
    "    'St. Luke\\'s Hospital-Anderson Campus' : 'St. Luke\\'s Hospital Anderson Campus',\n",
    "    'Guthrie Robert Packer Hospital' : 'Robert Packer Hospital',\n",
    "    'St. Vincent Hospital-Erie' : 'Saint Vincent Health Center',\n",
    "    'Excela Health Westmoreland Hospital' : 'Excela Westmoreland Hospital',\n",
    "    'Butler Health System-Butler Memorial Hospital' : 'Butler Memorial Hospital',\n",
    "    'Grand View Health-Sellersville' : 'Grand View Hospital (Sellersville)',\n",
    "    'UPMC Williamsport' : 'Williamsport Regional Medical Center',\n",
    "    'Pottstown Hospital' : 'Pottstown Memorial Medical Center',\n",
    "    'Heritage Valley Sewickley Hospital' : 'Heritage Valley Sewickley',\n",
    "    'Lehigh Valley Hospital-Pocono' : 'Lehigh Valley Hospital',\n",
    "    'Jefferson Health-Abington-Lansdale Hospital' : 'Abington Health Lansdale Hospital',\n",
    "    'Sharon Regional Medical Center' : 'Sharon Regional Health System',\n",
    "    'Penn Highlands DuBois Hospital' : 'Penn Highlands DuBois',\n",
    "    'Heritage Valley Health System-Beaver' : 'Heritage Valley Beaver',\n",
    "    'Baylor Scott and White Medical Center–Hillcrest' : 'Baylor Scott and White Medical Center - Hillcrest',\n",
    "    'Baylor Scott and White Medical Center–Waxahachie' : 'Baylor Scott and White Medical Center - Waxahachie',\n",
    "    'Baylor Scott and White Medical Center–Irving' : 'Baylor Scott and White Medical Center - Irving',\n",
    "    'Baylor Scott and White Medical Center-Round Rock' : 'Baylor Scott and White Medical Center - Round Rock',\n",
    "    'Baylor Scott and White Medical Center–Grapevine' : 'Baylor Regional Medical Center at Grapevine',\n",
    "    'Memorial Hermann-Texas Medical Center' : 'Memorial Hermann Memorial City Medical Center',\n",
    "    'Parkland Health and Hospital System-Dallas' : 'Parkland Health and Hospital System',\n",
    "    'UT Southwestern Medical Center' : 'UT Southwestern University Hospital St. Paul',\n",
    "    'Houston Methodist Sugar Land Hospital' : 'Methodist Sugar Land Hospital',\n",
    "    'Texas Health Presbyterian Hospital Plano' : 'Texas Health Presbyterian Hospital of Plano',\n",
    "    'Medical City Plano' : 'Medical Center of Plano',\n",
    "    'University of Texas MD Anderson Cancer Center' : 'The University of Texas M. D. Anderson Cancer Center',\n",
    "    'Christus Mother Frances Hospital-Tyler' : 'Mother Frances Hospital',\n",
    "    'Methodist Hospital-San Antonio' : 'Methodist Hospital (San Antonio)',\n",
    "    'Baylor Scott and White Medical Center-Temple' : 'Scott and White Hospital - Temple',\n",
    "    'Texas Health Presbyterian Hospital Dallas' : 'Texas Health Presbyterian Hospital of Dallas',\n",
    "    'Baylor Scott and White All Saints Medical Center–Fort Worth' : 'Baylor Medical Center Fort Worth',\n",
    "    'Ascension Seton Medical Center Austin' : 'Seton Medical Center Austin',\n",
    "    'Christus Spohn Hospital-Corpus Christi' : 'CHRISTUS Spohn Hospital',\n",
    "    'Christus St. Michael Health System-Texarkana' : 'CHRISTUS St. Michael Health System',\n",
    "    'Christus Santa Rosa Health System-San Antonio' : 'CHRISTUS Santa Rosa Hospital',\n",
    "    'West Houston Medical Center' : 'Houston Medical Center',\n",
    "    'United Regional Health Care System-Wichita Falls' : 'United Regional Health Care System',\n",
    "    'Hospitals of Providence Memorial Campus' : 'Providence Memorial Hospital',\n",
    "    'Citizens Medical Center-Victoria' : 'Citizens Medical Center',\n",
    "    'University Medical Center-Lubbock' : 'University Medical Center (Lubbock)',\n",
    "    'Covenant Medical Center-Lubbock' : 'Covenant Medical Center (Lubbock)',\n",
    "    'Medical City Denton' : 'Denton Regional Medical Center',\n",
    "    'Valley Baptist Medical Center-Brownsville' : 'Valley Baptist Medical Center - Brownsville',\n",
    "    'Texas Health Huguley Hospital Fort Worth South' : 'Texas Health Huguley Hospital',\n",
    "    'Ascension Seton Williamson Hospital' : 'Seton Medical Center Williamson',\n",
    "    'Baylor Scott and White Medical Center–College Station' : 'Scott and White Hospital - College Station',\n",
    "    'Baylor Scott and White Medical Center–McKinney' : 'Baylor Medical Center at McKinney',\n",
    "    'Ascension Seton Hays Hospital' : 'Seton Medical Center Hays',\n",
    "    'Baylor Scott and White Medical Center-Lake Pointe' : 'Lake Pointe Medical Center',\n",
    "    'Texas Health Harris Methodist Hospital Hurst-Euless-Bedford' : 'Texas Health Harris Methodist Hospital H-E-B',\n",
    "    'Texas Health Presbyterian Hospital Denton' : 'Texas Health Presbyterian Hospital of Denton',\n",
    "    'Christus Good Shepherd Medical Center-Marshall' : 'Good Shepherd Medical Center - Marshall',\n",
    "    'Medical City Arlington' : 'Medical Center of Arlington',\n",
    "    'Valley Baptist Medical Center-Harlingen' : 'Valley Baptist Medical Center - Harlingen',\n",
    "    'CHI St. Luke\\'s Health-The Woodlands Hospital' : 'St. Luke\\'s The Woodlands Hospital',\n",
    "    'Medical City North Hills' : 'North Hills Hospital',\n",
    "    'Hendrick Health System-Abilene' : 'Hendrick Medical Center',\n",
    "    'Wise Health System-Decatur' : 'Wise Regional Health System - East Campus',\n",
    "    'UT Health Athens' : 'East Texas Medical Center Athens',\n",
    "    'Northwest Texas Healthcare System-Amarillo' : 'Northwest Texas Healthcare System',\n",
    "    'Virginia Mason Medical Center' : 'Virginia Mason Hospital and Medical Center',\n",
    "    'Swedish Medical Center-First Hill' : 'Swedish/First Hill',\n",
    "    'EvergreenHealth Kirkland' : 'EvergreenHealth Medical Center',\n",
    "    'St. Joseph Medical Center-Tacoma' : 'St. Joseph Medical Center (Tacoma)',\n",
    "    'MultiCare Tacoma General Hospital' : 'Allenmore Hospital/Tacoma General Hospital',\n",
    "    'Swedish Issaquah Hospital' : 'Swedish/Issaquah',\n",
    "    'UW Medicine-Northwest Hospital and Medical Center' : 'Northwest Hospital and Medical Center',\n",
    "    'Legacy Salmon Creek Medical Center' : 'Legacy Salmon Creek Hospital',\n",
    "    'Swedish Edmonds Hospital' : 'Swedish/Edmonds',\n",
    "    'Skagit Regional Health-Mount Vernon' : 'Skagit Valley Hospital',\n",
    "    'Confluence Health-Central Washington Hospital' : 'Central Washington Hospital',\n",
    "    'Providence Sacred Heart Medical Center and Children\\'s Hospital' : 'Providence Sacred Heart Medical Center',\n",
    "    'St. Francis Hospital-Federal Way' : 'St. Francis Hospital (Federal Way)',\n",
    "    'Centra Lynchburg General Hospital' : 'Centra Lynchburg General/Centra Virginia Baptist',\n",
    "    'Legacy Good Samaritan Medical Center' : 'Legacy Good Samaritan Hospital and Medical Center',\n",
    "    'Legacy Meridian Park Medical Center' : 'Legacy Meridian Park Hospital',\n",
    "    'PeaceHealth Sacred Heart Medical Center at RiverBend' : 'Sacred Heart Medical Center at RiverBend',\n",
    "    'MUSC Health-University Medical Center' : 'MUSC University Medical Center',\n",
    "    'Roper St. Francis Hospital' : 'Roper Hospital',\n",
    "    'Prisma Health Greenville Memorial Hospital' : 'Greenville Memorial Hospital',\n",
    "    'Spartanburg Medical Center' : 'Spartanburg Regional Medical Center',\n",
    "    'Prisma Health Tuomey Hospital' : 'Palmetto Health Tuomey',\n",
    "    'McLeod Loris Seacoast Hospital' : 'McLeod Loris',\n",
    "    'Grand Strand Regional Medical Center' : 'Grand Strand Medical Center',\n",
    "    'Providence Hospital-Columbia' : 'Providence Hospital (Columbia)',\n",
    "    'St. Francis Hospital-Memphis' : 'Saint Francis Hospital (Memphis)',\n",
    "    'Methodist Hospitals of Memphis' : 'Methodist Healthcare',\n",
    "    'St. Francis Hospital-Bartlett' : 'Saint Francis Hospital Bartlett',\n",
    "    'St. Thomas Rutherford Hospital' : 'Saint Thomas Rutherford Hospital',\n",
    "    'Erlanger Medical Center' : 'Erlanger Health System',\n",
    "    'University of Wisconsin Hospitals' : 'UW Hospital and Clinics',\n",
    "    'Mayo Clinic Eau Claire' : 'Mayo Clinic Health System in Eau Claire',\n",
    "    'ThedaCare Regional Medical Center-Appleton' : 'Appleton Medical Center',\n",
    "    'Ascension Columbia St. Mary\\'s Hospital Milwaukee' : 'Columbia St. Mary\\'s Hospital Milwaukee',\n",
    "    'UnityPoint Health Meriter' : 'Meriter Hospital',\n",
    "    'Wheaton Franciscan Healthcare-St. Francis' : 'Wheaton Franciscan',\n",
    "    'Ascension All Saints Hospital' : 'Wheaton Franciscan Healthcare All Saints',\n",
    "    'Froedtert South-Kenosha Medical Center' : 'United Hospital (Kenosha)',\n",
    "    'Kent County Memorial Hospital' : 'Kent Hospital',\n",
    "    'Utah Valley Hospital' : 'Utah Valley Regional Medical Center'\n",
    "}"
   ]
  }
 ],
 "metadata": {
  "kernelspec": {
   "display_name": "Python 3",
   "language": "python",
   "name": "python3"
  },
  "language_info": {
   "codemirror_mode": {
    "name": "ipython",
    "version": 3
   },
   "file_extension": ".py",
   "mimetype": "text/x-python",
   "name": "python",
   "nbconvert_exporter": "python",
   "pygments_lexer": "ipython3",
   "version": "3.7.4"
  }
 },
 "nbformat": 4,
 "nbformat_minor": 2
}
