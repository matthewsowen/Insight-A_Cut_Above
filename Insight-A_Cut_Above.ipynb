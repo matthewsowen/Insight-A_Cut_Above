{
 "cells": [
  {
   "cell_type": "markdown",
   "metadata": {},
   "source": [
    "<H1> A Cut Above"
   ]
  },
  {
   "cell_type": "markdown",
   "metadata": {},
   "source": [
    "The goal of this project is to construct a machine learning model to predict the relative skill of surgeons (the rate at which they have negative outcomes) using easy to obtain information. In general, it is very hard to find surgical outcome data. However, there is some available on checkbook.org that has already been adjusted for the relative risk of the undertaken procedures. For this project I will collect this outcome data and other information from checkbook and combine it with hospital quality scores from U.S. News and aggregated patient review data. After merging and cleaning these datasets, I will use them to build and validate a classification model that can be used to generate classifications for my accompanying web app."
   ]
  },
  {
   "cell_type": "code",
   "execution_count": 2,
   "metadata": {},
   "outputs": [],
   "source": [
    "import pandas as pd\n",
    "import numpy as np\n",
    "import requests\n",
    "from bs4 import BeautifulSoup\n",
    "import sklearn\n",
    "import seaborn as sns\n",
    "import matplotlib as mp\n",
    "import matplotlib.pyplot as plt\n",
    "import time\n",
    "import re\n",
    "from statistics import mean"
   ]
  },
  {
   "cell_type": "markdown",
   "metadata": {},
   "source": [
    "<H2> Data Collection"
   ]
  },
  {
   "cell_type": "markdown",
   "metadata": {},
   "source": [
    "<H3>Surgeons: The ground truth data about the negative outcome rate of surgeons can be found on checkbook.org. To find the names of all relevant surgeons and the URL to a webpage with their individual information, I scraped the results page for each individual state."
   ]
  },
  {
   "cell_type": "code",
   "execution_count": 1,
   "metadata": {},
   "outputs": [],
   "source": [
    "#State ID codes stored to help loop through website\n",
    "state_codes = ('AL','AK','AZ','AR','CA','CO','CT','DE','DC','FL','GA','HI','ID','IL','IN','IA','KS','KY','LA',\n",
    "              'ME','MD','MA','MI','MN','MS','MO','MT','NE','NV','NH','NJ','NM','NY','NC','ND','OH','OK','OR','PA',\n",
    "              'RI','SC','SD','TN','TX','UT','VT','VA','WA','WV','WI','WY')"
   ]
  },
  {
   "cell_type": "code",
   "execution_count": 4,
   "metadata": {},
   "outputs": [],
   "source": [
    "#Information about the results of each surgeon is found on a unique webpage\n",
    "#The URLs for these webpages are present in tables organized by state\n",
    "#This code will iterate through the each state's results pages and extract surgeon name, URL, and surgeon's NPI number\n",
    "\n",
    "\n",
    "#Construct a dataframe to store scraped information\n",
    "Scrape = pd.DataFrame(columns = ['Surgeon', 'NPI', 'URL'])\n",
    "\n",
    "\n",
    "#Loop will move through the results from each state and scrape information\n",
    "for state in state_codes:\n",
    "\n",
    "    #Variables for the while loop\n",
    "    are_entries = True\n",
    "    count = 1\n",
    "\n",
    "    #While loop will iterate through each page of results for each state and stops when a page has no entries\n",
    "    while are_entries == True:\n",
    "\n",
    "        time.sleep(1)  #Institutes a short delay to not overwhelm website with requests\n",
    "\n",
    "        #BeautifulSoup parses webpage HTML and isolates the table\n",
    "        Sg = requests.get('https://www.checkbook.org/surgeonratings/Major-Bowel-Surgery/{}?Page={}'.format(state, str(count))).text\n",
    "        Sg_soup = BeautifulSoup(Sg, 'lxml')\n",
    "        Sg_table = Sg_soup.find('table')\n",
    "\n",
    "\n",
    "        Doc = Sg_table.find_all('a')     #Gathers the entries in the webpage table\n",
    "\n",
    "        count += 1     #Advances the count variable so next loop progresses to next page\n",
    "\n",
    "        #Stop the while loop if the table in the webpage has no entries\n",
    "        if len(Doc) == 0:\n",
    "\n",
    "            are_entries = False\n",
    "            pass\n",
    "\n",
    "        #If the page has entries then enter for loop to extract info\n",
    "        else:\n",
    "\n",
    "            #loops through each entry from the website table\n",
    "            for i in range(len(Doc)):\n",
    "\n",
    "                #Regular expression searches to find locations of relevant info in each entry\n",
    "                re1 = re.search('\\\">.*<', str(Doc[i]))\n",
    "                re2 = re.search('/\"', str(Doc[i]))\n",
    "                re3 = re.search('(?<=\\=)\\S+\\\"', str(Doc[i]))\n",
    "\n",
    "\n",
    "                #temporary dataframe to hold extracted info for each doctor\n",
    "                df = pd.DataFrame([[str(Doc[i])[re1.span()[0]+2 : re1.span()[1]-2],\n",
    "                                    str(Doc[i])[re2.span()[0]-10 : re2.span()[0]],\n",
    "                                   'www.checkbook.org' + str(Doc[i])[re3.span()[0]+1 : re3.span()[1]-1]]],   #Domain portion of URL must be added\n",
    "                                 columns = ['Surgeon', 'NPI', 'URL']) \n",
    "\n",
    "                #append each temporary dataframe to end of Scrape to build it row by row\n",
    "                Scrape = Scrape.append(df, ignore_index = True)\n"
   ]
  },
  {
   "cell_type": "code",
   "execution_count": 915,
   "metadata": {},
   "outputs": [],
   "source": [
    "#Code to scrape and extract surgeon name, URL, and surgeon's NPI number for Lung Surgeons\n",
    "\n",
    "#Construct a dataframe to store scraped information\n",
    "Scrape2 = pd.DataFrame(columns = ['Surgeon', 'NPI', 'URL'])\n",
    "\n",
    "\n",
    "#Loop will move through the results from each state and scrape information\n",
    "for state in state_codes:\n",
    "    #Variables for the while loop\n",
    "    are_entries = True\n",
    "    count = 1\n",
    "\n",
    "    #While loop will iterate through each page of results for each state and stops when a page has no entries\n",
    "    while are_entries == True:\n",
    "\n",
    "        time.sleep(0.4)  #Institutes a short delay to not overwhelm website with requests\n",
    "\n",
    "        #BeautifulSoup parses webpage HTML and isolates the table\n",
    "        Sg = requests.get('https://www.checkbook.org/surgeonratings/Lung-Surgery/{}?Page={}'.format(state, str(count))).text\n",
    "        Sg_soup = BeautifulSoup(Sg, 'lxml')\n",
    "        Sg_table = Sg_soup.find('table')\n",
    "\n",
    "\n",
    "        Doc = Sg_table.find_all('a')     #Gathers the entries in the webpage table\n",
    "\n",
    "        count += 1     #Advances the count variable so next loop progresses to next page\n",
    "\n",
    "        #Stop the while loop if the table in the webpage has no entries\n",
    "        if len(Doc) == 0:\n",
    "\n",
    "            are_entries = False\n",
    "            pass\n",
    "\n",
    "        #If the page has entries then enter for loop to extract info\n",
    "        else:\n",
    "\n",
    "            #loops through each entry from the website table\n",
    "            for i in range(len(Doc)):\n",
    "\n",
    "                #Regular expression searches to find locations of relevant info in each entry\n",
    "                re1 = re.search('\\\">.*<', str(Doc[i]))\n",
    "                re2 = re.search('/\"', str(Doc[i]))\n",
    "                re3 = re.search('(?<=\\=)\\S+\\\"', str(Doc[i]))\n",
    "\n",
    "\n",
    "                #temporary dataframe to hold extracted info for each doctor\n",
    "                df = pd.DataFrame([[str(Doc[i])[re1.span()[0]+2 : re1.span()[1]-2],\n",
    "                                    str(Doc[i])[re2.span()[0]-10 : re2.span()[0]],\n",
    "                                   'www.checkbook.org' + str(Doc[i])[re3.span()[0]+1 : re3.span()[1]-1]]],   #Domain portion of URL must be added\n",
    "                                 columns = ['Surgeon', 'NPI', 'URL']) \n",
    "\n",
    "                #append each temporary dataframe to end of Scrape to build it row by row\n",
    "                Scrape2 = Scrape2.append(df, ignore_index = True)\n"
   ]
  },
  {
   "cell_type": "code",
   "execution_count": 919,
   "metadata": {},
   "outputs": [],
   "source": [
    "Scrape2.to_csv('/Users/matthewowen/Desktop/Insight/Lung_Surgeon_URLs.csv')"
   ]
  },
  {
   "cell_type": "markdown",
   "metadata": {},
   "source": [
    "<H3> Surgeon info: Using the collected URLS for individual surgeon pages, information was extracted including surgical outcomes, gender, certifications, med school and med school graduation year."
   ]
  },
  {
   "cell_type": "code",
   "execution_count": 925,
   "metadata": {},
   "outputs": [],
   "source": [
    "#Create dataframe to hold surgeon information\n",
    "L_Surgeon_res = pd.DataFrame(columns = ['Surgeons', 'NPI', 'URL', 'Gender', 'Surgery Volume', 'Med School', 'Med Year',\n",
    "                           'Residency', 'Certifications', 'Hospitals', '# Death Cases', 'Death Rate', \n",
    "                           '# Problem Cases', 'Problem Rate'])\n",
    "\n",
    "#create list to store info about where there were issues retrieving info\n",
    "L_problem_list = ['']"
   ]
  },
  {
   "cell_type": "code",
   "execution_count": 926,
   "metadata": {},
   "outputs": [
    {
     "name": "stdout",
     "output_type": "stream",
     "text": [
      "Problem with Dr. Peter N/a Pluscht\n",
      "Problem with Dr. Robert Jay Standerfer\n",
      "Problem with Dr. David J. Cziperle\n",
      "Problem with Dr. Robert J. Robbins\n",
      "Problem with Dr. Mahesh K. Ramchandani\n"
     ]
    }
   ],
   "source": [
    "#Code for taking Surgeon URLs and scraping their individual information from checkbook.org\n",
    "\n",
    "#Count variable allows for scraping in chunks and resuming where previously left off\n",
    "count = 0\n",
    "\n",
    "#Loops through previously scrpaed URLs for each individual surgeon's page\n",
    "for URL in Scrape2['URL']:\n",
    "\n",
    "    #block to prevent loop from stopping if there are any errors\n",
    "    try:\n",
    "        #Navigate to website and parse HTML\n",
    "        rq = requests.get('http://' + URL).text\n",
    "        time.sleep(0.25)\n",
    "        rq_soup = BeautifulSoup(rq, 'lxml')\n",
    "        rq_table = rq_soup.find('table')\n",
    "\n",
    "\n",
    "\n",
    "        #isolates part of html with doctor names and number of cases\n",
    "        title = list(rq_soup.findAll('div', {'class' : 'yTitle'}))\n",
    "\n",
    "        #regular expression to find number of cases used in analysis\n",
    "        d_cases = re.search('span>\\((\\w+)\\W', str(title[0]))\n",
    "        b_cases = re.search('span>\\((\\w+)\\W', str(title[1]))\n",
    "\n",
    "        #assigns case values to variables\n",
    "        if 'cases' in str(title[0]):\n",
    "            death_cases = int(d_cases[1])\n",
    "        else:\n",
    "            death_cases = -99    #if no value is indicated, -99 is inserted\n",
    "\n",
    "        if 'cases' in str(title[1]):\n",
    "            bad_cases = int(b_cases[1])\n",
    "        else:\n",
    "            bad_cases = -99     #if no value is indicated, -99 is inserted\n",
    "\n",
    "\n",
    "\n",
    "        #isolates part of html with the percentages of deaths and bad outcomes\n",
    "        pcts = list(rq_soup.findAll('div', {'class' : 'mediumVal'}))\n",
    "        pctl = len(pcts)\n",
    "\n",
    "        if pctl == 1:\n",
    "            death_pct = -99    #if no value is indicated, -99 is inserted\n",
    "        else:\n",
    "            dpct_loc = re.search('\">[0-9.]+%</div', str(pcts[0]))\n",
    "            death_pct = float(str(pcts[0])[dpct_loc.span()[0]+2 : dpct_loc.span()[1]-6])\n",
    "\n",
    "        #regular expression finds location of bad outcome rate\n",
    "        bpct_loc = re.search('\">[0-9.]+%</div', str(pcts[pctl-1]))\n",
    "        bad_pct = float(str(pcts[pctl-1])[bpct_loc.span()[0]+2 : bpct_loc.span()[1]-6])\n",
    "\n",
    "        \n",
    "        #regular expression finds location of hospital names\n",
    "        hosps= re.findall('</span>\\w+(?:\\W+[a-zA-Z0-9()]+){1,13}?</li>' , str(rq_table))\n",
    "        hosp_list = ''\n",
    "        \n",
    "        #places hospitals in a semicolon separated list\n",
    "        for i in range(len(hosps)):\n",
    "\n",
    "            hosp_list = hosp_list + hosps[i][7:-5] + ';'\n",
    "\n",
    "\n",
    "        #Parses html to find information stored in a table format and assigns entries to a list\n",
    "        table_entries = list(rq_soup.findAll('td', {'class' : 'alignCenter'}))\n",
    "\n",
    "        #identifies the gender of the physician\n",
    "        if 'Male' in str(table_entries[1]):\n",
    "            gender = 'Male'\n",
    "        else:\n",
    "            gender = 'Female'\n",
    "\n",
    "        #isolates string for what relative volume of surgery they perform\n",
    "        volume = str(table_entries[5])[25:-6]\n",
    "\n",
    "        if len(volume) == 0:\n",
    "            volume = 'N/A'      #empty entry gets recorded as N/A\n",
    "\n",
    "        #isolates string for their medical school, if indicated\n",
    "        med_school = str(table_entries[6])[25:-16]\n",
    "\n",
    "        if len(str(table_entries[6])[25:-16]) == 0:\n",
    "            med_school = 'N/A'      #empty entry gets recorded as N/A\n",
    "\n",
    "        #isolates string for med school graduation year, if indicated\n",
    "        med_year = str(table_entries[6])[-10:-6]\n",
    "\n",
    "        if len(str(table_entries[6])[25:-16]) == 0:\n",
    "            med_year = 'N/A'       #empty entry gets recorded as N/A\n",
    "\n",
    "        #isolates string for internship and/or residency program\n",
    "        res = str(table_entries[7])\n",
    "\n",
    "        if len(res) < 35:\n",
    "            residency = 'N/A'      #empty entry gets recorded as N/A\n",
    "\n",
    "        else:\n",
    "            resid = re.findall('px;\">\\w+(?:\\W+[a-zA-Z]+){1,10}?</div>' , res)\n",
    "\n",
    "            residency = resid[0][5:-6]\n",
    "\n",
    "\n",
    "        #breaks table into a list of elements with the <ul> tag\n",
    "        ul = rq_table.findAll('ul')\n",
    "\n",
    "        #last element of above list contains board certifications\n",
    "        #the string is split where </li> tags are to separate different certifications\n",
    "        li_split = (str(ul[-1])).split('</li>')\n",
    "\n",
    "        #if statement signifies if no certificate info is present\n",
    "        if 'certificate' not in str(li_split):\n",
    "            cert_list = 'None'\n",
    "\n",
    "        else:\n",
    "\n",
    "            #starts string with first certification\n",
    "            cert_list = li_split[0][38:len(li_split[0])]\n",
    "\n",
    "            #loop adds any other certifications separated by semicolons\n",
    "            for i in range(len(li_split)-2):\n",
    "\n",
    "                cert_list = cert_list + ';' + li_split[i+1][5:len(li_split[i+1])]\n",
    "\n",
    "        #converts ampersands to 'and' thus getting rid of problematic semicolon\n",
    "        cert_list = cert_list.replace('&amp;', 'and')\n",
    "        residency = residency.replace('&amp;', 'and')\n",
    "        hosp_list = hosp_list.replace('&amp;', 'and')\n",
    "        med_school = med_school.replace('&amp;', 'and')\n",
    "\n",
    "\n",
    "        #Collects the scraped info in a temporary dataframe that can be appended \n",
    "        #to the main one during each iteration of the loop\n",
    "        df = pd.DataFrame([[Scrape2.iloc[count, 0], Scrape2.iloc[count, 1], Scrape2.iloc[count, 2],\n",
    "                           gender, volume, med_school, med_year, residency, cert_list, hosp_list,\n",
    "                           death_cases, death_pct, bad_cases, bad_pct]],\n",
    "                          columns = ['Surgeons', 'NPI', 'URL', 'Gender', 'Surgery Volume', 'Med School', 'Med Year',\n",
    "                               'Residency', 'Certifications', 'Hospitals', '# Death Cases', 'Death Rate', \n",
    "                               '# Problem Cases', 'Problem Rate'])\n",
    "\n",
    "        L_Surgeon_res = L_Surgeon_res.append(df, ignore_index = True)\n",
    "\n",
    "    #If there is an error retrieving info on a surgeon their name is printed and\n",
    "    #added to a reference list\n",
    "    except:\n",
    "        print('Problem with ' + Scrape2['Surgeon'][count])\n",
    "        L_problem_list.append(Scrape2['Surgeon'][count])\n",
    "        \n",
    "    count +=1"
   ]
  },
  {
   "cell_type": "code",
   "execution_count": 38,
   "metadata": {},
   "outputs": [
    {
     "data": {
      "text/html": [
       "<div>\n",
       "<style scoped>\n",
       "    .dataframe tbody tr th:only-of-type {\n",
       "        vertical-align: middle;\n",
       "    }\n",
       "\n",
       "    .dataframe tbody tr th {\n",
       "        vertical-align: top;\n",
       "    }\n",
       "\n",
       "    .dataframe thead th {\n",
       "        text-align: right;\n",
       "    }\n",
       "</style>\n",
       "<table border=\"1\" class=\"dataframe\">\n",
       "  <thead>\n",
       "    <tr style=\"text-align: right;\">\n",
       "      <th></th>\n",
       "      <th>Surgeons</th>\n",
       "      <th>NPI</th>\n",
       "      <th>URL</th>\n",
       "      <th>Gender</th>\n",
       "      <th>Surgery Volume</th>\n",
       "      <th>Med School</th>\n",
       "      <th>Med Year</th>\n",
       "      <th>Residency</th>\n",
       "      <th>Certifications</th>\n",
       "      <th>Hospitals</th>\n",
       "      <th># Death Cases</th>\n",
       "      <th>Death Rate</th>\n",
       "      <th># Problem Cases</th>\n",
       "      <th>Problem Rate</th>\n",
       "    </tr>\n",
       "  </thead>\n",
       "  <tbody>\n",
       "    <tr>\n",
       "      <td>0</td>\n",
       "      <td>Dr. Paul Louis Cammack</td>\n",
       "      <td>1477637155</td>\n",
       "      <td>www.checkbook.org/surgeonratings/Lung-Surgery/...</td>\n",
       "      <td>Male</td>\n",
       "      <td>NaN</td>\n",
       "      <td>University of Alabama</td>\n",
       "      <td>1975</td>\n",
       "      <td>NaN</td>\n",
       "      <td>Thoracic and Cardiac Surgery</td>\n",
       "      <td>Baptist Medical Center South;</td>\n",
       "      <td>-99</td>\n",
       "      <td>-99.0</td>\n",
       "      <td>48</td>\n",
       "      <td>27.7</td>\n",
       "    </tr>\n",
       "    <tr>\n",
       "      <td>1</td>\n",
       "      <td>Dr. Robert Cerfolio</td>\n",
       "      <td>1245272483</td>\n",
       "      <td>www.checkbook.org/surgeonratings/Lung-Surgery/...</td>\n",
       "      <td>Male</td>\n",
       "      <td>NaN</td>\n",
       "      <td>University of Rochester</td>\n",
       "      <td>1988</td>\n",
       "      <td>Mayo Clinic-Rochester</td>\n",
       "      <td>Surgery;Thoracic and Cardiac Surgery</td>\n",
       "      <td>UAB Hospital;</td>\n",
       "      <td>426</td>\n",
       "      <td>6.6</td>\n",
       "      <td>408</td>\n",
       "      <td>26.8</td>\n",
       "    </tr>\n",
       "    <tr>\n",
       "      <td>2</td>\n",
       "      <td>Dr. Richard Lloyd Clay</td>\n",
       "      <td>1619960549</td>\n",
       "      <td>www.checkbook.org/surgeonratings/Lung-Surgery/...</td>\n",
       "      <td>Male</td>\n",
       "      <td>NaN</td>\n",
       "      <td>University of South Alabama</td>\n",
       "      <td>1981</td>\n",
       "      <td>Bridgeport Hosp</td>\n",
       "      <td>Thoracic and Cardiac Surgery</td>\n",
       "      <td>Huntsville Hospital;</td>\n",
       "      <td>-99</td>\n",
       "      <td>-99.0</td>\n",
       "      <td>45</td>\n",
       "      <td>36.1</td>\n",
       "    </tr>\n",
       "    <tr>\n",
       "      <td>3</td>\n",
       "      <td>Dr. Evan Scott Cohen</td>\n",
       "      <td>1235122177</td>\n",
       "      <td>www.checkbook.org/surgeonratings/Lung-Surgery/...</td>\n",
       "      <td>Male</td>\n",
       "      <td>NaN</td>\n",
       "      <td>Baylor University</td>\n",
       "      <td>1983</td>\n",
       "      <td>Baylor College of Medicine</td>\n",
       "      <td>Surgery;Thoracic and Cardiac Surgery</td>\n",
       "      <td>Huntsville Hospital;</td>\n",
       "      <td>127</td>\n",
       "      <td>3.1</td>\n",
       "      <td>122</td>\n",
       "      <td>17.9</td>\n",
       "    </tr>\n",
       "    <tr>\n",
       "      <td>4</td>\n",
       "      <td>Dr. Barry Glen Crowe</td>\n",
       "      <td>1710964739</td>\n",
       "      <td>www.checkbook.org/surgeonratings/Lung-Surgery/...</td>\n",
       "      <td>Male</td>\n",
       "      <td>NaN</td>\n",
       "      <td>University of Alabama</td>\n",
       "      <td>1996</td>\n",
       "      <td>NaN</td>\n",
       "      <td>Thoracic and Cardiac Surgery</td>\n",
       "      <td>East Alabama Medical Center;</td>\n",
       "      <td>-99</td>\n",
       "      <td>-99.0</td>\n",
       "      <td>18</td>\n",
       "      <td>26.8</td>\n",
       "    </tr>\n",
       "  </tbody>\n",
       "</table>\n",
       "</div>"
      ],
      "text/plain": [
       "                 Surgeons         NPI  \\\n",
       "0  Dr. Paul Louis Cammack  1477637155   \n",
       "1     Dr. Robert Cerfolio  1245272483   \n",
       "2  Dr. Richard Lloyd Clay  1619960549   \n",
       "3    Dr. Evan Scott Cohen  1235122177   \n",
       "4    Dr. Barry Glen Crowe  1710964739   \n",
       "\n",
       "                                                 URL Gender Surgery Volume  \\\n",
       "0  www.checkbook.org/surgeonratings/Lung-Surgery/...   Male            NaN   \n",
       "1  www.checkbook.org/surgeonratings/Lung-Surgery/...   Male            NaN   \n",
       "2  www.checkbook.org/surgeonratings/Lung-Surgery/...   Male            NaN   \n",
       "3  www.checkbook.org/surgeonratings/Lung-Surgery/...   Male            NaN   \n",
       "4  www.checkbook.org/surgeonratings/Lung-Surgery/...   Male            NaN   \n",
       "\n",
       "                    Med School Med Year                   Residency  \\\n",
       "0        University of Alabama     1975                         NaN   \n",
       "1      University of Rochester     1988       Mayo Clinic-Rochester   \n",
       "2  University of South Alabama     1981             Bridgeport Hosp   \n",
       "3            Baylor University     1983  Baylor College of Medicine   \n",
       "4        University of Alabama     1996                         NaN   \n",
       "\n",
       "                         Certifications                      Hospitals  \\\n",
       "0          Thoracic and Cardiac Surgery  Baptist Medical Center South;   \n",
       "1  Surgery;Thoracic and Cardiac Surgery                  UAB Hospital;   \n",
       "2          Thoracic and Cardiac Surgery           Huntsville Hospital;   \n",
       "3  Surgery;Thoracic and Cardiac Surgery           Huntsville Hospital;   \n",
       "4          Thoracic and Cardiac Surgery   East Alabama Medical Center;   \n",
       "\n",
       "   # Death Cases  Death Rate  # Problem Cases  Problem Rate  \n",
       "0            -99       -99.0               48          27.7  \n",
       "1            426         6.6              408          26.8  \n",
       "2            -99       -99.0               45          36.1  \n",
       "3            127         3.1              122          17.9  \n",
       "4            -99       -99.0               18          26.8  "
      ]
     },
     "execution_count": 38,
     "metadata": {},
     "output_type": "execute_result"
    }
   ],
   "source": [
    "L_Surgeon_res.head()"
   ]
  },
  {
   "cell_type": "markdown",
   "metadata": {},
   "source": [
    "<H3>Doctor reviews: Scrape and aggregate surgeon review scores off of google search pages which preview the average score and number of reviews."
   ]
  },
  {
   "cell_type": "code",
   "execution_count": 1102,
   "metadata": {},
   "outputs": [
    {
     "name": "stdout",
     "output_type": "stream",
     "text": [
      "Dr. Mark Hayden Cooper\n",
      "Dr. Geoffrey R. Cousins\n",
      "Dr. John T. Deel\n",
      "Dr. Edmundo E. Figueroa\n",
      "Dr. Adam J. Hansen\n",
      "Dr. Jonathan Kiev\n",
      "Dr. Alexander Arpad Nagy\n",
      "Dr. Olusola Oduntan\n",
      "Dr. Albert Francois Olivier\n",
      "Dr. Ramanathan Sampath\n",
      "Dr. Kevin Tveter\n",
      "Dr. Nicholas Vito Augelli\n",
      "Dr. Thomas T. Carmody\n",
      "Dr. Lale Douglas Cowgill\n",
      "Dr. John We Douglas Jones\n",
      "Dr. Francis Xavier Downey\n",
      "Dr. Mario Giacomo Gasparri\n",
      "Dr. Steven J. Gerndt\n",
      "Dr. George Bruce Haasler\n",
      "Dr. James David Hall\n",
      "Dr. John A. Johnkoski\n",
      "Dr. David W. Johnstone\n",
      "Dr. Santosh N. Krishnan\n",
      "Dr. Chong Chin Lee\n",
      "Dr. Vincent Gregory Lee\n",
      "Dr. Hope S. Maki\n",
      "Dr. James D. Maloney\n",
      "Dr. Peter H. Marks\n",
      "Dr. Daniel P. O'Hair\n",
      "Dr. Daryl P. Pearlstein\n",
      "Dr. Charles F. Reuben\n",
      "Dr. Fernando A. Riveron\n",
      "Dr. Alexander Roitstein\n",
      "Dr. John Forrest Seccombe\n",
      "Dr. Paul E. Seifert\n",
      "Dr. John M. Snider\n",
      "Dr. William B. Tisol\n",
      "Dr. John L. Waciuma\n",
      "Dr. Robert J. Wiechmann\n",
      "Dr. Kenneth M. Wolnak\n"
     ]
    }
   ],
   "source": [
    "#create new lists to hold the review count and average score for each doctor\n",
    "comp_review = []\n",
    "rev_count = []\n",
    "\n",
    "#loop through google searches for each surgeon to get review info\n",
    "for name in L_Surgeon_res['Surgeons']:\n",
    "    \n",
    "    time.sleep(3)\n",
    "    rep = name.replace(' ', '+')    #changes the name string to match google search URL format\n",
    "\n",
    "    req = requests.get('https://www.google.com/search?safe=active&source=hp&q=MD+' + rep,\n",
    "                      headers = {'User-Agent': 'Mozilla/5.0 (Macintosh; Intel Mac OSX 12.6; rv:76.0.1) Gecko/20100101 Firefox/76.0.1'}).text\n",
    "    req_soup = BeautifulSoup(req, 'lxml')\n",
    "\n",
    "    #creates list of all html strings of class that denote information on reviews\n",
    "    d_list = list(req_soup.findAll('div',{'class': 'dhIWPd f'}))\n",
    "    \n",
    "    #creates lists to store info from each review site\n",
    "    rev = []\n",
    "    rnum = []\n",
    "\n",
    "    \n",
    "    #if no review info is found, NaN is added for that surgeon\n",
    "    if len(d_list) == 0:\n",
    "\n",
    "        comp_review.append(np.nan)\n",
    "        rev_count.append(np.nan)\n",
    "\n",
    "    else:\n",
    "\n",
    "        try:\n",
    "        \n",
    "            #loops through html strings to extract numbers\n",
    "            for i in range(len(d_list)):\n",
    "\n",
    "                \n",
    "                #regular expressions to find locations of relevant info in string\n",
    "                p1 = re.search('Rating: ', str(d_list[i]))\n",
    "                p2 = re.search('[0-9] - ', str(d_list[i]))\n",
    "                p3 = re.search(' vote', str(d_list[i]))\n",
    "                p4 = re.search(' review', str(d_list[i]))\n",
    "\n",
    "\n",
    "                #distinguish between entries that use the word 'vote' vs. 'review'\n",
    "                if 'vote' in str(d_list[i]):\n",
    "\n",
    "                    rev.append(float(str(d_list[i])[p1.span()[1]:p2.span()[0]+1]))\n",
    "                    rnum.append(int(str(d_list[i])[p2.span()[1]+1:p3.span()[0]]))\n",
    "\n",
    "                elif ' review' in str(d_list[i]):\n",
    "\n",
    "                    rev.append(float(str(d_list[i])[p1.span()[1]:p2.span()[0]+1]))\n",
    "                    rnum.append(int(str(d_list[i])[p2.span()[1]+1:p4.span()[0]]))\n",
    "\n",
    "                else:\n",
    "                    pass\n",
    "\n",
    "            #use the assembled lists to find the total number of reviews and avg\n",
    "            #scores for each surgeon and append them to lists\n",
    "            rtot = sum([rev[j] * rnum[j] for j in range(len(rev))])\n",
    "            rcount = sum(rnum)\n",
    "\n",
    "            comp_review.append((rtot/rcount))\n",
    "            rev_count.append(rcount)\n",
    "            \n",
    "        #if any issues with extracting info, then add NaN for surgeon    \n",
    "        except:\n",
    "            \n",
    "            comp_review.append(np.nan)\n",
    "            rev_count.append(np.nan)\n"
   ]
  },
  {
   "cell_type": "code",
   "execution_count": 1110,
   "metadata": {},
   "outputs": [],
   "source": [
    "#Add average review and review counts to lung surgeon dataframe\n",
    "L_Surgeon_res['Avg Review'] = comp_review\n",
    "L_Surgeon_res['# of Reviews'] = rev_count"
   ]
  },
  {
   "cell_type": "markdown",
   "metadata": {},
   "source": [
    "<H4> About 10% of surgeons have no review information. In order to preserve them in the analysis, I regressed the average review score for each surgeon against their problem rate and then use the regression fit to impute what the review score would be for a surgeon with an average problem rate. I then assign this value to all the surgeons with NaN review values."
   ]
  },
  {
   "cell_type": "code",
   "execution_count": 1128,
   "metadata": {},
   "outputs": [
    {
     "name": "stdout",
     "output_type": "stream",
     "text": [
      "25.55242718446602\n",
      "26.531417910447754\n"
     ]
    }
   ],
   "source": [
    "#Check what avg problem rate is for surgeons with NaN reviews\n",
    "print(L_Surgeon_res[L_Surgeon_res['Avg Review'].isna()]['Problem Rate'].mean())\n",
    "print(L_Surgeon_res['Problem Rate'].mean())"
   ]
  },
  {
   "cell_type": "code",
   "execution_count": 1141,
   "metadata": {},
   "outputs": [
    {
     "name": "stderr",
     "output_type": "stream",
     "text": [
      "/opt/anaconda3/lib/python3.7/site-packages/ipykernel_launcher.py:3: SettingWithCopyWarning: \n",
      "A value is trying to be set on a copy of a slice from a DataFrame\n",
      "\n",
      "See the caveats in the documentation: http://pandas.pydata.org/pandas-docs/stable/user_guide/indexing.html#returning-a-view-versus-a-copy\n",
      "  This is separate from the ipykernel package so we can avoid doing imports until\n"
     ]
    }
   ],
   "source": [
    "L_Surg_Reg = L_Surgeon_res[['Avg Review', 'Problem Rate']]\n",
    "\n",
    "L_Surg_Reg.dropna(axis = 0, inplace=True)"
   ]
  },
  {
   "cell_type": "code",
   "execution_count": 1143,
   "metadata": {},
   "outputs": [
    {
     "name": "stdout",
     "output_type": "stream",
     "text": [
      "32.15139493133799\n",
      "-1.2702682795358613\n"
     ]
    }
   ],
   "source": [
    "from sklearn.linear_model import LinearRegression\n",
    "\n",
    "#Use linear regression to find the best fit line relating reviews and outcomes\n",
    "LR_X = L_Surg_Reg[['Avg Review']]\n",
    "LR_Y = L_Surg_Reg['Problem Rate']\n",
    "\n",
    "Linreg = LinearRegression().fit(LR_X, LR_Y)\n",
    "\n",
    "print(Linreg.intercept_)\n",
    "print(Linreg.coef_[0])"
   ]
  },
  {
   "cell_type": "code",
   "execution_count": 1144,
   "metadata": {},
   "outputs": [
    {
     "name": "stdout",
     "output_type": "stream",
     "text": [
      "4.4242441627714255\n"
     ]
    }
   ],
   "source": [
    "#Use regression fit to find the review score that returns average problem rate\n",
    "NA_value = ((L_Surgeon_res['Problem Rate'].mean() - Linreg.intercept_) / Linreg.coef_[0])\n",
    "\n",
    "print(NA_value)"
   ]
  },
  {
   "cell_type": "code",
   "execution_count": 1145,
   "metadata": {},
   "outputs": [],
   "source": [
    "#Replace NaN review values with imputed average value\n",
    "L_Surgeon_res['Avg Review'].fillna(NA_value, inplace=True)"
   ]
  },
  {
   "cell_type": "code",
   "execution_count": 1111,
   "metadata": {},
   "outputs": [],
   "source": [
    "L_Surgeon_res.to_csv('/Users/matthewowen/Insight-A_Cut_Above/L_Surgeon_Training_Set.csv')"
   ]
  },
  {
   "cell_type": "markdown",
   "metadata": {},
   "source": [
    "<H3> Hospital scores: U.S. News and World Reports assigns score to hospitals for the specialization of pulmonology and lung surgery. I scraped the scores and location information for all rated US hospitals."
   ]
  },
  {
   "cell_type": "code",
   "execution_count": 948,
   "metadata": {},
   "outputs": [],
   "source": [
    "#tuple of state designations needed to systematically find national U.S. News hospital information\n",
    "states = ('alabama', 'alaska', 'arizona', 'arkansas', 'california', 'colorado', 'connecticut', 'delaware',\n",
    "              'dc', 'florida', 'georgia', 'hawaii', 'idaho', 'illinois', 'indiana', 'iowa', 'kansas', 'kentucky',\n",
    "              'louisiana', 'maine', 'maryland', 'massachusetts', 'michigan', 'minnesota', 'mississippi', 'missouri',\n",
    "              'montana', 'nebraska', 'nevada', 'new-hampshire', 'new-jersey', 'new-mexico', 'new-york',\n",
    "              'north-carolina', 'north-dakota', 'ohio', 'oklahoma', 'oregon', 'pennsylvania', 'rhode-island',\n",
    "              'south-carolina', 'south-dakota', 'tennessee', 'texas', 'utah', 'vermont', 'virginia', 'washington',\n",
    "              'west-virginia', 'wisconsin', 'wyoming')"
   ]
  },
  {
   "cell_type": "code",
   "execution_count": 974,
   "metadata": {},
   "outputs": [],
   "source": [
    "#This block scrapes information from the US News hospital rankings for gastroenterology and GI surgery\n",
    "#Specifically the code will extract the name of each hospital, its score and location information\n",
    "\n",
    "#create lists to store the information that will be scraped\n",
    "h_names = []\n",
    "h_scores = []\n",
    "city_names = []\n",
    "state_names = []\n",
    "ZIP_codes = []\n",
    "h_links = []\n",
    "\n",
    "#dictionary that matches name of hospital with its score\n",
    "hosp_dict2 = {}\n",
    "\n",
    "#cycles through results pages for each state by inserting specific state name in URL\n",
    "for state in states:\n",
    "\n",
    "    \n",
    "    are_entries = True\n",
    "    \n",
    "    #count variable and while loop allow cycling through multiple results pages for certain states\n",
    "    count = 1\n",
    "    while are_entries == True:\n",
    "        \n",
    "        time.sleep(0.3) #short delay between requests to prevent IP blocking\n",
    "        URL='https://health.usnews.com/best-hospitals/rankings/pulmonology/{}?page={}'.format(state, count)\n",
    "        header = {'User-Agent': 'Mozilla/5.0 (Macintosh; Intel Mac OSX 12.6; rv:76.0.1) Gecko/20100101 Firefox/76.0.1'}\n",
    "        \n",
    "        rq = requests.get(URL, headers = header).text\n",
    "        rq_soup = BeautifulSoup(rq, 'lxml')\n",
    "\n",
    "\n",
    "        if 'Page Not Found!' in str(rq_soup):  #detects when results pages have run out and ends loop\n",
    "\n",
    "            are_entries = False\n",
    "            pass\n",
    "\n",
    "\n",
    "        else:\n",
    "\n",
    "            \n",
    "            count += 1\n",
    "            \n",
    "            #isolates html elements that contain the hospital data\n",
    "            h_list = list(rq_soup.findAll('li', {'class' : 'item-list__ListItemStyled-sc-2qxw3-1 dLnQUJ'}))\n",
    "\n",
    "            #loops through and extracts info for each hospital on each page\n",
    "            for i in range(len(h_list)):\n",
    "\n",
    "                if 'Ad__Container' in str(h_list[i]):   #skips past ads picked up in the list\n",
    "                    pass\n",
    "\n",
    "                else:   \n",
    "                    \n",
    "                    #finds hospital name\n",
    "                    hosp = h_list[i].findAll('a')[1]\n",
    "                    h_start = re.search('\">', str(hosp))\n",
    "                    hosp_name = str(hosp)[h_start.span()[1]:-4]\n",
    "\n",
    "                    \n",
    "                    #finds hospital score\n",
    "                    sco = h_list[i].findAll('dd')\n",
    "                    sco_start = re.search('\">', str(sco))\n",
    "                    score = str(sco)[sco_start.span()[1]:-10]\n",
    "                    \n",
    "                    #finds link to hospital scorecard\n",
    "                    link = h_list[i].findAll('a')[3]\n",
    "                    link_start = re.search('href=\"', str(link))\n",
    "                    link_stop = re.search('\" letter', str(link))\n",
    "                    hosp_link = str(testy)[link_start.span()[1]:link_stop.span()[0]]\n",
    "                    \n",
    "\n",
    "                    #scrapes out the location information for each hospital\n",
    "                    if 'PhoneIconStyled' in str(h_list[i].findAll('p')[0]):   #if statement makes it work with\n",
    "                                                                              #or without phone number in the info box\n",
    "                        loc = h_list[i].findAll('p')[1]\n",
    "                    else:\n",
    "\n",
    "                        loc = h_list[i].findAll('p')[0]\n",
    "\n",
    "                    #regular expressions locate string positions with 'city, state ZIP' format\n",
    "                    loc_start = re.search('\">', str(loc))\n",
    "                    loc_state = re.search(',\\W[A-Z]{2}\\W[0-9]', str(loc))\n",
    "\n",
    "                    city = str(loc)[loc_start.span()[1] : loc_state.span()[0]]\n",
    "                    sta = str(loc)[loc_state.span()[0]+2 : loc_state.span()[0]+4]\n",
    "                    ZIP = str(loc)[loc_state.span()[1]-1 : -4]\n",
    "\n",
    "\n",
    "                    #extend the lists and dictionary entry by entry\n",
    "                    h_names.append(hosp_name)\n",
    "                    h_scores.append(score)\n",
    "                    city_names.append(city)\n",
    "                    state_names.append(sta)\n",
    "                    ZIP_codes.append(ZIP)\n",
    "                    h_links.append(hosp_link)\n",
    "                    \n",
    "                    hosp_dict2.update({hosp_name : float(score)})"
   ]
  },
  {
   "cell_type": "code",
   "execution_count": 985,
   "metadata": {},
   "outputs": [],
   "source": [
    "#Dataframe constructed to store the scraped hospital information\n",
    "L_Hosp_data = pd.DataFrame({'Hospital': h_names, 'City': city_names, 'State': state_names, 'ZIP Code': ZIP_codes,\n",
    "                         'Score': h_scores, 'Score URL': h_links})"
   ]
  },
  {
   "cell_type": "markdown",
   "metadata": {},
   "source": [
    "<H3> Hospital names in the hospital dataframe are replaced with designations that are used in the surgeon dataframe so that surgeons can be matched to their hospital(s). Dictionary used can be found at the bottom of the notebook."
   ]
  },
  {
   "cell_type": "code",
   "execution_count": 42,
   "metadata": {},
   "outputs": [],
   "source": [
    "#Use dictionary to replace names in the hospital dataframe\n",
    "L_Hosp_data2 = L_Hosp_data.replace(to_replace = hosp_replace)"
   ]
  },
  {
   "cell_type": "code",
   "execution_count": 43,
   "metadata": {},
   "outputs": [],
   "source": [
    "#drop hospitals where names are exact duplicates\n",
    "L_Hosp_data2.drop([815, 1510, 20, 1405, 885, 662, 433, 293, 1376, 1199, 302, 947, 189, 1258], axis=0, inplace=True)"
   ]
  },
  {
   "cell_type": "code",
   "execution_count": 681,
   "metadata": {},
   "outputs": [],
   "source": [
    "L_Hosp_data2[['Hospital', 'City', 'State', 'ZIP Code', 'Score']].to_csv('/Users/matthewowen/A_Cut_Above_App/L_hosps.csv')\n"
   ]
  },
  {
   "cell_type": "markdown",
   "metadata": {},
   "source": [
    "<H3>Assign each surgeon the average of the hospital scores of each hospital they are associated with."
   ]
  },
  {
   "cell_type": "code",
   "execution_count": 44,
   "metadata": {},
   "outputs": [],
   "source": [
    "#Use hospital dataframe to make a dictionary of hospitals and their scores\n",
    "hosp_dict = {}\n",
    "\n",
    "for hos in L_Hosp_data2['Hospital']:\n",
    "\n",
    "    hosp_dict.update({hos : float(L_Hosp_data2[L_Hosp_data2['Hospital']==hos]['Score'])})"
   ]
  },
  {
   "cell_type": "code",
   "execution_count": 1154,
   "metadata": {},
   "outputs": [],
   "source": [
    "#Create list of scores to add as column of surgeon dataframe\n",
    "hospscores = []\n",
    "\n",
    "#loop through surgeons, make a list of their hospitals, then use dictionary\n",
    "#to make a list of associated scores\n",
    "for i in range(len(L_Surgeon_res2['Surgeons'])):\n",
    "    \n",
    "    #get hospital string\n",
    "    h = L_Surgeon_res2.iloc[i, 7]\n",
    "    \n",
    "    #split strings at semicolon to generate list of hospitals\n",
    "    h2 = h.split(';')\n",
    "    \n",
    "    #create list to hold scores\n",
    "    hsc = []\n",
    "\n",
    "    for x in h2:\n",
    "\n",
    "        if x in hosp_dict:\n",
    "\n",
    "            hsc.append(hosp_dict[x])\n",
    "\n",
    "        else:\n",
    "\n",
    "            pass\n",
    "    \n",
    "    #if no hospitals matched ones with scores, assign NaN\n",
    "    if len(hsc) ==0:\n",
    "        \n",
    "        hospscores.append(np.nan)\n",
    "        \n",
    "    else:\n",
    "        \n",
    "        #either mean of hospital scores or score of best hospital can be output\n",
    "        hsc.sort(reverse = False)\n",
    "        #hospscores.append(hsc[0])\n",
    "        hospscores.append(mean(hsc))\n"
   ]
  },
  {
   "cell_type": "code",
   "execution_count": 1156,
   "metadata": {},
   "outputs": [],
   "source": [
    "L_Surgeon_res2['Hospital Score'] = hospscores"
   ]
  },
  {
   "cell_type": "code",
   "execution_count": 62,
   "metadata": {},
   "outputs": [],
   "source": [
    "L_Surgeon_res = pd.read_csv('L_Surgeon_Training_Set.csv', index_col=0)"
   ]
  },
  {
   "cell_type": "code",
   "execution_count": 393,
   "metadata": {},
   "outputs": [
    {
     "name": "stdout",
     "output_type": "stream",
     "text": [
      "26.531417910447754\n",
      "8.886856953770623\n"
     ]
    }
   ],
   "source": [
    "print(L_Surgeon_res['Problem Rate'].mean())\n",
    "print(L_Surgeon_res['Problem Rate'].std())"
   ]
  },
  {
   "cell_type": "markdown",
   "metadata": {},
   "source": [
    "<H3>Alternative quality score that takes into account death rate for surgeons where that information is available."
   ]
  },
  {
   "cell_type": "code",
   "execution_count": 400,
   "metadata": {},
   "outputs": [],
   "source": [
    "#Code for generating a combined surgeon quality rating for those who have values for death rate\n",
    "comb_score = []\n",
    "\n",
    "avgD = L_Surgeon_res[L_Surgeon_res['Death Rate'] != -99]['Death Rate'].mean()\n",
    "stdD = L_Surgeon_res[L_Surgeon_res['Death Rate'] != -99]['Death Rate'].std()\n",
    "avgP = L_Surgeon_res['Problem Rate'].mean()\n",
    "stdP = L_Surgeon_res['Problem Rate'].std()\n",
    "\n",
    "for i in range(L_Surgeon_res.shape[0]):\n",
    "    \n",
    "    PR = (L_Surgeon_res.iloc[i, 13] - avgP) / stdP\n",
    "    \n",
    "    if L_Surgeon_res.iloc[i, 10] == -99:\n",
    "        \n",
    "        comb_score.append(PR)\n",
    "    \n",
    "    else:\n",
    "        \n",
    "        DR = (L_Surgeon_res.iloc[i, 11] - avgD) / stdD\n",
    "        \n",
    "        comb_score.append((PR + DR)/2)\n",
    "\n"
   ]
  },
  {
   "cell_type": "code",
   "execution_count": 407,
   "metadata": {},
   "outputs": [],
   "source": [
    "L_Surgeon_res['Combined Score'] = comb_score"
   ]
  },
  {
   "cell_type": "markdown",
   "metadata": {},
   "source": [
    "<H3>Clean the data and prepare it for EDA and modeling"
   ]
  },
  {
   "cell_type": "code",
   "execution_count": 1148,
   "metadata": {},
   "outputs": [],
   "source": [
    "#Remove columns with too many NaN values and drop any remaining rows that are NaN\n",
    "L_Surgeon_res2 = L_Surgeon_res.drop(columns = ['Surgery Volume', 'Residency'])\n",
    "L_Surgeon_res2.dropna(axis=0, inplace=True)"
   ]
  },
  {
   "cell_type": "code",
   "execution_count": 1158,
   "metadata": {},
   "outputs": [],
   "source": [
    "#create new dataframe that only includes surgeons with a medical school graduation year\n",
    "L_Surg_Data = L_Surgeon_res2[(L_Surgeon_res2['Med Year'] != 'N/A') & (L_Surgeon_res2['Med Year'] != 'br/>')]"
   ]
  },
  {
   "cell_type": "code",
   "execution_count": 1159,
   "metadata": {},
   "outputs": [],
   "source": [
    "#change med year to integer type\n",
    "L_Surg_Data = L_Surg_Data.astype({'Med Year':'int32'})"
   ]
  },
  {
   "cell_type": "code",
   "execution_count": 1160,
   "metadata": {},
   "outputs": [],
   "source": [
    "#encode gender with dummy variables\n",
    "L_Surg_Data.replace(to_replace = {'Male': 1, 'Female': 0}, inplace=True)"
   ]
  },
  {
   "cell_type": "code",
   "execution_count": 2096,
   "metadata": {},
   "outputs": [],
   "source": [
    "#rename the Problem Rate column\n",
    "L_Surg_Data.rename(columns = {'Problem Rate' : '% Negative Outcome'}, inplace = True)"
   ]
  },
  {
   "cell_type": "code",
   "execution_count": 1759,
   "metadata": {},
   "outputs": [],
   "source": [
    "#drop surgeons with outlier review scores\n",
    "L_Surg_Data.drop(L_Surg_Data[L_Surg_Data['Avg Review']<2].index, axis = 0, inplace = True)"
   ]
  },
  {
   "cell_type": "code",
   "execution_count": 2518,
   "metadata": {},
   "outputs": [
    {
     "name": "stderr",
     "output_type": "stream",
     "text": [
      "/opt/anaconda3/lib/python3.7/site-packages/ipykernel_launcher.py:15: SettingWithCopyWarning: \n",
      "A value is trying to be set on a copy of a slice from a DataFrame.\n",
      "Try using .loc[row_indexer,col_indexer] = value instead\n",
      "\n",
      "See the caveats in the documentation: http://pandas.pydata.org/pandas-docs/stable/user_guide/indexing.html#returning-a-view-versus-a-copy\n",
      "  from ipykernel import kernelapp as app\n"
     ]
    }
   ],
   "source": [
    "#Create dummie variables for foreign vs. domestic medical school\n",
    "\n",
    "med_status = []\n",
    "\n",
    "for med in L_Surg_Data['Med School']:\n",
    "    \n",
    "    if 'Foreign' in med:\n",
    "        \n",
    "        med_status.append(1)\n",
    "        \n",
    "    else:\n",
    "        \n",
    "        med_status.append(0)\n",
    "        \n",
    "L_Surg_Data['Foreign Med'] = med_status"
   ]
  },
  {
   "cell_type": "code",
   "execution_count": 1657,
   "metadata": {},
   "outputs": [],
   "source": [
    "#Create dummie variables for thoracic surgery board certification or not\n",
    "\n",
    "cert_status = []\n",
    "\n",
    "for cert in L_Surg_Data['Certifications']:\n",
    "    \n",
    "    if 'Thoracic' in cert:\n",
    "        \n",
    "        cert_status.append(1)\n",
    "        \n",
    "    else:\n",
    "        \n",
    "        cert_status.append(0)\n",
    "        \n",
    "L_Surg_Data['Thoracic Cert'] = cert_status"
   ]
  },
  {
   "cell_type": "markdown",
   "metadata": {},
   "source": [
    "<H3>Exploratory Data Analysis: Model features correlate poorly with surgical outcomes."
   ]
  },
  {
   "cell_type": "code",
   "execution_count": 2098,
   "metadata": {},
   "outputs": [
    {
     "data": {
      "image/png": "[encoded data removed]",
      "text/plain": [
       "<Figure size 432x288 with 1 Axes>"
      ]
     },
     "metadata": {},
     "output_type": "display_data"
    }
   ],
   "source": [
    "#Plots outcome distributions for doctors with thoracic surgery certification vs those without\n",
    "sns.boxplot(data = (L_Surg_Data[L_Surg_Data['Certifications'].str.contains('Thoracic and Cardiac Surgery')]['% Negative Outcome'],\n",
    "                    L_Surg_Data[L_Surg_Data['Certifications'].str.contains('Thoracic and Cardiac Surgery')==False]['% Negative Outcome']),\n",
    "            orient = 'v')\n",
    "plt.xlabel('Certification')\n",
    "plt.ylabel('% Negative Outcome')\n",
    "plt.xticks(ticks  = [0,1], labels = ['Thoracic', 'General'])\n",
    "plt.title('Lung Surgery')\n",
    "\n",
    "plt.savefig('/Users/matthewowen/Desktop/Insight/Thoracic_Cert.png')\n",
    "plt.show()"
   ]
  },
  {
   "cell_type": "code",
   "execution_count": 2104,
   "metadata": {},
   "outputs": [
    {
     "data": {
      "image/png": "[encoded data removed]",
      "text/plain": [
       "<Figure size 432x288 with 1 Axes>"
      ]
     },
     "metadata": {},
     "output_type": "display_data"
    }
   ],
   "source": [
    "#Density plot of the same data as above\n",
    "sns.distplot(L_Surg_Data[L_Surg_Data['Certifications'].str.contains('Thoracic and Cardiac Surgery')]['% Negative Outcome'],\n",
    "             hist = False, kde = True,kde_kws = {'shade': True, 'linewidth': 1.5})\n",
    "sns.distplot(L_Surg_Data[L_Surg_Data['Certifications'].str.contains('Thoracic and Cardiac Surgery') == False]['% Negative Outcome'],\n",
    "             hist = False, kde = True,\n",
    "                 kde_kws = {'shade': True, 'linewidth': 1.5})\n",
    "\n",
    "\n",
    "plt.show()"
   ]
  },
  {
   "cell_type": "code",
   "execution_count": 2099,
   "metadata": {},
   "outputs": [
    {
     "data": {
      "image/png": "[encoded data removed]",
      "text/plain": [
       "<Figure size 432x288 with 1 Axes>"
      ]
     },
     "metadata": {},
     "output_type": "display_data"
    }
   ],
   "source": [
    "sns.regplot(L_Surg_Data['Hospital Score'], L_Surg_Data['% Negative Outcome'], scatter_kws={'s':2})\n",
    "plt.show()"
   ]
  },
  {
   "cell_type": "code",
   "execution_count": 1163,
   "metadata": {},
   "outputs": [
    {
     "data": {
      "text/plain": [
       "<matplotlib.axes._subplots.AxesSubplot at 0x1a23d77810>"
      ]
     },
     "execution_count": 1163,
     "metadata": {},
     "output_type": "execute_result"
    },
    {
     "data": {
      "image/png": "[encoded data removed]",
      "text/plain": [
       "<Figure size 432x288 with 1 Axes>"
      ]
     },
     "metadata": {},
     "output_type": "display_data"
    }
   ],
   "source": [
    "sns.regplot(L_Surg_Data['Med Year'], L_Surg_Data['Avg Review'], scatter_kws={'s':2})\n",
    "plt.show()"
   ]
  },
  {
   "cell_type": "code",
   "execution_count": 130,
   "metadata": {},
   "outputs": [
    {
     "data": {
      "text/plain": [
       "<matplotlib.axes._subplots.AxesSubplot at 0x1a1ca33210>"
      ]
     },
     "execution_count": 130,
     "metadata": {},
     "output_type": "execute_result"
    },
    {
     "data": {
      "image/png": "[encoded data removed]",
      "text/plain": [
       "<Figure size 432x288 with 1 Axes>"
      ]
     },
     "metadata": {
      "needs_background": "light"
     },
     "output_type": "display_data"
    }
   ],
   "source": [
    "sns.regplot(L_Surg_Data['Hospital Score'], L_Surg_Data['# Problem Cases'], scatter_kws={'s':1})"
   ]
  },
  {
   "cell_type": "code",
   "execution_count": 2124,
   "metadata": {},
   "outputs": [
    {
     "data": {
      "image/png": "[encoded data removed]",
      "text/plain": [
       "<Figure size 756x252 with 2 Axes>"
      ]
     },
     "metadata": {},
     "output_type": "display_data"
    }
   ],
   "source": [
    "plt.figure(figsize = [10.5, 3.5])\n",
    "\n",
    "#fitting a line to the distribution\n",
    "plt.subplot(1,2,1)\n",
    "sns.regplot(L_Surg_Data['Med Year'], L_Surg_Data['% Negative Outcome'], scatter_kws={'s':2})\n",
    "\n",
    "plt.xlabel('Med School Grad Year')\n",
    "\n",
    "#Try fitting a quadratic to the distribution\n",
    "plt.subplot(1,2,2)\n",
    "sns.regplot(L_Surg_Data['Med Year'], L_Surg_Data['% Negative Outcome'], order = 2, scatter_kws={'s':2})\n",
    "\n",
    "plt.show()"
   ]
  },
  {
   "cell_type": "code",
   "execution_count": 2123,
   "metadata": {},
   "outputs": [
    {
     "data": {
      "image/png": "[encoded data removed]",
      "text/plain": [
       "<Figure size 432x288 with 1 Axes>"
      ]
     },
     "metadata": {},
     "output_type": "display_data"
    }
   ],
   "source": [
    "sns.regplot(L_Surg_Data['Avg Review'], L_Surg_Data['% Negative Outcome'], scatter_kws={'s':2})\n",
    "\n",
    "plt.xlabel('Average Review')\n",
    "\n",
    "plt.show()"
   ]
  },
  {
   "cell_type": "code",
   "execution_count": 2102,
   "metadata": {},
   "outputs": [
    {
     "data": {
      "image/png": "[encoded data removed]",
      "text/plain": [
       "<Figure size 432x288 with 1 Axes>"
      ]
     },
     "metadata": {},
     "output_type": "display_data"
    }
   ],
   "source": [
    "#Outcome distribution for males and females\n",
    "sns.boxplot(data = (L_Surg_Data[L_Surg_Data['Gender'] == 1]['% Negative Outcome'],\n",
    "                    L_Surg_Data[L_Surg_Data['Gender'] == 0]['% Negative Outcome']), orient = 'v')\n",
    "plt.xlabel('Gender')\n",
    "plt.ylabel('% Negative Outcome')\n",
    "plt.xticks(ticks  = [0,1], labels = ['Male', 'Female'])\n",
    "\n",
    "plt.show()"
   ]
  },
  {
   "cell_type": "code",
   "execution_count": 2103,
   "metadata": {},
   "outputs": [
    {
     "data": {
      "image/png": "[encoded data removed]",
      "text/plain": [
       "<Figure size 432x288 with 1 Axes>"
      ]
     },
     "metadata": {},
     "output_type": "display_data"
    }
   ],
   "source": [
    "#Density plot for above data\n",
    "sns.distplot(L_Surg_Data[L_Surg_Data['Gender'] == 1]['% Negative Outcome'], hist = False, kde = True,\n",
    "                 kde_kws = {'shade': True, 'linewidth': 1.5})\n",
    "sns.distplot(L_Surg_Data[L_Surg_Data['Gender'] == 0]['% Negative Outcome'], hist = False, kde = True,\n",
    "                 kde_kws = {'shade': True, 'linewidth': 1.5})\n",
    "\n",
    "\n",
    "plt.show()"
   ]
  },
  {
   "cell_type": "code",
   "execution_count": 1165,
   "metadata": {},
   "outputs": [
    {
     "data": {
      "image/png": "[encoded data removed]",
      "text/plain": [
       "<Figure size 432x288 with 1 Axes>"
      ]
     },
     "metadata": {},
     "output_type": "display_data"
    }
   ],
   "source": [
    "#Review score distribution for males and females\n",
    "sns.boxplot(data = (L_Surg_Data[L_Surg_Data['Gender'] == 1]['Avg Review'],\n",
    "                    L_Surg_Data[L_Surg_Data['Gender'] == 0]['Avg Review']), orient = 'v')\n",
    "plt.xlabel('Gender')\n",
    "plt.ylabel('Average Patient Review')\n",
    "plt.xticks(ticks  = [0,1], labels = ['Male', 'Female'])\n",
    "\n",
    "plt.show()"
   ]
  },
  {
   "cell_type": "code",
   "execution_count": 2460,
   "metadata": {
    "scrolled": true
   },
   "outputs": [
    {
     "data": {
      "image/png": "[encoded data removed]",
      "text/plain": [
       "<Figure size 432x288 with 1 Axes>"
      ]
     },
     "metadata": {
      "needs_background": "light"
     },
     "output_type": "display_data"
    }
   ],
   "source": [
    "sns.boxplot(data = (L_Surg_Data[L_Surg_Data['Med School'].str.contains('Foreign')]['% Negative Outcome'],\n",
    "                    L_Surg_Data[L_Surg_Data['Med School'].str.contains('Foreign')==False]['% Negative Outcome']),\n",
    "            orient = 'v')\n",
    "plt.xlabel('Medical School')\n",
    "plt.ylabel('% Negative Outcome')\n",
    "plt.xticks(ticks  = [0,1], labels = ['Foreign', 'Domestic'])\n",
    "plt.title('Lung Surgery')\n",
    "\n",
    "plt.show()"
   ]
  },
  {
   "cell_type": "markdown",
   "metadata": {},
   "source": [
    "<H3>Classification: Due to the low amount of signal in the data I will subdivide the outcomes into 3 classes defined by the mean and standard deviation of the data. A predictive model will then be built using these classes."
   ]
  },
  {
   "cell_type": "code",
   "execution_count": 529,
   "metadata": {},
   "outputs": [],
   "source": [
    "#Sort the surgeons by surgical outcome rate\n",
    "L_Surg_Data.sort_values(by = '% Negative Outcome', inplace = True)"
   ]
  },
  {
   "cell_type": "code",
   "execution_count": 134,
   "metadata": {},
   "outputs": [
    {
     "name": "stdout",
     "output_type": "stream",
     "text": [
      "26.439596136962226\n",
      "8.955044145841741\n"
     ]
    }
   ],
   "source": [
    "#calculate mean and standard deviation to see where class cutoffs will be (+/- 1 stdev from mean)\n",
    "print(L_Surg_Data['% Negative Outcome'].mean())\n",
    "print(L_Surg_Data['% Negative Outcome'].std())"
   ]
  },
  {
   "cell_type": "code",
   "execution_count": 1173,
   "metadata": {},
   "outputs": [],
   "source": [
    "#Designates one of 3 class labels to each physician according to their problem rate\n",
    "\n",
    "classes = []\n",
    "\n",
    "#define avg and stdev of outcome distribution\n",
    "avg = L_Surg_Data['% Negative Outcome'].mean()\n",
    "stdev = L_Surg_Data['% Negative Outcome'].std()\n",
    "\n",
    "\n",
    "for rate in L_Surg_Data['% Negative Outcome']:\n",
    "    \n",
    "    if rate < (avg-stdev):\n",
    "        \n",
    "        classes.append(1)\n",
    "    \n",
    "    elif rate > (avg+stdev):\n",
    "        \n",
    "        classes.append(3)\n",
    "        \n",
    "    else:\n",
    "        \n",
    "        classes.append(2)\n",
    "\n",
    "#add class designations to surgeon dataframe\n",
    "L_Surg_Data['Class'] = classes"
   ]
  },
  {
   "cell_type": "code",
   "execution_count": 2122,
   "metadata": {},
   "outputs": [
    {
     "data": {
      "image/png": "[encoded data removed]",
      "text/plain": [
       "<Figure size 432x288 with 1 Axes>"
      ]
     },
     "metadata": {},
     "output_type": "display_data"
    }
   ],
   "source": [
    "#chart showing how classes are defined\n",
    "sns.distplot(L_Surg_Data['% Negative Outcome'], hist = False, kde = True,\n",
    "                 kde_kws = {'shade': True, 'linewidth': 1.5})\n",
    "plt.xlim(0,70)\n",
    "plt.ylim(0, 0.055)\n",
    "plt.title('Definition of 3 Classes')\n",
    "plt.ylabel('Frequency')\n",
    "\n",
    "#plot class designations\n",
    "plt.text(x = 3, y = 0.03, s = '3 stars', fontsize = 14)\n",
    "plt.text(x = 22, y = 0.03, s = '2 stars', fontsize = 14)\n",
    "plt.text(x = 39.5, y = 0.03, s = '1 star', fontsize = 14)\n",
    "\n",
    "#plot class frequencies\n",
    "plt.text(x = 3, y = 0.02, s = '12.8%', fontsize = 14)\n",
    "plt.text(x = 22, y = 0.02, s = '75.3%', fontsize = 14)\n",
    "plt.text(x = 39.5, y = 0.02, s = '11.9%', fontsize = 14)\n",
    "\n",
    "#plot lines that divide classes\n",
    "plt.vlines(x = [17.4, 35.4], ymin = 0, ymax = 0.054, linestyles = 'dashed')\n",
    "\n",
    "#export chart\n",
    "plt.savefig('/Users/matthewowen/Desktop/Insight/class_definition.png')\n",
    "\n",
    "plt.show()"
   ]
  },
  {
   "cell_type": "code",
   "execution_count": null,
   "metadata": {},
   "outputs": [],
   "source": []
  },
  {
   "cell_type": "markdown",
   "metadata": {},
   "source": [
    "<H3> I will test a variety of classification models to find the one that maximizes the weighted precision of class assignments, with a priority on correct assignment of class 1."
   ]
  },
  {
   "cell_type": "code",
   "execution_count": 2093,
   "metadata": {},
   "outputs": [],
   "source": [
    "from sklearn.linear_model import LogisticRegression\n",
    "from sklearn.model_selection import train_test_split, cross_val_score\n",
    "from sklearn.metrics import accuracy_score, confusion_matrix, roc_auc_score, precision_score, recall_score, f1_score\n",
    "from sklearn.preprocessing import StandardScaler, MinMaxScaler\n",
    "\n",
    "X = L_Surg_Data[['Gender', 'Med Year', 'Avg Review', 'Hospital Score']]\n",
    "y = L_Surg_Data['Class']\n",
    "\n",
    "#X = StandardScaler().fit_transform(X)\n",
    "X = MinMaxScaler().fit_transform(X)\n",
    "\n",
    "#Set aside 30% of the data for model testing\n",
    "X_train, X_test, y_train, y_test = train_test_split(X, y, test_size=0.3, random_state=10)\n"
   ]
  },
  {
   "cell_type": "code",
   "execution_count": null,
   "metadata": {},
   "outputs": [],
   "source": [
    "#tune logistic regression model\n",
    "Logreg = LogisticRegression(random_state=18, class_weight= {1:140, 2:7, 3:100})\n",
    "\n",
    "#train model\n",
    "Logreg.fit(X_train, y_train)\n",
    "\n",
    "Y_pred = Logreg.predict(X_test)"
   ]
  },
  {
   "cell_type": "code",
   "execution_count": 1341,
   "metadata": {},
   "outputs": [
    {
     "name": "stdout",
     "output_type": "stream",
     "text": [
      "Accuracy Score: 0.5179856115107914\n",
      "Confusion Matrix: \n",
      "[[ 10  25   1]\n",
      " [ 65 132   7]\n",
      " [ 15  21   2]]\n"
     ]
    }
   ],
   "source": [
    "print(f'Accuracy Score: {accuracy_score(y_test, Y_pred)}')\n",
    "print(f'Confusion Matrix: \\n{confusion_matrix(y_test, Y_pred)}')"
   ]
  },
  {
   "cell_type": "markdown",
   "metadata": {},
   "source": [
    "<H3> SVM classifiers were the best performing models in terms of the chosen metric of weighted precision."
   ]
  },
  {
   "cell_type": "code",
   "execution_count": 2107,
   "metadata": {},
   "outputs": [
    {
     "name": "stdout",
     "output_type": "stream",
     "text": [
      "Precision: 0.602 (+/- 0.01)\n"
     ]
    }
   ],
   "source": [
    "from sklearn.svm import SVC\n",
    "\n",
    "#initiate SVM model with linear kernel\n",
    "svmL = SVC(kernel = 'linear', C=550, gamma = 0.1, class_weight = {1:124.5, 2:25.5, 3:140}, random_state=8)\n",
    "\n",
    "#perform 3-fold cross validation\n",
    "cv_scores = cross_val_score(svmL, X_train, y_train, cv=3, scoring = 'precision_weighted')\n",
    "\n",
    "#display weighted precision score and error\n",
    "print(\"Precision: %0.3f (+/- %0.2f)\" % (cv_scores.mean(), cv_scores.std() * 2))"
   ]
  },
  {
   "cell_type": "code",
   "execution_count": 2109,
   "metadata": {},
   "outputs": [
    {
     "name": "stdout",
     "output_type": "stream",
     "text": [
      "Precision Score: 0.667691536127496\n",
      "Confusion Matrix: \n",
      "[[ 13  14   5]\n",
      " [ 50 104  59]\n",
      " [ 11   9  13]]\n"
     ]
    }
   ],
   "source": [
    "#Evaluate same classification model using the test set\n",
    "svmL = SVC(kernel = 'linear', C=550, gamma = 0.1, class_weight = {1:124.5, 2:25.5, 3:140}, random_state=8)\n",
    "\n",
    "#fit model\n",
    "svmL.fit(X_train, y_train)\n",
    "\n",
    "#predict classes of test data\n",
    "svmL_pred = svmL.predict(X_test)\n",
    "\n",
    "#Display results\n",
    "print(f'Precision Score: ' + str(precision_score(y_test, svmL_pred, average='weighted')))\n",
    "print(f'Confusion Matrix: \\n{confusion_matrix(y_test, svmL_pred)}')"
   ]
  },
  {
   "cell_type": "code",
   "execution_count": 1946,
   "metadata": {},
   "outputs": [
    {
     "name": "stdout",
     "output_type": "stream",
     "text": [
      "Precision: 0.609 (+/- 0.04)\n"
     ]
    }
   ],
   "source": [
    "#SVM classifier using default rbf kernel\n",
    "svm = SVC(C=85, gamma = 0.56, class_weight = {1:258, 2:53.9, 3:256}, random_state=8)\n",
    "\n",
    "#3-fold cross validation\n",
    "cv_scores = cross_val_score(svm, X_train, y_train, cv=3, scoring = 'precision_weighted')\n",
    "\n",
    "print(\"Precision: %0.3f (+/- %0.2f)\" % (cv_scores.mean(), cv_scores.std() * 2))"
   ]
  },
  {
   "cell_type": "code",
   "execution_count": 1939,
   "metadata": {},
   "outputs": [
    {
     "name": "stdout",
     "output_type": "stream",
     "text": [
      "Precision Scores: 0.6189577451962479\n",
      "Confusion Matrix: \n",
      "[[ 10  19   3]\n",
      " [ 61 121  31]\n",
      " [  9  18   6]]\n"
     ]
    }
   ],
   "source": [
    "\n",
    "svm = SVC(C=85, gamma = 0.56, class_weight = {1:258, 2:53.9, 3:256}, random_state=8)\n",
    "\n",
    "svm.fit(X_train, y_train)\n",
    "\n",
    "\n",
    "svm_pred = svm.predict(X_test)\n",
    "\n",
    "#display results\n",
    "print(f'Precision Scores: ' + str(precision_score(y_test, svm_pred, average='weighted')))\n",
    "print(f'Confusion Matrix: \\n{confusion_matrix(y_test, svm_pred)}')"
   ]
  },
  {
   "cell_type": "code",
   "execution_count": 2006,
   "metadata": {},
   "outputs": [
    {
     "data": {
      "text/plain": [
       "0.4676258992805755"
      ]
     },
     "execution_count": 2006,
     "metadata": {},
     "output_type": "execute_result"
    }
   ],
   "source": [
    "recall_score(y_test, svmL_pred, average='weighted')"
   ]
  },
  {
   "cell_type": "markdown",
   "metadata": {},
   "source": [
    "<H3> To validate how well the model performed versus random the predicted class list was shuffled 50 times and the precision score was calculated for each ordering and the mean value of these was calculated"
   ]
  },
  {
   "cell_type": "code",
   "execution_count": 2079,
   "metadata": {},
   "outputs": [],
   "source": [
    "import random\n",
    "\n",
    "r_list = []\n",
    "\n",
    "count = 1\n",
    "\n",
    "while count < 50:\n",
    "    \n",
    "    \n",
    "    rand_pred = random.sample(list(svmL_pred), len(svmL_pred))\n",
    "    r = precision_score(y_test, rand_pred, average='weighted')\n",
    "    \n",
    "    r_list.append(r)\n",
    "    \n",
    "    count += 1"
   ]
  },
  {
   "cell_type": "code",
   "execution_count": 2080,
   "metadata": {},
   "outputs": [
    {
     "data": {
      "text/plain": [
       "0.6123350940003484"
      ]
     },
     "execution_count": 2080,
     "metadata": {},
     "output_type": "execute_result"
    }
   ],
   "source": [
    "mean(r_list)"
   ]
  },
  {
   "cell_type": "markdown",
   "metadata": {},
   "source": [
    "<H3> Converting predicted classes into easy to understand star ratings."
   ]
  },
  {
   "cell_type": "code",
   "execution_count": 2113,
   "metadata": {},
   "outputs": [],
   "source": [
    "stars = []\n",
    "\n",
    "for i in range(L_Surg_SVM.shape[0]):\n",
    "    \n",
    "    if L_Surg_SVM.iloc[i,5] == 1:\n",
    "        \n",
    "        stars.append('3 stars')\n",
    "        \n",
    "    elif L_Surg_SVM.iloc[i,5] == 2:\n",
    "        \n",
    "        stars.append('2 stars')\n",
    "        \n",
    "    else:\n",
    "        \n",
    "        stars.append('1 star')"
   ]
  },
  {
   "cell_type": "code",
   "execution_count": 2114,
   "metadata": {},
   "outputs": [
    {
     "name": "stderr",
     "output_type": "stream",
     "text": [
      "/opt/anaconda3/lib/python3.7/site-packages/ipykernel_launcher.py:1: SettingWithCopyWarning: \n",
      "A value is trying to be set on a copy of a slice from a DataFrame.\n",
      "Try using .loc[row_indexer,col_indexer] = value instead\n",
      "\n",
      "See the caveats in the documentation: http://pandas.pydata.org/pandas-docs/stable/user_guide/indexing.html#returning-a-view-versus-a-copy\n",
      "  \"\"\"Entry point for launching an IPython kernel.\n"
     ]
    }
   ],
   "source": [
    "L_Surg_SVM['Rating'] = stars"
   ]
  },
  {
   "cell_type": "code",
   "execution_count": 2126,
   "metadata": {},
   "outputs": [
    {
     "data": {
      "text/plain": [
       "0       3.94\n",
       "1       4.67\n",
       "2       4.14\n",
       "3       4.86\n",
       "4       4.00\n",
       "        ... \n",
       "1332    4.79\n",
       "1333    4.50\n",
       "1334    4.35\n",
       "1337    4.80\n",
       "1338    5.00\n",
       "Name: Avg Review, Length: 924, dtype: float64"
      ]
     },
     "execution_count": 2126,
     "metadata": {},
     "output_type": "execute_result"
    }
   ],
   "source": [
    "round(L_Surg_SVM['Avg Review'],2)"
   ]
  },
  {
   "cell_type": "code",
   "execution_count": 2128,
   "metadata": {},
   "outputs": [
    {
     "data": {
      "text/html": [
       "<div>\n",
       "<style scoped>\n",
       "    .dataframe tbody tr th:only-of-type {\n",
       "        vertical-align: middle;\n",
       "    }\n",
       "\n",
       "    .dataframe tbody tr th {\n",
       "        vertical-align: top;\n",
       "    }\n",
       "\n",
       "    .dataframe thead th {\n",
       "        text-align: right;\n",
       "    }\n",
       "</style>\n",
       "<table border=\"1\" class=\"dataframe\">\n",
       "  <thead>\n",
       "    <tr style=\"text-align: right;\">\n",
       "      <th></th>\n",
       "      <th>Surgeons</th>\n",
       "      <th>Hospitals</th>\n",
       "      <th>Avg Review</th>\n",
       "      <th>% Negative Outcome</th>\n",
       "      <th>Class</th>\n",
       "      <th>Predicted Class</th>\n",
       "      <th>Rating</th>\n",
       "    </tr>\n",
       "  </thead>\n",
       "  <tbody>\n",
       "    <tr>\n",
       "      <td>0</td>\n",
       "      <td>Dr. Paul Louis Cammack</td>\n",
       "      <td>Baptist Medical Center South;</td>\n",
       "      <td>3.937931</td>\n",
       "      <td>27.7</td>\n",
       "      <td>2</td>\n",
       "      <td>3</td>\n",
       "      <td>1 star</td>\n",
       "    </tr>\n",
       "    <tr>\n",
       "      <td>1</td>\n",
       "      <td>Dr. Robert Cerfolio</td>\n",
       "      <td>UAB Hospital;</td>\n",
       "      <td>4.666087</td>\n",
       "      <td>26.8</td>\n",
       "      <td>2</td>\n",
       "      <td>2</td>\n",
       "      <td>2 stars</td>\n",
       "    </tr>\n",
       "    <tr>\n",
       "      <td>2</td>\n",
       "      <td>Dr. Richard Lloyd Clay</td>\n",
       "      <td>Huntsville Hospital;</td>\n",
       "      <td>4.142857</td>\n",
       "      <td>36.1</td>\n",
       "      <td>3</td>\n",
       "      <td>3</td>\n",
       "      <td>1 star</td>\n",
       "    </tr>\n",
       "    <tr>\n",
       "      <td>3</td>\n",
       "      <td>Dr. Evan Scott Cohen</td>\n",
       "      <td>Huntsville Hospital;</td>\n",
       "      <td>4.859036</td>\n",
       "      <td>17.9</td>\n",
       "      <td>2</td>\n",
       "      <td>1</td>\n",
       "      <td>3 stars</td>\n",
       "    </tr>\n",
       "    <tr>\n",
       "      <td>4</td>\n",
       "      <td>Dr. Barry Glen Crowe</td>\n",
       "      <td>East Alabama Medical Center;</td>\n",
       "      <td>4.000000</td>\n",
       "      <td>26.8</td>\n",
       "      <td>2</td>\n",
       "      <td>3</td>\n",
       "      <td>1 star</td>\n",
       "    </tr>\n",
       "  </tbody>\n",
       "</table>\n",
       "</div>"
      ],
      "text/plain": [
       "                 Surgeons                      Hospitals  Avg Review  \\\n",
       "0  Dr. Paul Louis Cammack  Baptist Medical Center South;    3.937931   \n",
       "1     Dr. Robert Cerfolio                  UAB Hospital;    4.666087   \n",
       "2  Dr. Richard Lloyd Clay           Huntsville Hospital;    4.142857   \n",
       "3    Dr. Evan Scott Cohen           Huntsville Hospital;    4.859036   \n",
       "4    Dr. Barry Glen Crowe   East Alabama Medical Center;    4.000000   \n",
       "\n",
       "   % Negative Outcome  Class  Predicted Class   Rating  \n",
       "0                27.7      2                3   1 star  \n",
       "1                26.8      2                2  2 stars  \n",
       "2                36.1      3                3   1 star  \n",
       "3                17.9      2                1  3 stars  \n",
       "4                26.8      2                3   1 star  "
      ]
     },
     "execution_count": 2128,
     "metadata": {},
     "output_type": "execute_result"
    }
   ],
   "source": [
    "L_Surg_SVM.head()"
   ]
  },
  {
   "cell_type": "code",
   "execution_count": 2127,
   "metadata": {},
   "outputs": [],
   "source": [
    "L_Surg_SVM.to_csv('/Users/matthewowen/A_Cut_Above_App/Lung_Surgeons.csv')"
   ]
  },
  {
   "cell_type": "code",
   "execution_count": null,
   "metadata": {},
   "outputs": [],
   "source": []
  },
  {
   "cell_type": "markdown",
   "metadata": {},
   "source": [
    "<H3> A learning curve shows that the precision score of the SVM model calculated on the test set does not increase with an increasing number of samples, implying that the model is underfit."
   ]
  },
  {
   "cell_type": "code",
   "execution_count": 1746,
   "metadata": {},
   "outputs": [
    {
     "name": "stderr",
     "output_type": "stream",
     "text": [
      "/opt/anaconda3/lib/python3.7/site-packages/sklearn/model_selection/_split.py:1978: FutureWarning: The default value of cv will change from 3 to 5 in version 0.22. Specify it explicitly to silence this warning.\n",
      "  warnings.warn(CV_WARNING, FutureWarning)\n",
      "/opt/anaconda3/lib/python3.7/site-packages/sklearn/metrics/classification.py:1437: UndefinedMetricWarning: Precision is ill-defined and being set to 0.0 in labels with no predicted samples.\n",
      "  'precision', 'predicted', average, warn_for)\n",
      "/opt/anaconda3/lib/python3.7/site-packages/sklearn/metrics/classification.py:1437: UndefinedMetricWarning: Precision is ill-defined and being set to 0.0 in labels with no predicted samples.\n",
      "  'precision', 'predicted', average, warn_for)\n",
      "/opt/anaconda3/lib/python3.7/site-packages/sklearn/metrics/classification.py:1437: UndefinedMetricWarning: Precision is ill-defined and being set to 0.0 in labels with no predicted samples.\n",
      "  'precision', 'predicted', average, warn_for)\n",
      "/opt/anaconda3/lib/python3.7/site-packages/sklearn/metrics/classification.py:1437: UndefinedMetricWarning: Precision is ill-defined and being set to 0.0 in labels with no predicted samples.\n",
      "  'precision', 'predicted', average, warn_for)\n",
      "/opt/anaconda3/lib/python3.7/site-packages/sklearn/metrics/classification.py:1437: UndefinedMetricWarning: Precision is ill-defined and being set to 0.0 in labels with no predicted samples.\n",
      "  'precision', 'predicted', average, warn_for)\n",
      "/opt/anaconda3/lib/python3.7/site-packages/sklearn/metrics/classification.py:1437: UndefinedMetricWarning: Precision is ill-defined and being set to 0.0 in labels with no predicted samples.\n",
      "  'precision', 'predicted', average, warn_for)\n",
      "/opt/anaconda3/lib/python3.7/site-packages/sklearn/metrics/classification.py:1437: UndefinedMetricWarning: Precision is ill-defined and being set to 0.0 in labels with no predicted samples.\n",
      "  'precision', 'predicted', average, warn_for)\n",
      "/opt/anaconda3/lib/python3.7/site-packages/sklearn/metrics/classification.py:1437: UndefinedMetricWarning: Precision is ill-defined and being set to 0.0 in labels with no predicted samples.\n",
      "  'precision', 'predicted', average, warn_for)\n",
      "/opt/anaconda3/lib/python3.7/site-packages/sklearn/metrics/classification.py:1437: UndefinedMetricWarning: Precision is ill-defined and being set to 0.0 in labels with no predicted samples.\n",
      "  'precision', 'predicted', average, warn_for)\n",
      "/opt/anaconda3/lib/python3.7/site-packages/sklearn/metrics/classification.py:1437: UndefinedMetricWarning: Precision is ill-defined and being set to 0.0 in labels with no predicted samples.\n",
      "  'precision', 'predicted', average, warn_for)\n",
      "/opt/anaconda3/lib/python3.7/site-packages/sklearn/metrics/classification.py:1437: UndefinedMetricWarning: Precision is ill-defined and being set to 0.0 in labels with no predicted samples.\n",
      "  'precision', 'predicted', average, warn_for)\n",
      "/opt/anaconda3/lib/python3.7/site-packages/sklearn/metrics/classification.py:1437: UndefinedMetricWarning: Precision is ill-defined and being set to 0.0 in labels with no predicted samples.\n",
      "  'precision', 'predicted', average, warn_for)\n",
      "/opt/anaconda3/lib/python3.7/site-packages/sklearn/metrics/classification.py:1437: UndefinedMetricWarning: Precision is ill-defined and being set to 0.0 in labels with no predicted samples.\n",
      "  'precision', 'predicted', average, warn_for)\n",
      "/opt/anaconda3/lib/python3.7/site-packages/sklearn/metrics/classification.py:1437: UndefinedMetricWarning: Precision is ill-defined and being set to 0.0 in labels with no predicted samples.\n",
      "  'precision', 'predicted', average, warn_for)\n",
      "/opt/anaconda3/lib/python3.7/site-packages/sklearn/metrics/classification.py:1437: UndefinedMetricWarning: Precision is ill-defined and being set to 0.0 in labels with no predicted samples.\n",
      "  'precision', 'predicted', average, warn_for)\n",
      "/opt/anaconda3/lib/python3.7/site-packages/sklearn/metrics/classification.py:1437: UndefinedMetricWarning: Precision is ill-defined and being set to 0.0 in labels with no predicted samples.\n",
      "  'precision', 'predicted', average, warn_for)\n",
      "/opt/anaconda3/lib/python3.7/site-packages/sklearn/metrics/classification.py:1437: UndefinedMetricWarning: Precision is ill-defined and being set to 0.0 in labels with no predicted samples.\n",
      "  'precision', 'predicted', average, warn_for)\n",
      "/opt/anaconda3/lib/python3.7/site-packages/sklearn/metrics/classification.py:1437: UndefinedMetricWarning: Precision is ill-defined and being set to 0.0 in labels with no predicted samples.\n",
      "  'precision', 'predicted', average, warn_for)\n",
      "/opt/anaconda3/lib/python3.7/site-packages/sklearn/metrics/classification.py:1437: UndefinedMetricWarning: Precision is ill-defined and being set to 0.0 in labels with no predicted samples.\n",
      "  'precision', 'predicted', average, warn_for)\n"
     ]
    },
    {
     "data": {
      "text/plain": [
       "(array([100, 150, 200, 250, 300, 350, 400]),\n",
       " array([[0.71685606, 0.75264513, 0.75264513],\n",
       "        [0.68795178, 0.679599  , 0.679599  ],\n",
       "        [0.6727319 , 0.69248355, 0.69248355],\n",
       "        [0.68595009, 0.67201718, 0.68629627],\n",
       "        [0.66943382, 0.64911194, 0.65726563],\n",
       "        [0.65297848, 0.63857421, 0.64926496],\n",
       "        [0.75119888, 0.65420715, 0.66191206]]),\n",
       " array([[0.60595805, 0.58637086, 0.65976864],\n",
       "        [0.64164811, 0.62644459, 0.62593828],\n",
       "        [0.58835749, 0.61680481, 0.62484461],\n",
       "        [0.59908231, 0.63468598, 0.65919626],\n",
       "        [0.58564673, 0.59948167, 0.65397021],\n",
       "        [0.57864597, 0.57606005, 0.62054778],\n",
       "        [0.57562594, 0.61029072, 0.61954857]]))"
      ]
     },
     "execution_count": 1746,
     "metadata": {},
     "output_type": "execute_result"
    }
   ],
   "source": [
    "from sklearn.model_selection import learning_curve\n",
    "\n",
    "learning_curve(svmL, X_train, y_train, train_sizes = np.array([100, 150, 200, 250, 300, 350, 400]), scoring = 'precision_weighted')\n"
   ]
  },
  {
   "cell_type": "code",
   "execution_count": null,
   "metadata": {},
   "outputs": [],
   "source": []
  },
  {
   "cell_type": "markdown",
   "metadata": {},
   "source": [
    "<H3> Other classification models were tried but were less successful at classifying surgeons."
   ]
  },
  {
   "cell_type": "code",
   "execution_count": 2047,
   "metadata": {},
   "outputs": [
    {
     "name": "stdout",
     "output_type": "stream",
     "text": [
      "Accuracy Score: 0.5143884892086331\n",
      "Confusion Matrix: \n",
      "[[  6  25   1]\n",
      " [ 50 133  30]\n",
      " [  6  23   4]]\n"
     ]
    }
   ],
   "source": [
    "from sklearn.ensemble import RandomForestClassifier\n",
    "\n",
    "#tune random forest parameters\n",
    "rfc = RandomForestClassifier(n_estimators=30, random_state=24, class_weight = {1:148000, 2:0.0033, 3:100000})\n",
    "\n",
    "#fit RF classifier\n",
    "rfc.fit(X_train, y_train)\n",
    "\n",
    "rfc_pred = rfc.predict(X_test)\n",
    "\n",
    "#show results\n",
    "print(f'Accuracy Score: {accuracy_score(y_test, rfc_pred)}')\n",
    "print(f'Confusion Matrix: \\n{confusion_matrix(y_test, rfc_pred)}')"
   ]
  },
  {
   "cell_type": "code",
   "execution_count": 2073,
   "metadata": {},
   "outputs": [
    {
     "name": "stdout",
     "output_type": "stream",
     "text": [
      "Accuracy Score: 0.5814023067260476\n",
      "Confusion Matrix: \n",
      "[[  8  19   5]\n",
      " [ 62 108  43]\n",
      " [  2  23   8]]\n"
     ]
    }
   ],
   "source": [
    "from imblearn.over_sampling import SMOTE\n",
    "\n",
    "#use SMOTE to upsample the minority classes\n",
    "sm = SMOTE(sampling_strategy = 'not majority', random_state=20)\n",
    "X_train, y_train = sm.fit_sample(X_train, y_train)\n",
    "\n",
    "#git a random forest classifier\n",
    "smote = RandomForestClassifier(n_estimators=90, random_state=24, class_weight = {1:18000, 2:0.0032, 3:140}).fit(X_train, y_train)\n",
    "\n",
    "smote_pred = smote.predict(X_test)\n",
    "\n",
    "#show results\n",
    "print(f'Accuracy Score: ' + str(precision_score(y_test, smote_pred, average = 'weighted')))\n",
    "print(f'Confusion Matrix: \\n{confusion_matrix(y_test, smote_pred)}')"
   ]
  },
  {
   "cell_type": "code",
   "execution_count": 2018,
   "metadata": {},
   "outputs": [],
   "source": [
    "from sklearn.naive_bayes import GaussianNB\n",
    "\n",
    "#try implementing model with gaussian naive bayes algorithm\n",
    "gnb = GaussianNB()\n",
    "\n",
    "gnb.fit(X_train, y_train)\n",
    "\n",
    "Y_pred_GNB = gnb.predict(X_test)"
   ]
  },
  {
   "cell_type": "code",
   "execution_count": 2019,
   "metadata": {},
   "outputs": [
    {
     "name": "stdout",
     "output_type": "stream",
     "text": [
      "Accuracy Score: 0.7661870503597122\n",
      "Confusion Matrix: \n",
      "[[  0  32   0]\n",
      " [  0 213   0]\n",
      " [  0  33   0]]\n"
     ]
    }
   ],
   "source": [
    "print(f'Accuracy Score: {accuracy_score(y_test, Y_pred_GNB)}')\n",
    "print(f'Confusion Matrix: \\n{confusion_matrix(y_test, Y_pred_GNB)}')"
   ]
  },
  {
   "cell_type": "code",
   "execution_count": 2074,
   "metadata": {},
   "outputs": [],
   "source": [
    "from sklearn.naive_bayes import ComplementNB\n",
    "\n",
    "#try implementing model with complement naive bayes algorithm\n",
    "cnb = ComplementNB()\n",
    "\n",
    "cnb.fit(X_train, y_train)\n",
    "\n",
    "Y_pred_CNB = cnb.predict(X_test)"
   ]
  },
  {
   "cell_type": "code",
   "execution_count": 2075,
   "metadata": {},
   "outputs": [
    {
     "name": "stdout",
     "output_type": "stream",
     "text": [
      "Accuracy Score: 0.3489208633093525\n",
      "Confusion Matrix: \n",
      "[[18  7  7]\n",
      " [63 64 86]\n",
      " [14  4 15]]\n"
     ]
    }
   ],
   "source": [
    "print(f'Accuracy Score: {accuracy_score(y_test, Y_pred_CNB)}')\n",
    "print(f'Confusion Matrix: \\n{confusion_matrix(y_test, Y_pred_CNB)}')"
   ]
  },
  {
   "cell_type": "markdown",
   "metadata": {},
   "source": [
    "<H3>Linear regression shows a very low value of R^2, bolstering the decision to use a classification scheme."
   ]
  },
  {
   "cell_type": "code",
   "execution_count": 2520,
   "metadata": {},
   "outputs": [
    {
     "data": {
      "text/plain": [
       "LinearRegression(copy_X=True, fit_intercept=True, n_jobs=None, normalize=False)"
      ]
     },
     "execution_count": 2520,
     "metadata": {},
     "output_type": "execute_result"
    }
   ],
   "source": [
    "from sklearn import linear_model\n",
    "from sklearn import preprocessing\n",
    "\n",
    "#assign independent and dependent variables\n",
    "X = L_Surg_Data[['Gender', 'Med Year', '# Problem Cases', 'Hospital Score', 'Foreign Med', 'Thoracic Cert']]\n",
    "Y = L_Surg_Data['% Negative Outcome']\n",
    "\n",
    "#rescale model inputs\n",
    "X = preprocessing.StandardScaler().fit(X).transform(X.astype(float))\n",
    "\n",
    "regr = linear_model.LinearRegression()\n",
    "\n",
    "regr.fit(X, Y)"
   ]
  },
  {
   "cell_type": "code",
   "execution_count": 2521,
   "metadata": {},
   "outputs": [
    {
     "name": "stdout",
     "output_type": "stream",
     "text": [
      "Coefficients:\n",
      "Gender: 0.19\n",
      "Med Year: 0.42\n",
      "# Problem Cases: -0.13\n",
      "Hospital Score: -0.73\n",
      "Foreign Med: -0.03\n",
      "Thoracic Cert: 0.17\n",
      "R^2:  0.0096\n"
     ]
    }
   ],
   "source": [
    "#prints the regression coefficients and R^2 score\n",
    "print('Coefficients:')\n",
    "print('Gender: ' + str(round(regr.coef_[0], 2)))\n",
    "print('Med Year: ' + str(round(regr.coef_[1], 2)))\n",
    "print('# Problem Cases: ' + str(round(regr.coef_[2], 2)))\n",
    "print('Hospital Score: ' + str(round(regr.coef_[3], 2)))\n",
    "print('Foreign Med: ' + str(round(regr.coef_[4], 2)))\n",
    "print('Thoracic Cert: ' + str(round(regr.coef_[5], 2)))\n",
    "print('R^2: ', round(regr.score(X, Y), 4))"
   ]
  },
  {
   "cell_type": "markdown",
   "metadata": {},
   "source": [
    "<H3>Exploratory analysis using only surgeons with a more certain negative outcome rate (more cases used to calculate it) shows a worse outcome for linear regression."
   ]
  },
  {
   "cell_type": "code",
   "execution_count": 2526,
   "metadata": {},
   "outputs": [],
   "source": [
    "L_Surg_Data2 = L_Surg_Data[L_Surg_Data['# Problem Cases'] > 35]"
   ]
  },
  {
   "cell_type": "code",
   "execution_count": 2464,
   "metadata": {},
   "outputs": [
    {
     "data": {
      "image/png": "[encoded data removed]",
      "text/plain": [
       "<Figure size 432x288 with 1 Axes>"
      ]
     },
     "metadata": {
      "needs_background": "light"
     },
     "output_type": "display_data"
    }
   ],
   "source": [
    "sns.boxplot(data = (L_Surg_Data2[L_Surg_Data2['Med School'].str.contains('Foreign')]['% Negative Outcome'],\n",
    "                    L_Surg_Data2[L_Surg_Data2['Med School'].str.contains('Foreign')==False]['% Negative Outcome']),\n",
    "            orient = 'v')\n",
    "plt.xlabel('Medical School')\n",
    "plt.ylabel('% Negative Outcome')\n",
    "plt.xticks(ticks  = [0,1], labels = ['Foreign', 'Domestic'])\n",
    "plt.title('Lung Surgery')\n",
    "\n",
    "plt.figure(figsize = [10.5, 3.5])\n",
    "\n",
    "plt.subplot(1,2,1)plt.show()"
   ]
  },
  {
   "cell_type": "code",
   "execution_count": 2493,
   "metadata": {},
   "outputs": [
    {
     "data": {
      "image/png": "[encoded data removed]",
      "text/plain": [
       "<Figure size 756x252 with 2 Axes>"
      ]
     },
     "metadata": {
      "needs_background": "light"
     },
     "output_type": "display_data"
    }
   ],
   "source": [
    "plt.figure(figsize = [10.5, 3.5])\n",
    "\n",
    "plt.subplot(1,2,1)\n",
    "sns.regplot(L_Surg_Data2['Hospital Score'], L_Surg_Data2['% Negative Outcome'], scatter_kws={'s':2})\n",
    "\n",
    "plt.subplot(1,2,2)\n",
    "sns.regplot(L_Surg_Data2['Hospital Score'], L_Surg_Data2['% Negative Outcome'], order = 3, scatter_kws={'s':2})\n",
    "\n",
    "plt.show()"
   ]
  },
  {
   "cell_type": "code",
   "execution_count": 2491,
   "metadata": {},
   "outputs": [
    {
     "data": {
      "image/png": "[encoded data removed]",
      "text/plain": [
       "<Figure size 756x252 with 2 Axes>"
      ]
     },
     "metadata": {
      "needs_background": "light"
     },
     "output_type": "display_data"
    }
   ],
   "source": [
    "plt.figure(figsize = [10.5, 3.5])\n",
    "\n",
    "plt.subplot(1,2,1)\n",
    "sns.regplot(L_Surg_Data2['Med Year'], L_Surg_Data2['% Negative Outcome'], scatter_kws={'s':2})\n",
    "\n",
    "plt.subplot(1,2,2)\n",
    "sns.regplot(L_Surg_Data2['Med Year'], L_Surg_Data2['% Negative Outcome'], order = 2, scatter_kws={'s':2})\n",
    "\n",
    "plt.show()"
   ]
  },
  {
   "cell_type": "code",
   "execution_count": 2527,
   "metadata": {},
   "outputs": [
    {
     "data": {
      "text/plain": [
       "LinearRegression(copy_X=True, fit_intercept=True, n_jobs=None, normalize=False)"
      ]
     },
     "execution_count": 2527,
     "metadata": {},
     "output_type": "execute_result"
    }
   ],
   "source": [
    "X2 = L_Surg_Data2[['Gender', 'Med Year', '# Problem Cases', 'Hospital Score', 'Foreign Med', 'Thoracic Cert']]\n",
    "Y2 = L_Surg_Data2['% Negative Outcome']\n",
    "\n",
    "X2 = preprocessing.StandardScaler().fit(X2).transform(X2.astype(float))\n",
    "\n",
    "regr2 = linear_model.LinearRegression()\n",
    "\n",
    "regr2.fit(X2, Y2)"
   ]
  },
  {
   "cell_type": "code",
   "execution_count": 2528,
   "metadata": {},
   "outputs": [
    {
     "name": "stdout",
     "output_type": "stream",
     "text": [
      "Coefficients:\n",
      "Gender: 0.06\n",
      "Med Year: 0.37\n",
      "# Problem Cases: 0.13\n",
      "Hospital Score: -0.74\n",
      "Foreign Med: -0.11\n",
      "Thoracic Cert: -0.16\n",
      "R^2:  0.0065\n"
     ]
    }
   ],
   "source": [
    "#prints the regression coefficients and R^2 score\n",
    "print('Coefficients:')\n",
    "print('Gender: ' + str(round(regr2.coef_[0], 2)))\n",
    "print('Med Year: ' + str(round(regr2.coef_[1], 2)))\n",
    "print('# Problem Cases: ' + str(round(regr2.coef_[2], 2)))\n",
    "print('Hospital Score: ' + str(round(regr2.coef_[3], 2)))\n",
    "print('Foreign Med: ' + str(round(regr2.coef_[4], 2)))\n",
    "print('Thoracic Cert: ' + str(round(regr2.coef_[5], 2)))\n",
    "print('R^2: ', round(regr2.score(X, Y), 4))"
   ]
  },
  {
   "cell_type": "code",
   "execution_count": null,
   "metadata": {},
   "outputs": [],
   "source": []
  },
  {
   "cell_type": "code",
   "execution_count": 978,
   "metadata": {},
   "outputs": [],
   "source": [
    "L_Hosp_data.to_csv('/Users/matthewowen/Desktop/Insight/L_Hospital_Scores.csv')"
   ]
  },
  {
   "cell_type": "code",
   "execution_count": 725,
   "metadata": {},
   "outputs": [],
   "source": [
    "L_Hosp_data2.to_csv('/Users/matthewowen/A_Cut_Above_App/L_hosps.csv')"
   ]
  },
  {
   "cell_type": "code",
   "execution_count": 8,
   "metadata": {},
   "outputs": [],
   "source": [
    "#dictionary that relates hospitals designated in the surgeon dataframe\n",
    "#to the same hospital in the hospital dataframe\n",
    "hosp_replace = {\n",
    "    'Southcoast Hospitals-Fall River, New Bedford and Wareham' : 'Southcoast Health Systems',\n",
    "    'South Shore Hospital-South Weymouth' : 'South Shore Hospital',\n",
    "    'North Shore Medical Center-Salem' : 'North Shore Medical Center (Salem)',\n",
    "    'St. Vincent Hospital-Worcester' : 'St. Vincent Hospital (Worcester)',\n",
    "    'UMass Memorial HealthAlliance-Clinton Hospital' : 'HealthAlliance Hospital',\n",
    "    'Mercy Medical Center-Springfield' : 'Mercy Medical Center (Springfield)',\n",
    "    'Good Samaritan Medical Center-Brockton' : 'Steward Good Samaritan Medical Center',\n",
    "    'St. Elizabeth\\'s Medical Center-Brighton' : 'St. Elizabeth\\'s Medical Center (Boston)',\n",
    "    'Holy Family Hospital': 'Holy Family Hospital at Merrimack Valley',\n",
    "    'University of Alabama at Birmingham Hospital' : 'UAB Hospital',\n",
    "    'Brookwood Baptist Medical Center' : 'Brookwood Medical Center',\n",
    "    'Southeast Health Medical Center' : 'Southeast Alabama Medical Center',\n",
    "    'Grandview Medical Center-Birmingham' : 'Grandview Medical Center/Southview Medical Center',\n",
    "    'Riverview Regional Medical Center-Gadsden' : 'Riverview Regional Medical Center',\n",
    "    'DCH Regional Medical Center' : 'DCH Regional/Northport Medical Center',\n",
    "    'Springhill Memorial Hospital' : 'Springhill Medical Center',\n",
    "    'St. Vincent\\'s Birmingham Hospital' : 'St. Vincent\\'s Birmingham',\n",
    "    'Providence Hospital-Mobile' : 'Providence Hospital (Mobile)',\n",
    "    'Marshall Medical Center South' : 'Marshall Medical Center (Guntersville)',\n",
    "    'St. Vincent\\'s East Hospital' : 'St. Vincent\\'s East',\n",
    "    'RMC Anniston' : 'Northeast Alabama Regional Medical Center',\n",
    "    'Jackson Hospital and Clinic' : 'Jackson Hospital (Montgomery)',\n",
    "    'Mayo Clinic-Phoenix' : 'Mayo Clinic Hospital',\n",
    "    'Banner University Medical Center Tucson' : 'Banner-University Medical Center',\n",
    "    'TMC Healthcare-Tucson' : 'Tucson Medical Center',\n",
    "    'HonorHealth Deer Valley Medical Center' : 'John C. Lincoln Deer Valley Hospital',\n",
    "    'HonorHealth John C. Lincoln Medical Center' : 'John C. Lincoln North Mountain Hospital',\n",
    "    'HonorHealth Scottsdale Shea Medical Center' : 'Shea Medical Center',\n",
    "    'Carondelet St. Mary\\'s Hospital' : 'St. Mary\\s Hospital (Tucson)',\n",
    "    'HonorHealth Scottsdale Osborn Medical Center' : 'Osborn Medical Center',\n",
    "    'Northwest Medical Center-Tucson' : 'Northwest Medical Center (Tucson)',\n",
    "    'CHI St. Vincent Infirmary' : 'St. Vincent Infirmary Medical Center',\n",
    "    'CHI St. Vincent Hot Springs Hospital' : 'St. Joseph\\'s Mercy Hot Springs',\n",
    "    'Mercy Hospital Rogers' : 'Mercy Hospital Northwest Arkansas',\n",
    "    'UAMS Medical Center' : 'University of Arkansas for Medical Sciences Medical Center',\n",
    "    'Baptist Health Medical Center-Little Rock' : 'Baptist Health Medical Center Little Rock',\n",
    "    'Baptist Health Medical Center-North Little Rock' : 'Baptist Health Medical Center North Little Rock',\n",
    "    'Unity Health White County Medical Center' : 'White County Medical Center',\n",
    "    'Northwest Medical Center-Springdale' : 'Northwest Medical Center (Bentonville)',\n",
    "    'Keck Medical Center of USC' : 'Keck Hospital of USC',\n",
    "    'Scripps La Jolla Hospitals' : 'Scripps Memorial Hospital La Jolla',\n",
    "    'UCI Medical Center' : 'University of California Irvine Medical Center',\n",
    "    'Huntington Memorial Hospital' : 'Huntington Hospital (Pasadena)',\n",
    "    'Stanford Health Care-Stanford Hospital' : 'Stanford University Hospital',\n",
    "    'John Muir Health-Walnut Creek Medical Center' : 'John Muir Medical Center - Walnut Creek Campus',\n",
    "    'MemorialCare Long Beach Medical Center' : 'Long Beach Memorial Medical Center',\n",
    "    'UC San Diego Health-Jacobs Medical Center' : 'UCSD Medical Center',\n",
    "    'Mission Hospitals-Mission Viejo and Laguna Beach' : 'Mission Hospital',\n",
    "    'John Muir Health-Concord Medical Center' : 'John Muir Medical Center - Concord Campus',\n",
    "    'Henry Mayo Newhall Hospital' : 'Henry Mayo Newhall Memorial Hospital',\n",
    "    'MemorialCare Saddleback Memorial Medical Center' : 'Saddleback Memorial Medical Center',\n",
    "    'MemorialCare Orange Coast Memorial Medical Center' : 'Orange Coast Memorial Medical Center',\n",
    "    'Adventist Health-Glendale' : 'Glendale Adventist Medical Center',\n",
    "    'City of Hope Comprehensive Cancer Center' : 'City of Hope',\n",
    "    'Providence Little Company of Mary Medical Center Torrance' : 'Providence Little Company of Mary (Torrance)',\n",
    "    'Mills-Peninsula Health Services-Burlingame' : 'Mills-Peninsula Medical Center',\n",
    "    'Good Samaritan Hospital-Los Angeles' : 'Good Samaritan Hospital (Los Angeles)',\n",
    "    'Washington Hospital-Fremont' : 'Washington Hospital',\n",
    "    'Fountain Valley Regional Hospital and Medical Center' : 'Fountain Valley Regional Hospital',\n",
    "    'Memorial Medical Center-Modesto' : 'Memorial Medical Center (Modesto)',\n",
    "    'Scripps Memorial Hospital-Encinitas' : 'Scripps Memorial Hospital Encinitas',\n",
    "    'St. Joseph Hospital-Orange' : 'St. Joseph Hospital (Orange)',\n",
    "    'Alta Bates Summit Medical Center-Oakland' : 'Alta Bates Summit Medical Center - Summit Campus',\n",
    "    'Stanford Health Care-ValleyCare' : 'ValleyCare Medical Center',\n",
    "    'Palomar Medical Center Escondido' : 'Palomar Medical Center',\n",
    "    'Alta Bates Summit Medical Center-Berkeley' : 'Alta Bates Summit Medical Center - Alta Bates Campus',\n",
    "    'Community Memorial Hospital-Ventura' : 'Community Memorial Hospital (Ventura)',\n",
    "    'San Antonio Regional Hospital' : 'San Antonio Community Hospital',\n",
    "    'St. Joseph Hospital-Eureka' : 'St. Joseph Hospital (Eureka)',\n",
    "    'Emanuel Medical Center-Turlock' : 'Emanuel Medical Center',\n",
    "    'Doctors Medical Center of Modesto' : 'Doctors Medical Center',\n",
    "    'O\\'Connor Hospital-San Jose' : 'O\\'Connor Hospital',\n",
    "    'Glendale Memorial Hospital and Health Center' : 'Glendale Memorial Hospital',\n",
    "    'Citrus Valley Medical Center-Inter Community Campus' : 'Citrus Valley Medical Center',\n",
    "    'Salinas Valley Memorial Healthcare System' : 'Salinas Valley Memorial Hospital',\n",
    "    'Palomar Medical Center Poway' : 'Palomar Medical Center',\n",
    "    'St. Agnes Medical Center' : 'Saint Agnes Medical Center',\n",
    "    'Loma Linda University Medical Center-Murrieta' : 'Loma Linda University Medical Center - Murrieta',\n",
    "    'St. Mary\\'s Medical Center-San Francisco' : 'St. Mary\\'s Medical Center (San Francisco)',\n",
    "    'Mercy Medical Center Merced' : 'Mercy Medical Center (Merced)',\n",
    "    'Marshall Medical Center-Placerville' : 'Marshall Medical Center (Placerville)',\n",
    "    'Kaweah Delta Medical Center' : 'Kaweah Delta Hospital',\n",
    "    'Good Samaritan Hospital-San Jose' : 'Good Samaritan Hospital (San Jose)',\n",
    "    'St. Joseph\\'s Medical Center-Stockton' : 'St. Joseph\\'s Medical Center',\n",
    "    'Marian Regional Medical Center' : 'Marian Medical Center',\n",
    "    'UCHealth University of Colorado Hospital' : 'University of Colorado Hospital',\n",
    "    'UCHealth Poudre Valley Hospital' : 'Poudre Valley Hospital',\n",
    "    'Boulder Community Health' : 'Boulder Community Foothills Hospital',\n",
    "    'SCL Health Saint Joseph Hospital' : 'Saint Joseph Hospital (Denver)',\n",
    "    'Presbyterian-St. Luke\\'s Medical Center' : 'Presbyterian/St. Luke\\'s Medical Center',\n",
    "    'UCHealth Memorial Hospital' : 'Memorial Hospital (Colorado Springs)',\n",
    "    'UCHealth Medical Center of the Rockies' : 'Medical Center of the Rockies',\n",
    "    'Penrose-St. Francis Health Services-Colorado Springs' : 'Penrose Hospital/St. Francis Medical Center',\n",
    "    'SCL Health Lutheran Medical Center' : 'Lutheran Medical Center (Wheat Ridge)',\n",
    "    'SCL Health Good Samaritan Medical Center' : 'Good Samaritan Medical Center (Lafayette)',\n",
    "    'St. Mary\\'s Hospital and Medical Center' : 'St. Mary\\'s Medical Center (Grand Junction)',\n",
    "    'St. Anthony Hospital-Lakewood' : 'St. Anthony Hospital (Lakewood)',\n",
    "    'Yale New Haven Hospital' : 'Yale-New Haven Hospital',\n",
    "    'UConn John Dempsey Hospital' : 'University of Connecticut Health Center - John Dempsey Hospital',\n",
    "    'St. Francis Hospital and Medical Center' : 'Saint Francis Hospital and Medical Center',\n",
    "    'St. Mary\\'s Hospital-Waterbury' : 'Saint Mary\\'s Hospital',\n",
    "    'Manchester Memorial Hospital-Connecticut' : 'Manchester Memorial Hospital',\n",
    "    'Christiana Care Hospitals' : 'Christiana Hospital/Wilmington Hospital',\n",
    "    'Beebe Healthcare-Lewes' : 'Beebe Medical Center',\n",
    "    'Cleveland Clinic Weston' : 'Cleveland Clinic Florida',\n",
    "    'AdventHealth Orlando' : 'Florida Hospitals',\n",
    "    'Mayo Clinic-Jacksonville' : 'Mayo Clinic',\n",
    "    'Baptist Medical Center Jacksonville' : 'Baptist Medical Center',\n",
    "    'Baptist Hospital of Miami' : 'Baptist Hospital',\n",
    "    'St. Joseph\\'s Hospital-Tampa' : 'St. Joseph\\'s Hospital (Tampa)',\n",
    "    'University of Miami Hospital and Clinics–UHealth Tower' : 'University of Miami Hospital',\n",
    "    'Jackson Health System-Miami' : 'Jackson Memorial Hospital',\n",
    "    'Lakeland Regional Health Medical Center' : 'Lakeland Regional Medical Center',\n",
    "    'Doctors Hospital-Coral Gables' : 'Doctors Hospital (Coral Gables)',\n",
    "    'Holy Cross Hospital-Fort Lauderdale' : 'Holy Cross Hospital (Fort Lauderdale)',\n",
    "    'Health First Holmes Regional Medical Center' : 'Holmes Regional Medical Center',\n",
    "    'Tallahassee Memorial Healthcare' : 'Tallahassee Memorial HealthCare',\n",
    "    'AdventHealth Wesley Chapel' : 'Florida Hospital Wesley Chapel',\n",
    "    'Cleveland Clinic Martin Heath' : 'Martin Memorial Medical Center',\n",
    "    'AdventHealth DeLand' : 'Florida Hospital DeLand',\n",
    "    'St. Vincent\\'s Medical Center Clay County' : 'St. Vincent\\'s Medical Center Southside',\n",
    "    'AdventHealth Zephyrhills' : 'Florida Hospital Zephyrhills',\n",
    "    'Health First Viera Hospital' : 'Viera Hospital',\n",
    "    'Health First Cape Canaveral Hospital' : 'Cape Canaveral Hospital',\n",
    "    'NCH Baker Hospital' : 'NCH Hospitals',\n",
    "    'Halifax Health Medical Center of Daytona Beach' : 'Halifax Health Medical Center',\n",
    "    'Gulf Coast Regional Medical Center' : 'Gulf Coast Medical Center (Panama City)',\n",
    "    'AdventHealth Waterman' : 'Florida Hospital Waterman',\n",
    "    'Florida Hospital Heartland Medical Center' : 'Florida Hospital Heartland/Florida Hospital Lake Placid',\n",
    "    'Health First Palm Bay Hospital' : 'Palm Bay Hospital',\n",
    "    'Cleveland Clinic Indian River Hospital' : 'Indian River Medical Center',\n",
    "    'Rockledge Regional Medical Center' : 'Wuesthoff Medical Center - Rockledge',\n",
    "    'Northwest Medical Center-Margate' : 'Northwest Medical Center (Margate)',\n",
    "    'Physicians Regional-Pine Ridge Hospital' : 'Physicians Regional Medical Center',\n",
    "    'Venice Regional Bayfront Hospital' : 'Venice Regional Bayfront Health',\n",
    "    'Sacred Heart Hospital Pensacola' : 'Sacred Heart Hospital (Pensacola)',\n",
    "    'Northside Hospital-St. Petersburg' : 'Northside Hospital (St Petersburg)',\n",
    "    'AdventHealth Fish Memorial' : 'Florida Hospital Fish Memorial',\n",
    "    'Good Samaritan Medical Center-West Palm Beach' : 'Good Samaritan Medical Center (West Palm Beach)',\n",
    "    'Sacred Heart Health System-Bay Medical Center' : 'Bay Medical Center',\n",
    "    'Citrus Memorial Health System-Inverness' : 'Citrus Memorial Hospital',\n",
    "    'Piedmont Atlanta Hospital' : 'Piedmont Hospital',\n",
    "    'Northside Hospital-Atlanta' : 'Northside Hospital (Atlanta)',\n",
    "    'University Hospital-Augusta' : 'University Hospital (Augusta)',\n",
    "    'Piedmont Athens Regional Medical Center' : 'Athens Regional Medical Center',\n",
    "    'WellStar West Georgia Medical Center' : 'West Georgia Medical Center',\n",
    "    'Grady Memorial Hospital-Atlanta' : 'Grady Memorial Hospital (Atlanta)',\n",
    "    'Northside Hospital-Forsyth' : 'Northside Hospital - Forsyth',\n",
    "    'Northside Hospital-Cherokee' : 'Northside Hospital - Cherokee',\n",
    "    'St. Joseph\\'s Hospital-Savannah' : 'St. Joseph\\'s Hospital (Savannah)',\n",
    "    'WellStar Atlanta Medical Center' : 'Atlanta Medical Center',\n",
    "    'St. Mary\\'s Health Care System-Athens' : 'St. Mary\\'s Hospital (Athens)',\n",
    "    'Southeast Georgia Health System Brunswick Campus' : 'Southeast Georgia Health System - Brunswick Campus',\n",
    "    'Tanner Medical Center-Carrollton' : 'Tanner Medical Center - Carrollton',\n",
    "    'WellStar Spalding Regional Hospital' : 'Spalding Regional Hospital',\n",
    "    'St. Francis Hospital-Columbus' : 'St. Francis Hospital (Columbus)',\n",
    "    'Doctor\\'s Hospital-Augusta' : 'Doctors Hospital of Augusta',\n",
    "    'Piedmont Rockdale Hospital' : 'Rockdale Medical Center',\n",
    "    'Piedmont Columbus Regional Midtown' : 'The Medical Center (Columbus)',\n",
    "    'Emory Decatur Hospital' : 'DeKalb Medical Center at North Decatur',\n",
    "    'Straub Medical Center' : 'Straub Clinic and Hospital',\n",
    "    'Kootenai Health-Coeur D\\'Alene' : 'Kootenai Medical Center',\n",
    "    'NorthShore University HealthSystem-Metro Chicago' : 'NorthShore University Health System',\n",
    "    'John H. Stroger Jr. Hospital of Cook County' : 'John H. Stroger, Jr. Hospital of Cook County',\n",
    "    'Elmhurst Hospital' : 'Elmhurst Memorial Hospital',\n",
    "    'Amita Health Adventist Medical Center-Hinsdale' : 'AMITA Adventist Medical Center, Hinsdale',\n",
    "    'Northwestern Medicine Lake Forest Hospital' : 'Northwestern Lake Forest Hospital',\n",
    "    'Northwestern Medicine Central DuPage Hospital' : 'Central DuPage Hospital',\n",
    "    'Amita Saints Mary and Elizabeth Medical Center Chicago' : 'Presence Saints Mary and Elizabeth Medical Center',\n",
    "    'OSF Healthcare St. Francis Medical Center' : 'OSF St. Francis Medical Center',\n",
    "    'Memorial Medical Center-Springfield' : 'Memorial Medical Center (Springfield)',\n",
    "    'Amita Health Elk Grove Village' : 'AMITA Health Alexian Brothers Medical Center, Elk Grove Village',\n",
    "    'Amita Health St. Joseph Medical Center Joliet' : 'Presence St. Joseph Medical Center',\n",
    "    'Amita Health Adventist La Grange Medical Center' : 'AMITA Adventist Medical Center, La Grange',\n",
    "    'Northwestern Medicine Delnor Hospital' : 'Delnor Hospital',\n",
    "    'MercyHealth Hospital-Rockton Avenue' : 'Mercy Health',\n",
    "    'SSM Health Good Samaritan Hospital' : 'SMS Health Good Samaritan - Mount Vernon',\n",
    "    'UnityPoint Health-Peoria' : 'UnityPoint Health - Methodist',\n",
    "    'Riverside Medical Center-Kankakee' : 'Riverside Medical Center(Kankakee)',\n",
    "    'Memorial Hospital-Belleville' : 'Memorial Hospital (Belleville)',\n",
    "    'Amita Health Resurrection Medical Center Chicago' : 'Presence Resurrection Medical Center',\n",
    "    'Centegra Hospital-McHenry' : 'Centegra Hospital - McHenry',\n",
    "    'Loyola Medicine MacNeal Hospital' : 'MacNeal Hospital',\n",
    "    'Little Company of Mary Hospital and Health Care Centers' : 'Little Company of Mary Hospital',\n",
    "    'Loyola Medicine Gottlieb Memorial Hospital' : 'Gottlieb Memorial Hospital',\n",
    "    'HSHS St. Elizabeth\\'s Hospital' : 'St. Elizabeth\\'s Hospital',\n",
    "    'Amita Health Mercy Medical Center Aurora' : 'Presence Mercy Medical Center',\n",
    "    'OSF Heart of Mary Medical Center' : 'OSF St. Mary Medical Center',\n",
    "    'Indiana University Health Ball Memorial Hospital' : 'IU Health Ball Memorial Hospital',\n",
    "    'Indiana University Health Bloomington Hospital' : 'IU Health Bloomington Hospital',\n",
    "    'Indiana University Health West Hospital' : 'IU Health West Hospital',\n",
    "    'Indiana University Health Medical Center' : 'IU Health University Hospital',\n",
    "    'Indiana University Health Arnett Hospital' : 'IU Health Arnett Hospital',\n",
    "    'Community Hospital of Anderson and Madison County' : 'Community Hospital Anderson',\n",
    "    'St. Vincent Indianapolis Hospital' : 'St. Vincent Hospital (Indianapolis)',\n",
    "    'Hendricks Regional Health-Danville' : 'Hendricks Regional Health',\n",
    "    'St. Mary Medical Center-Hobart' : 'St. Mary Medical Center (Hobart)',\n",
    "    'Union Hospital-Terre Haute' : 'Union Hospital (Terre Haute)',\n",
    "    'Reid Health-Richmond' : 'Reid Hospital',\n",
    "    'Good Samaritan Hospital-Vincennes' : 'Good Samaritan Hospital (Vincennes)',\n",
    "    'Baptist Health Floyd' : 'Floyd Memorial Hospital',\n",
    "    'Franciscan Health Lafayette East' : 'Franciscan St. Elizabeth Health - Lafayette East',\n",
    "    'St. Vincent Medical Center of Evansville' : 'St. Mary\\'s Medical Center (Evansville)',\n",
    "    'Porter Regional Hospital' : 'Porter Memorial Hospital',\n",
    "    'Franciscan Health Hammond' : 'Franciscan St. Margaret Health - Hammond Campus',\n",
    "    'Franciscan Health Indianapolis' : 'Fransiscan St. Francis Health Indianapolis',\n",
    "    'Franciscan Health Crown Point' : 'Franciscan St. Anthony Health - Crown Point',\n",
    "    'Franciscan Health Michigan City' : 'Franciscan St. Anthony Health - Michigan City',\n",
    "    'Mercy Medical Center-Dubuque' : 'Mercy Medical Center - Dubuque',\n",
    "    'UnityPoint Health-St. Luke\\'s Hospital' : 'St. Luke\\'s Hospital (Cedar Rapids)',\n",
    "    'UnityPoint Health-Iowa Methodist Medical Center' : 'Iowa Methodist Medical Center',\n",
    "    'Mercy Medical Center-North Iowa' : 'Mercy Medical Center - North Iowa',\n",
    "    'Mercy Medical Center-Cedar Rapids' : 'Mercy Medical Center - Cedar Rapids',\n",
    "    'MercyOne Des Moines Medical Center' : 'Mercy Medical Center (Des Moines)',\n",
    "    'MercyOne Siouxland Medical Center' : 'Mercy Medical Center - Sioux City',\n",
    "    'Genesis Medical Center-Davenport-West Central Park' : 'Genesis Medical Center',\n",
    "    'UnityPoint Health-Iowa Lutheran Hospital' : 'Iowa Lutheran Hospital',\n",
    "    'MercyOne Waterloo Medical Center' : 'Covenant Medical Center (Waterloo)',\n",
    "    'Mercy Iowa City Hospital' : 'Mercy Hospital of Iowa City',\n",
    "    'Great River Health System-West Burlington' : 'Great River Medical Center',\n",
    "    'Methodist Jennie Edmundson Hospital' : 'Jennie Edmundson Hospital',\n",
    "    'UnityPoint Health-Finley Hospital' : 'The Finley Hospital',\n",
    "    'Stormont Vail Hospital' : 'Stormont-Vail Regional Health Center',\n",
    "    'St. Luke\\'s South Hospital' : 'Saint Luke\\'s South Hospital',\n",
    "    'Wesley Healthcare Center' : 'Wesley Medical Center',\n",
    "    'Providence Medical Center-Kansas City' : 'Providence Medical Center (Kansas City)',\n",
    "    'Via Christi Hospital on St. Francis' : 'Via Christi Hospital',\n",
    "    'LMH Health-Lawrence' : 'Lawrence Memorial Hospital',\n",
    "    'University of Kentucky Albert B. Chandler Hospital' : 'UK HealthCare',\n",
    "    'St. Elizabeth Fort Thomas Hospital' : 'St. Elizabeth Fort Thomas',\n",
    "    'St. Joseph East Hospital' : 'Saint Joseph East',\n",
    "    'St. Elizabeth Florence Hospital' : 'St. Elizabeth Florence',\n",
    "    'CHI St. Joseph Health-Lexington' : 'Saint Joseph Hospital (Lexington)',\n",
    "    'St. Elizabeth Healthcare Edgewood-Covington Hospitals' : 'St. Elizabeth',\n",
    "    'Norton Hospital' : 'Norton Healthcare',\n",
    "    'Hardin Memorial Health-Elizabethtown' : 'Hardin Memorial Health (Elizabethtown)',\n",
    "    'Owensboro Health Regional Hospital' : 'Owensboro Health',\n",
    "    'Mercy Health-Lourdes Hospital' : 'Lourdes Hospital - Paducah',\n",
    "    'Medical Center at Bowling Green' : 'The Medical Center (Bowling Green)',\n",
    "    'King\\'s Daughters Medical Center-Ashland' : 'King\\'s Daughters Medical Center (Ashland)',\n",
    "    'Christus St. Frances Cabrini Hospital' : 'CHRISTUS St. Frances Cabrini Hospital',\n",
    "    'Tulane Health System-New Orleans' : 'Tulane Medical Center',\n",
    "    'Ochsner Medical Center-Kenner' : 'Ochsner Medical Center - Kenner',\n",
    "    'Ochsner Medical Center-North Shore' : 'Ochsner Medical Center - North Shore',\n",
    "    'Ochsner Medical Center-Baton Rouge' : 'Ochsner Medical Center',\n",
    "    'St. Francis Medical Center-Monroe' : 'St. Francis Medical Center (Monroe)',\n",
    "    'Christus Ochsner St. Patrick Hospital Southwest Louisiana' : 'CHRISTUS St. Patrick Hosptial',\n",
    "    'Christus Health Shreveport-Bossier' : 'University Health Shreveport',\n",
    "    'Opelousas General Hospital' : 'Opelousas General Health System',\n",
    "    'Mercy Medical Center-Baltimore' : 'Mercy Medical Center (Baltimore)',\n",
    "    'MedStar Good Samaritan Hospital' : 'Good Samaritan Hospital (Baltimore)',\n",
    "    'University of Maryland Baltimore Washington Medical Center' : 'Baltimore Washington Medical Center',\n",
    "    'Adventist Healthcare Shady Grove Medical Center' : 'Shady Grove Adventist Hospital',\n",
    "    'Holy Cross Hospital-Silver Spring' : 'Holy Cross Hospital (Silver Spring)',\n",
    "    'MedStar Union Memorial Hospital' : 'Union Memorial Hospital',\n",
    "    'Franklin Square Medical Center' : 'Franklin Square Hospital Center',\n",
    "    'St. Agnes Hospital-Baltimore' : 'St. Agnes Hospital (Baltimore)',\n",
    "    'MedStar Montgomery Medical Center' : 'Montgomery General Hospital',\n",
    "    'University of Maryland Upper Chesapeake Medical Center' : 'Upper Chesapeake Medical Center',\n",
    "    'Adventist Healthcare Washington Adventist Hospital' : 'Washington Adventist Hospital',\n",
    "    'Frederick Regional Hospital' : 'Frederick Memorial Hospital',\n",
    "    'Beaumont Hospital-Royal Oak' : 'Beaumont Hospital Royal Oak',\n",
    "    'DMC Harper University Hospital' : 'DMC Harper/DMC Hutzel',\n",
    "    'Beaumont Hospital-Grosse Pointe' : 'Beaumont Hospital Grosse Pointe',\n",
    "    'Beaumont Hospital-Troy' : 'Beaumont Hospital Troy',\n",
    "    'Spectrum Health-Butterworth and Blodgett Campuses' : 'Spectrum Health',\n",
    "    'McLaren Northern Michigan Hospital' : 'McLaren Northern Michigan',\n",
    "    'Mercy Health St. Mary\\'s Campus' : 'Mercy Health St. Mary\\'s',\n",
    "    'Covenant Healthcare-Saginaw' : 'Covenant Medical Center (Saginaw)',\n",
    "    'Beaumont Hospital-Dearborn' : 'Beaumont Hospital - Dearborn',\n",
    "    'Ascension Providence Hospital-Southfield' : 'Providence Hospital (Southfield)',\n",
    "    'St. Joseph Mercy Ann Arbor Hospital' : 'St. Joseph Mercy Hospital',\n",
    "    'St. Joseph Mercy Oakland Hospital' : 'St. Joseph Mercy Oakland',\n",
    "    'MidMichigan Medical Center-Midland' : 'MidMichigan Medical Center - Midland',\n",
    "    'DMC-Detroit Receiving Hospital' : 'DMC Detroit Receiving Hospital',\n",
    "    'Beaumont Hospital-Trenton' : 'Beaumont Hospital - Trenton',\n",
    "    'St. Mary\\'s of Michigan Hospital' : 'St. Mary\\'s of Michigan - Saginaw',\n",
    "    'DMC-Sinai-Grace Hospital' : 'DMC Sinai-Grace Hospital',\n",
    "    'Beaumont Hospital-Wayne' : 'Beaumont Hospital -Wayne',\n",
    "    'Ascension Crittenton Hospital Medical Center' : 'Crittenton Hospital Medical Center',\n",
    "    'Henry Ford Macomb Hospitals' : 'Henry Ford Macomb Hospital',\n",
    "    'McLaren Macomb Hospital' : 'McLaren Macomb',\n",
    "    'St. John Macomb-Oakland Hospital' : 'St. John Macomb/Oakland Hospitals',\n",
    "    'Beaumont Hospital-Farmington Hills' : 'Beaumont Hospital, Farmington Hills',\n",
    "    'Bronson Battle Creek Hospital' : 'Bronson Battle Creek',\n",
    "    'McLaren Flint Hospital' : 'McLaren Flint',\n",
    "    'McLaren Port Huron Hospital' : 'McLaren Port Huron',\n",
    "    'UP Health System-Marquette' : 'UP Health System Marquette',\n",
    "    'McLaren Bay Region Hospital' : 'McLaren Bay Region',\n",
    "    'McLaren Lapeer Region Hospital' : 'McLaren Lapeer Region',\n",
    "    'Metro Health-University of Michigan Health-Wyoming' : 'Metro Health Hospital',\n",
    "    'McLaren Greater Lansing Hospital' : 'McLaren Greater Lansing',\n",
    "    'Mercy Hospital-Coon Rapids' : 'Mercy Hospital (Coon Rapids)',\n",
    "    'Essentia Health-St. Mary\\'s Medical Center' : 'Essentia Health St. Mary\\'s Medical Center',\n",
    "    'Mayo Clinic Mankato' : 'Mayo Clinic Health System Mankato',\n",
    "    'Hennepin Healthcare-Minneapolis' : 'Hennepin County Medical Center',\n",
    "    'Mayo Clinic Health System-Albert Lea and Austin' : 'Mayo Clinic Albert Lea Medical Center',\n",
    "    'North Memorial Health Hospital' : 'North Memorial Medical Center',\n",
    "    'St. Luke\\'s Hospital-Duluth' : 'St. Luke\\'s Hospital (Duluth)',\n",
    "    'Lake Region Healthcare-Fergus Falls' : 'Lake Regional Health System',\n",
    "    'Essentia Health-St. Joseph\\'s Medical Center' : 'Essentia Health St. Joseph\\'s Medical Center',\n",
    "    'Baptist Memorial Hospital-Desoto' : 'Baptist Memorial Hospital - DeSoto',\n",
    "    'Baptist Memorial Hospital-North Mississippi' : 'Baptist Memorial Hospital - North Mississippi',\n",
    "    'North Mississippi Medical Center-Tupelo' : 'North Mississippi Medical Center - Tupelo',\n",
    "    'Singing River Health System-Pascagoula' : 'Ocean Springs Hospital/Singing River Hospital',\n",
    "    'Baptist Memorial Hospital-Golden Triangle' : 'Baptist Memorial Hospital - Golden Triangle',\n",
    "    'St. Luke\\'s North Hospital-Barry Road' : 'Saint Luke\\'s North Hospital - Barry Road',\n",
    "    'St. Luke\\'s Hospital of Kansas City' : 'Saint Luke\\'s Hospital of Kansas City',\n",
    "    'St. Luke\\'s East Hospital' : 'Saint Luke\\'s East Hospital',\n",
    "    'St. Luke\\'s Hospital-Chesterfield' : 'St. Luke\\'s Hospital (Chesterfield)',\n",
    "    'SSM Health DePaul Hospital-St. Louis' : 'SSM DePaul Health Center',\n",
    "    'SSM Health St. Louis University Hospital' : 'SSM Health Saint Louis University Hospital',\n",
    "    'SSM Health St. Joseph Hospital-Lake St. Louis' : 'SSM St. Joseph Hospital West',\n",
    "    'CoxHealth Springfield' : 'Cox Medical Center',\n",
    "    'Freeman Health System-Joplin' : 'Freeman Hospital West',\n",
    "    'SSM Health St. Mary\\'s Hospital-St. Louis' : 'SSM St. Mary\\'s Health Center',\n",
    "    'SSM Health St. Clare Hospital-Fenton' : 'SSM St. Clare Health Center',\n",
    "    'Christian Hospital' : 'Christian Northeast Hospital',\n",
    "    'St. Joseph Medical Center-Kansas City' : 'St. Joseph Medical Center (Kansas City)',\n",
    "    'St. Francis Healthcare System-Cape Girardeau' : 'St. Francis Medical Center (Cape Girardeau)',\n",
    "    'University of Missouri Health Care-Columbia' : 'University of Missouri Hospital',\n",
    "    'Lake Regional Health System-Osage Beach' : 'Lake Regional Health System',\n",
    "    'Southeast Hospital' : 'Southeast Missouri Hospital',\n",
    "    'Benefis Health System-Great Falls' : 'Benefis Healthcare - East Campus',\n",
    "    'Kalispell Regional Healthcare' : 'Kalispell Regional Medical Center',\n",
    "    'St. Vincent Healthcare-Billings' : 'St. Vincent Healthcare',\n",
    "    'St. Peter\\'s Hospital-Helena' : 'St. Peter\\'s Hospital (Helena)',\n",
    "    'Nebraska Medicine-Nebraska Medical Center' : 'The Nebraska Medical Center',\n",
    "    'CHI Health St Elizabeth' : 'CHI Health St. Elizabeth',\n",
    "    'Creighton University Medical Center-Bergan Mercy' : 'CHI Health Bergan Mercy',\n",
    "    'Bryan Medical Center' : 'BryanLGH Medical Center',\n",
    "    'Faith Regional Health Services-Norfolk' : 'Faith Regional Health Services',\n",
    "    'Great Plains Health-North Platte' : 'Great Plains Regional Medical Center (North Platte)',\n",
    "    'St. Mary\\'s Regional Medical Center-Reno' : 'Saint Mary\\'s Regional Medical Center',\n",
    "    'St. Rose Dominican Hospitals-San Martin Campus' : 'St. Rose Dominican Hospitals - San Martin Campus',\n",
    "    'St. Rose Dominican Hospitals-Siena Campus' : 'St. Rose Dominican Hospitals - Siena Campus',\n",
    "    'Carson Tahoe Health-Carson City' : 'Carson Tahoe Regional Medical Center',\n",
    "    'St. Joseph Hospital-Nashua' : 'St. Joseph Hospital (Nashua)',\n",
    "    'Morristown Medical Center' : 'Morristown Memorial Hospital',\n",
    "    'St. Peter\\'s University Hospital' : 'Saint Peter\\'s University Hospital',\n",
    "    'St. Barnabas Medical Center' : 'Saint Barnabas Medical Center',\n",
    "    'Hackensack Meridian Health Southern Ocean Medical Center' : 'Southern Ocean Medical Center',\n",
    "    'Hackensack Meridian Health Ocean Medical Center' : 'Ocean Medical Center',\n",
    "    'St. Luke\\'s Hospital-Warren Campus' : 'St. Luke\\'s Warren Campus',\n",
    "    'Hackensack Meridian Health Raritan Bay Medical Center' : 'Raritan Bay Medical Center',\n",
    "    'Penn Medicine Princeton Medical Center' : 'University Medical Center of Princeton at Plainsboro',\n",
    "    'Hackensack Meridian Health Mountainside Medical Center' : 'HackensackUMC Mountainside',\n",
    "    'Virtua Voorhees Hospital' : 'Virtua Berlin/Voorhees',\n",
    "    'Monmouth Medical Center-Long Branch Campus' : 'Monmouth Medical Center',\n",
    "    'Virtua Memorial Hospital' : 'Virtua Memorial',\n",
    "    'Hackensack Meridian Health Bayshore Medical Center' : 'Bayshore Community Hospital',\n",
    "    'Hackensack Meridian Health Riverview Medical Center' : 'Riverview Medical Center',\n",
    "    'Hackensack Meridian Health Palisades Medical Center' : 'HackensackUMC Palisades',\n",
    "    'Community Medical Center-Toms River' : 'Community Medical Center (Toms River)',\n",
    "    'Inspira Medical Center-Vineland' : 'Inspira Medical Center Vineland',\n",
    "    'Inspira Medical Center-Woodbury' : 'Inspira Medical Center Woodbury',\n",
    "    'Hackensack Meridian Health JFK Medical Center' : 'JFK Medical Center (Edison)',\n",
    "    'Robert Wood Johnson University Hospital at Hamilton' : 'Robert Wood Johnson University Hospital Hamilton',\n",
    "    'Capital Health Medical Center-Hopewell' : 'Capital Health Medical Center - Hopewell',\n",
    "    'Newton Medical Center-New Jersey' : 'Newton Medical Center',\n",
    "    'Cooper University Health Care-Camden' : 'Cooper University Hospital',\n",
    "    'Cape Regional Health System-Cape May Court House' : 'Cape Regional Medical Center',\n",
    "    'St. Clare\\'s Denville Hospital' : 'St. Clare\\'s Hospital',\n",
    "    'University of New Mexico Hospitals' : 'University of New Mexico Hospital',\n",
    "    'Memorial Medical Center-Las Cruces' : 'Memorial Medical Center of Las Cruces',\n",
    "    'New York-Presbyterian Hospital-Columbia and Cornell' : 'NewYork-Presbyterian',\n",
    "    'NYU Langone Hospitals' : 'NYU Langone Medical Center',\n",
    "    'St. Francis Hospital-Roslyn' : 'St. Francis Hospital (Roslyn)',\n",
    "    'NYU Winthrop Hospital' : 'Winthrop University Hospital',\n",
    "    'Mount Sinai Beth Israel Hospital' : 'Mount Sinai Beth Israel Medical Center - Petrie Division',\n",
    "    'Stony Brook University Hospital' : 'Stony Brook University Medical Center',\n",
    "    'New York-Presbyterian-Hudson Valley Hospital' : 'New York-Presbyterian Hudson Valley Hospital',\n",
    "    'Phelps Memorial Hospital Center' : 'Phelps Hospital',\n",
    "    'Mather Hospital' : 'John T. Mather Memorial Hospital',\n",
    "    'New York-Presbyterian Queens Hospital' : 'New York-Presbyterian/Queens',\n",
    "    'University of Vermont Health Network-Champlain Valley Physicians Hospital' : 'Champlain Valley Physicians Hospital Medical Center',\n",
    "    'St. Peter\\'s Hospital-Albany' : 'St. Peter\\'s Hospital (Albany)',\n",
    "    'Roswell Park Comprehensive Cancer Center' : 'Roswell Park Cancer Institute',\n",
    "    'St. Joseph Hospital-Bethpage' : 'St. Joseph\\'s Hospital (Bethpage)',\n",
    "    'NYC Health and Hospitals-Kings County' : 'Kings County Hospital Center',\n",
    "    'Long Island Community Hospital' : 'Brookhaven Memorial Hospital Medical Center',\n",
    "    'Sisters of Charity Hospital of Buffalo' : 'CHS Sisters of Charity Hospital',\n",
    "    'Faxton St. Luke\\'s Healthcare-Utica' : 'Faxton-St. Luke\\'s Healthcare',\n",
    "    'Our Lady of Lourdes Memorial Hospital' : 'Our Lady of Lourdes Medical Center',\n",
    "    'Mercy Hospital-Buffalo' : 'Mercy Hospital of Buffalo',\n",
    "    'Good Samaritan Regional Medical Center-Suffern' : 'Good Samaritan Hospital (Suffern)',\n",
    "    'Bassett Medical Center' : 'Mary Imogene Bassett Hospital',\n",
    "    'University of North Carolina Hospitals' : 'University of North Carolina Hospital',\n",
    "    'UNC Rex Hospital' : 'Rex Hospital',\n",
    "    'FirstHealth Moore Regional Hospital' : 'FirstHealth Hospitals',\n",
    "    'Moses H. Cone Memorial Hospital' : 'Cone Health',\n",
    "    'Novant Health Forsyth Medical Center' : 'Forsyth Medical Center',\n",
    "    'Mission Hospital-Asheville' : 'Mission St. Joseph\\'s Health System',\n",
    "    'Carolinas Healthcare Northeast' : 'Carolinas Medical Center NorthEast',\n",
    "    'Wake Forest Baptist Health-High Point Medical Center' : 'High Point Regional Health System',\n",
    "    'WakeMed Health and Hospitals-Raleigh Campus' : 'WakeMed Raleigh Campus',\n",
    "    'Nash Health Care Systems' : 'Nash General Hospital',\n",
    "    'Iredell Health System-Statesville' : 'Iredell Memorial Hospital',\n",
    "    'Carolinas Healthcare System Union' : 'Carolinas Medical Center Union',\n",
    "    'Carolinas Healthcare System Blue Ridge' : 'Carolinas HealthCare Blue Ridge Morganton',\n",
    "    'Johnston Health-Smithfield' : 'Johnston Memorial Hospital (Smithfield)',\n",
    "    'Wayne UNC Health Care-Goldsboro' : 'Wayne Memorial Hospital (Goldsboro)',\n",
    "    'Southeastern Health-Lumberton' : 'Southeastern Regional Medical Center',\n",
    "    'Margaret R. Pardee Memorial Hospital' : 'Pardee Hospital',\n",
    "    'Carteret Health Care Medical Center' : 'Carteret General Hospital',\n",
    "    'Sentara Albemarle Medical Center' : 'Sentara Albemarle Hospital',\n",
    "    'UNC Lenoir Healthcare-Kinston' : 'Lenoir Memorial Hospital',\n",
    "    'Cleveland Clinic Hillcrest Hospital' : 'Hillcrest Hospital',\n",
    "    'Cleveland Clinic Fairview Hospital' : 'Fairview Hospital (Cleveland)',\n",
    "    'Ohio State University Wexner Medical Center' : 'The Ohio State University Hospital',\n",
    "    'OhioHealth Riverside Methodist Hospital' : 'Riverside Methodist Hospital',\n",
    "    'Cleveland Clinic Akron General' : 'Akron General Medical Center',\n",
    "    'Summa Health-Akron Campus' : 'Summa Akron City Hospital',\n",
    "    'Cleveland Clinic South Pointe Hospital' : 'South Pointe Hospital',\n",
    "    'ProMedica Toledo Hospital' : 'The Toledo Hospital',\n",
    "    'St. John Medical Center-Westlake' : 'St. John Medical Center (Westlake)',\n",
    "    'Good Samaritan Hospital-Cincinnati' : 'Good Samaritan Hospital (Cincinnati)',\n",
    "    'Cleveland Clinic Medina Hospital' : 'Medina General Hospital',\n",
    "    'Mount Carmel East and West Hospitals' : 'Mount Carmel Hospital',\n",
    "    'Sycamore Medical Center' : 'Kettering Medical Center - Sycamore',\n",
    "    'OhioHealth Grant Medical Center' : 'Grant Medical Center',\n",
    "    'Mercy Health-St. Elizabeth Boardman Hospital' : 'St. Elizabeth Boardman Health Center',\n",
    "    'OhioHealth Dublin Methodist Hospital' : 'Dublin Methodist Hospital',\n",
    "    'Cleveland Clinic Marymount Hospital' : 'Marymount Hospital',\n",
    "    'Mercy Medical Center-Canton' : 'Mercy Medical Center (Canton)',\n",
    "    'Grandview Medical Center-Dayton' : 'Grandview Medical Center/Southview Medical Center',\n",
    "    'Mercy Health-Anderson Hospital' : 'Mercy Health - Anderson Hospital',\n",
    "    'Mercy Health-St. Vincent Medical Center' : 'Mercy St. Vincent Medical Center',\n",
    "    'Trinity Health System-Steubenville' : 'Trinity Hospital',\n",
    "    'Firelands Regional Health System-Sandusky' : 'Firelands Regional Medical Center',\n",
    "    'Lima Memorial Hospital' : 'Lima Memorial Health System',\n",
    "    'Atrium Medical Center-Middletown' : 'Atrium Medical Center',\n",
    "    'Adena Medical Center' : 'Adena Regional Medical Center',\n",
    "    'Mercy Health-St. Charles Hospital' : 'Mercy St. Charles Hospital',\n",
    "    'Mercy Health-Fairfield Hospital' : 'Mercy Hospital Fairfield',\n",
    "    'ProMedica Flower Hospital' : 'Flower Hospital',\n",
    "    'St. Luke\\'s Hospital-Maumee' : 'St. Luke\\'s Hospital (Maumee)',\n",
    "    'Lake Health-TriPoint Medical Center' : 'Lake Health Medical Center',\n",
    "    'Mercy Health-Clermont Hospital' : 'Mercy Hospital Clermont',\n",
    "    'Jewish Hospital-Mercy Health' : 'Jewish Hospital',\n",
    "    'Mercy Health-Lorain Hospital' : 'Mercy Regional Medical Center (Lorain)',\n",
    "    'Mercy Health Springfield Regional Medical Center' : 'Springfield Regional Medical Center',\n",
    "    'UPMC Presbyterian Shadyside' : 'UPMC Braddock/Montegiore,Presbyterian/Shadyside',\n",
    "    'Jefferson Health-Thomas Jefferson University Hospitals' : 'Thomas Jefferson University Hospital/Methodist Hospital',\n",
    "    'Hospitals of the University of Pennsylvania-Penn Presbyterian' : 'Hospital of the University of Pennsylvania',\n",
    "    'Penn State Health Milton S. Hershey Medical Center' : 'Penn State Milton S. Hershey Medical Center',\n",
    "    'Jefferson Health-Abington Hospital' : 'Abington Memorial Hospital',\n",
    "    'Excela Latrobe Area Hospital' : 'Excela Latrobe Hospital',\n",
    "    'Washington Hospital-Pennsylvania' : 'The Washington Hospital',\n",
    "    'St. Mary Medical Center-Langhorne' : 'St. Mary Medical Center (Langhorne)',\n",
    "    'Einstein Medical Center Philadelphia' : 'Einstein Medical Center',\n",
    "    'St. Luke\\'s Hospital-Anderson Campus' : 'St. Luke\\'s Hospital Anderson Campus',\n",
    "    'Guthrie Robert Packer Hospital' : 'Robert Packer Hospital',\n",
    "    'St. Vincent Hospital-Erie' : 'Saint Vincent Health Center',\n",
    "    'Excela Health Westmoreland Hospital' : 'Excela Westmoreland Hospital',\n",
    "    'Butler Health System-Butler Memorial Hospital' : 'Butler Memorial Hospital',\n",
    "    'Grand View Health-Sellersville' : 'Grand View Hospital (Sellersville)',\n",
    "    'UPMC Williamsport' : 'Williamsport Regional Medical Center',\n",
    "    'Pottstown Hospital' : 'Pottstown Memorial Medical Center',\n",
    "    'Heritage Valley Sewickley Hospital' : 'Heritage Valley Sewickley',\n",
    "    'Lehigh Valley Hospital-Pocono' : 'Lehigh Valley Hospital',\n",
    "    'Jefferson Health-Abington-Lansdale Hospital' : 'Abington Health Lansdale Hospital',\n",
    "    'Sharon Regional Medical Center' : 'Sharon Regional Health System',\n",
    "    'Penn Highlands DuBois Hospital' : 'Penn Highlands DuBois',\n",
    "    'Heritage Valley Health System-Beaver' : 'Heritage Valley Beaver',\n",
    "    'Baylor Scott and White Medical Center–Hillcrest' : 'Baylor Scott and White Medical Center - Hillcrest',\n",
    "    'Baylor Scott and White Medical Center–Waxahachie' : 'Baylor Scott and White Medical Center - Waxahachie',\n",
    "    'Baylor Scott and White Medical Center–Irving' : 'Baylor Scott and White Medical Center - Irving',\n",
    "    'Baylor Scott and White Medical Center-Round Rock' : 'Baylor Scott and White Medical Center - Round Rock',\n",
    "    'Baylor Scott and White Medical Center–Grapevine' : 'Baylor Regional Medical Center at Grapevine',\n",
    "    'Memorial Hermann-Texas Medical Center' : 'Memorial Hermann Memorial City Medical Center',\n",
    "    'Parkland Health and Hospital System-Dallas' : 'Parkland Health and Hospital System',\n",
    "    'UT Southwestern Medical Center' : 'UT Southwestern University Hospital St. Paul',\n",
    "    'Houston Methodist Sugar Land Hospital' : 'Methodist Sugar Land Hospital',\n",
    "    'Texas Health Presbyterian Hospital Plano' : 'Texas Health Presbyterian Hospital of Plano',\n",
    "    'Medical City Plano' : 'Medical Center of Plano',\n",
    "    'University of Texas MD Anderson Cancer Center' : 'The University of Texas M. D. Anderson Cancer Center',\n",
    "    'Christus Mother Frances Hospital-Tyler' : 'Mother Frances Hospital',\n",
    "    'Methodist Hospital-San Antonio' : 'Methodist Hospital (San Antonio)',\n",
    "    'Baylor Scott and White Medical Center-Temple' : 'Scott and White Hospital - Temple',\n",
    "    'Texas Health Presbyterian Hospital Dallas' : 'Texas Health Presbyterian Hospital of Dallas',\n",
    "    'Baylor Scott and White All Saints Medical Center–Fort Worth' : 'Baylor Medical Center Fort Worth',\n",
    "    'Ascension Seton Medical Center Austin' : 'Seton Medical Center Austin',\n",
    "    'Christus Spohn Hospital-Corpus Christi' : 'CHRISTUS Spohn Hospital',\n",
    "    'Christus St. Michael Health System-Texarkana' : 'CHRISTUS St. Michael Health System',\n",
    "    'Christus Santa Rosa Health System-San Antonio' : 'CHRISTUS Santa Rosa Hospital',\n",
    "    'West Houston Medical Center' : 'Houston Medical Center',\n",
    "    'United Regional Health Care System-Wichita Falls' : 'United Regional Health Care System',\n",
    "    'Hospitals of Providence Memorial Campus' : 'Providence Memorial Hospital',\n",
    "    'Citizens Medical Center-Victoria' : 'Citizens Medical Center',\n",
    "    'University Medical Center-Lubbock' : 'University Medical Center (Lubbock)',\n",
    "    'Covenant Medical Center-Lubbock' : 'Covenant Medical Center (Lubbock)',\n",
    "    'Medical City Denton' : 'Denton Regional Medical Center',\n",
    "    'Valley Baptist Medical Center-Brownsville' : 'Valley Baptist Medical Center - Brownsville',\n",
    "    'Texas Health Huguley Hospital Fort Worth South' : 'Texas Health Huguley Hospital',\n",
    "    'Ascension Seton Williamson Hospital' : 'Seton Medical Center Williamson',\n",
    "    'Baylor Scott and White Medical Center–College Station' : 'Scott and White Hospital - College Station',\n",
    "    'Baylor Scott and White Medical Center–McKinney' : 'Baylor Medical Center at McKinney',\n",
    "    'Ascension Seton Hays Hospital' : 'Seton Medical Center Hays',\n",
    "    'Baylor Scott and White Medical Center-Lake Pointe' : 'Lake Pointe Medical Center',\n",
    "    'Texas Health Harris Methodist Hospital Hurst-Euless-Bedford' : 'Texas Health Harris Methodist Hospital H-E-B',\n",
    "    'Texas Health Presbyterian Hospital Denton' : 'Texas Health Presbyterian Hospital of Denton',\n",
    "    'Christus Good Shepherd Medical Center-Marshall' : 'Good Shepherd Medical Center - Marshall',\n",
    "    'Medical City Arlington' : 'Medical Center of Arlington',\n",
    "    'Valley Baptist Medical Center-Harlingen' : 'Valley Baptist Medical Center - Harlingen',\n",
    "    'CHI St. Luke\\'s Health-The Woodlands Hospital' : 'St. Luke\\'s The Woodlands Hospital',\n",
    "    'Medical City North Hills' : 'North Hills Hospital',\n",
    "    'Hendrick Health System-Abilene' : 'Hendrick Medical Center',\n",
    "    'Wise Health System-Decatur' : 'Wise Regional Health System - East Campus',\n",
    "    'UT Health Athens' : 'East Texas Medical Center Athens',\n",
    "    'Northwest Texas Healthcare System-Amarillo' : 'Northwest Texas Healthcare System',\n",
    "    'Virginia Mason Medical Center' : 'Virginia Mason Hospital and Medical Center',\n",
    "    'Swedish Medical Center-First Hill' : 'Swedish/First Hill',\n",
    "    'EvergreenHealth Kirkland' : 'EvergreenHealth Medical Center',\n",
    "    'St. Joseph Medical Center-Tacoma' : 'St. Joseph Medical Center (Tacoma)',\n",
    "    'MultiCare Tacoma General Hospital' : 'Allenmore Hospital/Tacoma General Hospital',\n",
    "    'Swedish Issaquah Hospital' : 'Swedish/Issaquah',\n",
    "    'UW Medicine-Northwest Hospital and Medical Center' : 'Northwest Hospital and Medical Center',\n",
    "    'Legacy Salmon Creek Medical Center' : 'Legacy Salmon Creek Hospital',\n",
    "    'Swedish Edmonds Hospital' : 'Swedish/Edmonds',\n",
    "    'Skagit Regional Health-Mount Vernon' : 'Skagit Valley Hospital',\n",
    "    'Confluence Health-Central Washington Hospital' : 'Central Washington Hospital',\n",
    "    'Providence Sacred Heart Medical Center and Children\\'s Hospital' : 'Providence Sacred Heart Medical Center',\n",
    "    'St. Francis Hospital-Federal Way' : 'St. Francis Hospital (Federal Way)',\n",
    "    'Centra Lynchburg General Hospital' : 'Centra Lynchburg General/Centra Virginia Baptist',\n",
    "    'Legacy Good Samaritan Medical Center' : 'Legacy Good Samaritan Hospital and Medical Center',\n",
    "    'Legacy Meridian Park Medical Center' : 'Legacy Meridian Park Hospital',\n",
    "    'PeaceHealth Sacred Heart Medical Center at RiverBend' : 'Sacred Heart Medical Center at RiverBend',\n",
    "    'MUSC Health-University Medical Center' : 'MUSC University Medical Center',\n",
    "    'Roper St. Francis Hospital' : 'Roper Hospital',\n",
    "    'Prisma Health Greenville Memorial Hospital' : 'Greenville Memorial Hospital',\n",
    "    'Spartanburg Medical Center' : 'Spartanburg Regional Medical Center',\n",
    "    'Prisma Health Tuomey Hospital' : 'Palmetto Health Tuomey',\n",
    "    'McLeod Loris Seacoast Hospital' : 'McLeod Loris',\n",
    "    'Grand Strand Regional Medical Center' : 'Grand Strand Medical Center',\n",
    "    'Providence Hospital-Columbia' : 'Providence Hospital (Columbia)',\n",
    "    'St. Francis Hospital-Memphis' : 'Saint Francis Hospital (Memphis)',\n",
    "    'Methodist Hospitals of Memphis' : 'Methodist Healthcare',\n",
    "    'St. Francis Hospital-Bartlett' : 'Saint Francis Hospital Bartlett',\n",
    "    'St. Thomas Rutherford Hospital' : 'Saint Thomas Rutherford Hospital',\n",
    "    'Erlanger Medical Center' : 'Erlanger Health System',\n",
    "    'University of Wisconsin Hospitals' : 'UW Hospital and Clinics',\n",
    "    'Mayo Clinic Eau Claire' : 'Mayo Clinic Health System in Eau Claire',\n",
    "    'ThedaCare Regional Medical Center-Appleton' : 'Appleton Medical Center',\n",
    "    'Ascension Columbia St. Mary\\'s Hospital Milwaukee' : 'Columbia St. Mary\\'s Hospital Milwaukee',\n",
    "    'UnityPoint Health Meriter' : 'Meriter Hospital',\n",
    "    'Wheaton Franciscan Healthcare-St. Francis' : 'Wheaton Franciscan',\n",
    "    'Ascension All Saints Hospital' : 'Wheaton Franciscan Healthcare All Saints',\n",
    "    'Froedtert South-Kenosha Medical Center' : 'United Hospital (Kenosha)',\n",
    "    'Kent County Memorial Hospital' : 'Kent Hospital',\n",
    "    'Utah Valley Hospital' : 'Utah Valley Regional Medical Center'\n",
    "}"
   ]
  },
  {
   "cell_type": "code",
   "execution_count": null,
   "metadata": {},
   "outputs": [],
   "source": []
  }
 ],
 "metadata": {
  "kernelspec": {
   "display_name": "Python 3",
   "language": "python",
   "name": "python3"
  },
  "language_info": {
   "codemirror_mode": {
    "name": "ipython",
    "version": 3
   },
   "file_extension": ".py",
   "mimetype": "text/x-python",
   "name": "python",
   "nbconvert_exporter": "python",
   "pygments_lexer": "ipython3",
   "version": "3.7.4"
  }
 },
 "nbformat": 4,
 "nbformat_minor": 2
}
